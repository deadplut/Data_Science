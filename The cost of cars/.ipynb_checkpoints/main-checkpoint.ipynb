{
 "cells": [
  {
   "cell_type": "markdown",
   "metadata": {},
   "source": [
    "# Определение стоимости автомобилей"
   ]
  },
  {
   "cell_type": "markdown",
   "metadata": {},
   "source": [
    "# Введение\n",
    "\n",
    "Сервис по продаже автомобилей с пробегом «Не бит, не крашен» разрабатывает приложение для привлечения новых клиентов. В нём можно быстро узнать рыночную стоимость своего автомобиля. В распоряжении исторические данные: технические характеристики, комплектации и цены автомобилей. Необходимо построить модель для определения стоимости.\n",
    "\n",
    "Требования заказчика:\n",
    "\n",
    "    - качество предсказания;\n",
    "    - скорость предсказания;\n",
    "    - время обучения.\n",
    "\n",
    "\n",
    "План работы:\n",
    "\n",
    "1. Подготовка данных:\n",
    "        1.1. Открытие и изучиние файлов;\n",
    "        1.2. Предобработка данных;\n",
    "        1.3. Вывод\n",
    "2. Обучение моделей:\n",
    "        2.1. модель1;\n",
    "        2.2. модель2;\n",
    "        2.3. Модель3;\n",
    "3. Анализ скорости и качества моделей:\n",
    "        3.1. Функция для вычисления итоговой sMAPE;\n",
    "        3.2. Обучиние разных моделей и оценка их качества кросс-валидацией; \n",
    "4. Вывод.\n",
    "\n",
    "\n",
    "Описание данных:\n",
    "\n",
    "Признаки:\n",
    "\n",
    "    - DateCrawled — дата скачивания анкеты из базы\n",
    "    - VehicleType — тип автомобильного кузова\n",
    "    - RegistrationYear — год регистрации автомобиля\n",
    "    - Gearbox — тип коробки передач\n",
    "    - Power — мощность (л. с.)\n",
    "    - Model — модель автомобиля\n",
    "    - Kilometer — пробег (км)\n",
    "    - RegistrationMonth — месяц регистрации автомобиля\n",
    "    - FuelType — тип топлива\n",
    "    - Brand — марка автомобиля\n",
    "    - NotRepaired — была машина в ремонте или нет\n",
    "    - DateCreated — дата создания анкеты\n",
    "    - NumberOfPictures — количество фотографий автомобиля\n",
    "    - PostalCode — почтовый индекс владельца анкеты (пользователя)\n",
    "    - LastSeen — дата последней активности пользователя\n",
    "    \n",
    "Целевой признак\n",
    "    - Price — цена (евро)\n",
    "    \n",
    "    \n",
    "<div class=\"toc\"><ul class=\"toc-item\"><li><span><a href=\"#Введение\" data-toc-modified-id=\"Введение-2\">Введение</a></span><ul class=\"toc-item\"><li><span><a href=\"#1.-Подготовка-данных\" data-toc-modified-id=\"1.-Подготовка-данных-2.1\">1. Подготовка данных</a></span><ul class=\"toc-item\"><li><span><a href=\"#1.1-Открытие-и-изучиние-файлов\" data-toc-modified-id=\"1.1-Открытие-и-изучиние-файлов-2.1.1\">1.1 Открытие и изучиние файлов</a></span></li><li><span><a href=\"#1.2.-Предобработка-данных\" data-toc-modified-id=\"1.2.-Предобработка-данных-2.1.2\">1.2. Предобработка данных</a></span></li><li><span><a href=\"#1.3.-Вывод\" data-toc-modified-id=\"1.3.-Вывод-2.1.3\">1.3. Вывод</a></span></li></ul></li><li><span><a href=\"#Обучение-моделей\" data-toc-modified-id=\"Обучение-моделей-2.2\">Обучение моделей</a></span><ul class=\"toc-item\"><li><ul class=\"toc-item\"><li><span><a href=\"#Линейная-регрессия\" data-toc-modified-id=\"Линейная-регрессия-2.2.0.1\">Линейная регрессия</a></span></li><li><span><a href=\"#Дерево-решений\" data-toc-modified-id=\"Дерево-решений-2.2.0.2\">Дерево решений</a></span></li><li><span><a href=\"#Случайный-лес\" data-toc-modified-id=\"Случайный-лес-2.2.0.3\">Случайный лес</a></span></li><li><span><a href=\"#Вывод\" data-toc-modified-id=\"Вывод-2.2.0.4\">Вывод</a></span></li></ul></li></ul></li><li><span><a href=\"#Анализ-моделей\" data-toc-modified-id=\"Анализ-моделей-2.3\">Анализ моделей</a></span><ul class=\"toc-item\"><li><ul class=\"toc-item\"><li><span><a href=\"#Линейная-регрессия\" data-toc-modified-id=\"Линейная-регрессия-2.3.0.1\">Линейная регрессия</a></span></li><li><span><a href=\"#Дерево-решений\" data-toc-modified-id=\"Дерево-решений-2.3.0.2\">Дерево решений</a></span></li><li><span><a href=\"#Случайный-лес\" data-toc-modified-id=\"Случайный-лес-2.3.0.3\">Случайный лес</a></span></li><li><span><a href=\"#LightGBM\" data-toc-modified-id=\"LightGBM-2.3.0.4\">LightGBM</a></span></li></ul></li></ul></li><li><span><a href=\"#Вывод\" data-toc-modified-id=\"Вывод-2.4\">Вывод</a></span></li></ul></li></ul></div>"
   ]
  },
  {
   "cell_type": "markdown",
   "metadata": {},
   "source": [
    "## 1. Подготовка данных\n",
    "### 1.1 Открытие и изучиние файлов"
   ]
  },
  {
   "cell_type": "code",
   "execution_count": 1,
   "metadata": {},
   "outputs": [],
   "source": [
    "import pandas as pd\n",
    "import numpy as np\n",
    "from sklearn.model_selection import train_test_split\n",
    "from catboost import CatBoostRegressor\n",
    "from sklearn.metrics import mean_squared_error\n",
    "\n",
    "from sklearn.linear_model import LinearRegression\n",
    "from lightgbm import LGBMRegressor\n",
    "from sklearn.model_selection import cross_val_score\n",
    "from sklearn.metrics import fbeta_score, make_scorer\n",
    "import matplotlib.pyplot as plt\n",
    "from sklearn.preprocessing import OrdinalEncoder\n",
    "import seaborn as sns\n",
    "from sklearn.preprocessing import StandardScaler\n",
    "from sklearn.ensemble import RandomForestRegressor\n",
    "from sklearn.tree import DecisionTreeRegressor"
   ]
  },
  {
   "cell_type": "code",
   "execution_count": 2,
   "metadata": {},
   "outputs": [
    {
     "name": "stdout",
     "output_type": "stream",
     "text": [
      "<class 'pandas.core.frame.DataFrame'>\n",
      "RangeIndex: 354369 entries, 0 to 354368\n",
      "Data columns (total 16 columns):\n",
      "DateCrawled          354369 non-null object\n",
      "Price                354369 non-null int64\n",
      "VehicleType          316879 non-null object\n",
      "RegistrationYear     354369 non-null int64\n",
      "Gearbox              334536 non-null object\n",
      "Power                354369 non-null int64\n",
      "Model                334664 non-null object\n",
      "Kilometer            354369 non-null int64\n",
      "RegistrationMonth    354369 non-null int64\n",
      "FuelType             321474 non-null object\n",
      "Brand                354369 non-null object\n",
      "NotRepaired          283215 non-null object\n",
      "DateCreated          354369 non-null object\n",
      "NumberOfPictures     354369 non-null int64\n",
      "PostalCode           354369 non-null int64\n",
      "LastSeen             354369 non-null object\n",
      "dtypes: int64(7), object(9)\n",
      "memory usage: 43.3+ MB\n"
     ]
    }
   ],
   "source": [
    "sale = pd.read_csv('/datasets/autos.csv')\n",
    "sale.info()"
   ]
  },
  {
   "cell_type": "code",
   "execution_count": 3,
   "metadata": {},
   "outputs": [
    {
     "data": {
      "text/html": [
       "<div>\n",
       "<style scoped>\n",
       "    .dataframe tbody tr th:only-of-type {\n",
       "        vertical-align: middle;\n",
       "    }\n",
       "\n",
       "    .dataframe tbody tr th {\n",
       "        vertical-align: top;\n",
       "    }\n",
       "\n",
       "    .dataframe thead th {\n",
       "        text-align: right;\n",
       "    }\n",
       "</style>\n",
       "<table border=\"1\" class=\"dataframe\">\n",
       "  <thead>\n",
       "    <tr style=\"text-align: right;\">\n",
       "      <th></th>\n",
       "      <th>DateCrawled</th>\n",
       "      <th>Price</th>\n",
       "      <th>VehicleType</th>\n",
       "      <th>RegistrationYear</th>\n",
       "      <th>Gearbox</th>\n",
       "      <th>Power</th>\n",
       "      <th>Model</th>\n",
       "      <th>Kilometer</th>\n",
       "      <th>RegistrationMonth</th>\n",
       "      <th>FuelType</th>\n",
       "      <th>Brand</th>\n",
       "      <th>NotRepaired</th>\n",
       "      <th>DateCreated</th>\n",
       "      <th>NumberOfPictures</th>\n",
       "      <th>PostalCode</th>\n",
       "      <th>LastSeen</th>\n",
       "    </tr>\n",
       "  </thead>\n",
       "  <tbody>\n",
       "    <tr>\n",
       "      <td>0</td>\n",
       "      <td>2016-03-24 11:52:17</td>\n",
       "      <td>480</td>\n",
       "      <td>NaN</td>\n",
       "      <td>1993</td>\n",
       "      <td>manual</td>\n",
       "      <td>0</td>\n",
       "      <td>golf</td>\n",
       "      <td>150000</td>\n",
       "      <td>0</td>\n",
       "      <td>petrol</td>\n",
       "      <td>volkswagen</td>\n",
       "      <td>NaN</td>\n",
       "      <td>2016-03-24 00:00:00</td>\n",
       "      <td>0</td>\n",
       "      <td>70435</td>\n",
       "      <td>2016-04-07 03:16:57</td>\n",
       "    </tr>\n",
       "    <tr>\n",
       "      <td>1</td>\n",
       "      <td>2016-03-24 10:58:45</td>\n",
       "      <td>18300</td>\n",
       "      <td>coupe</td>\n",
       "      <td>2011</td>\n",
       "      <td>manual</td>\n",
       "      <td>190</td>\n",
       "      <td>NaN</td>\n",
       "      <td>125000</td>\n",
       "      <td>5</td>\n",
       "      <td>gasoline</td>\n",
       "      <td>audi</td>\n",
       "      <td>yes</td>\n",
       "      <td>2016-03-24 00:00:00</td>\n",
       "      <td>0</td>\n",
       "      <td>66954</td>\n",
       "      <td>2016-04-07 01:46:50</td>\n",
       "    </tr>\n",
       "    <tr>\n",
       "      <td>2</td>\n",
       "      <td>2016-03-14 12:52:21</td>\n",
       "      <td>9800</td>\n",
       "      <td>suv</td>\n",
       "      <td>2004</td>\n",
       "      <td>auto</td>\n",
       "      <td>163</td>\n",
       "      <td>grand</td>\n",
       "      <td>125000</td>\n",
       "      <td>8</td>\n",
       "      <td>gasoline</td>\n",
       "      <td>jeep</td>\n",
       "      <td>NaN</td>\n",
       "      <td>2016-03-14 00:00:00</td>\n",
       "      <td>0</td>\n",
       "      <td>90480</td>\n",
       "      <td>2016-04-05 12:47:46</td>\n",
       "    </tr>\n",
       "    <tr>\n",
       "      <td>3</td>\n",
       "      <td>2016-03-17 16:54:04</td>\n",
       "      <td>1500</td>\n",
       "      <td>small</td>\n",
       "      <td>2001</td>\n",
       "      <td>manual</td>\n",
       "      <td>75</td>\n",
       "      <td>golf</td>\n",
       "      <td>150000</td>\n",
       "      <td>6</td>\n",
       "      <td>petrol</td>\n",
       "      <td>volkswagen</td>\n",
       "      <td>no</td>\n",
       "      <td>2016-03-17 00:00:00</td>\n",
       "      <td>0</td>\n",
       "      <td>91074</td>\n",
       "      <td>2016-03-17 17:40:17</td>\n",
       "    </tr>\n",
       "    <tr>\n",
       "      <td>4</td>\n",
       "      <td>2016-03-31 17:25:20</td>\n",
       "      <td>3600</td>\n",
       "      <td>small</td>\n",
       "      <td>2008</td>\n",
       "      <td>manual</td>\n",
       "      <td>69</td>\n",
       "      <td>fabia</td>\n",
       "      <td>90000</td>\n",
       "      <td>7</td>\n",
       "      <td>gasoline</td>\n",
       "      <td>skoda</td>\n",
       "      <td>no</td>\n",
       "      <td>2016-03-31 00:00:00</td>\n",
       "      <td>0</td>\n",
       "      <td>60437</td>\n",
       "      <td>2016-04-06 10:17:21</td>\n",
       "    </tr>\n",
       "  </tbody>\n",
       "</table>\n",
       "</div>"
      ],
      "text/plain": [
       "           DateCrawled  Price VehicleType  RegistrationYear Gearbox  Power  \\\n",
       "0  2016-03-24 11:52:17    480         NaN              1993  manual      0   \n",
       "1  2016-03-24 10:58:45  18300       coupe              2011  manual    190   \n",
       "2  2016-03-14 12:52:21   9800         suv              2004    auto    163   \n",
       "3  2016-03-17 16:54:04   1500       small              2001  manual     75   \n",
       "4  2016-03-31 17:25:20   3600       small              2008  manual     69   \n",
       "\n",
       "   Model  Kilometer  RegistrationMonth  FuelType       Brand NotRepaired  \\\n",
       "0   golf     150000                  0    petrol  volkswagen         NaN   \n",
       "1    NaN     125000                  5  gasoline        audi         yes   \n",
       "2  grand     125000                  8  gasoline        jeep         NaN   \n",
       "3   golf     150000                  6    petrol  volkswagen          no   \n",
       "4  fabia      90000                  7  gasoline       skoda          no   \n",
       "\n",
       "           DateCreated  NumberOfPictures  PostalCode             LastSeen  \n",
       "0  2016-03-24 00:00:00                 0       70435  2016-04-07 03:16:57  \n",
       "1  2016-03-24 00:00:00                 0       66954  2016-04-07 01:46:50  \n",
       "2  2016-03-14 00:00:00                 0       90480  2016-04-05 12:47:46  \n",
       "3  2016-03-17 00:00:00                 0       91074  2016-03-17 17:40:17  \n",
       "4  2016-03-31 00:00:00                 0       60437  2016-04-06 10:17:21  "
      ]
     },
     "execution_count": 3,
     "metadata": {},
     "output_type": "execute_result"
    }
   ],
   "source": [
    "sale.head(5)"
   ]
  },
  {
   "cell_type": "code",
   "execution_count": 4,
   "metadata": {},
   "outputs": [
    {
     "data": {
      "text/plain": [
       "DateCrawled           0.0\n",
       "Price                 0.0\n",
       "VehicleType          10.6\n",
       "RegistrationYear      0.0\n",
       "Gearbox               5.6\n",
       "Power                 0.0\n",
       "Model                 5.6\n",
       "Kilometer             0.0\n",
       "RegistrationMonth     0.0\n",
       "FuelType              9.3\n",
       "Brand                 0.0\n",
       "NotRepaired          20.1\n",
       "DateCreated           0.0\n",
       "NumberOfPictures      0.0\n",
       "PostalCode            0.0\n",
       "LastSeen              0.0\n",
       "dtype: float64"
      ]
     },
     "execution_count": 4,
     "metadata": {},
     "output_type": "execute_result"
    }
   ],
   "source": [
    "(sale.isna().mean()*100).round(1)"
   ]
  },
  {
   "cell_type": "markdown",
   "metadata": {},
   "source": [
    "##### Вывод:\n",
    "В загруженном датасете  имеется 354 370 записей, один целевой признак - Price.\n",
    "\n",
    "Пропуски:\n",
    "    - 10 % - VehicleType\n",
    "    - 5 % - Gearbox\n",
    "    - 5 % - Model\n",
    "    - 9 % - FuelType\n",
    "    - 20 % - NotRepaired\n",
    "    \n",
    "Для последующего анализа необходимо провести предобработку данных: \n",
    "    - решить проблему с пропущенными значениями в столбцах;\n",
    "    - изменить тип данных;\n",
    "    - изменить названия столбцов\n",
    "    - исправить ошибки в данных."
   ]
  },
  {
   "cell_type": "markdown",
   "metadata": {},
   "source": [
    "### 1.2. Предобработка данных\n",
    "##### 1.2.1 Названия столбцов\n",
    "\n",
    "Названия колонок приведены к нижнему регистру для удобства.\n",
    "\n",
    "Удадлены столбцы, не отображающие категиориальные признаки автомобиля: DateCrawled, RegistrationMonth, DateCreated, NumberOfPictures, PostalCode, LastSeen:"
   ]
  },
  {
   "cell_type": "code",
   "execution_count": 5,
   "metadata": {},
   "outputs": [
    {
     "data": {
      "text/plain": [
       "Index(['date_crawled', 'price', 'vehicle_type', 'registration_year', 'gearbox',\n",
       "       'power', 'model', 'kilometer', 'registration_month', 'fuel_type',\n",
       "       'brand', 'not_repaired', 'date_created', 'number_of_pictures',\n",
       "       'postal_code', 'last_seen'],\n",
       "      dtype='object')"
      ]
     },
     "execution_count": 5,
     "metadata": {},
     "output_type": "execute_result"
    }
   ],
   "source": [
    "sale.columns = sale.columns.str.lower()\n",
    "sale.columns = ['date_crawled', 'price', 'vehicle_type', 'registration_year', 'gearbox',\n",
    "       'power', 'model', 'kilometer', 'registration_month', 'fuel_type', 'brand',\n",
    "       'not_repaired', 'date_created', 'number_of_pictures', 'postal_code',\n",
    "       'last_seen']\n",
    "sale.columns"
   ]
  },
  {
   "cell_type": "markdown",
   "metadata": {},
   "source": [
    "##### 1.2.2 Преобработк дат"
   ]
  },
  {
   "cell_type": "code",
   "execution_count": 6,
   "metadata": {},
   "outputs": [],
   "source": [
    "sale['date_created'] = pd.to_datetime(sale['date_created'])\n",
    "sale['date_crawled'] = pd.to_datetime(sale['date_crawled'])\n",
    "sale['last_seen'] = pd.to_datetime(sale['last_seen'])\n",
    "\n"
   ]
  },
  {
   "cell_type": "code",
   "execution_count": 7,
   "metadata": {},
   "outputs": [
    {
     "data": {
      "text/plain": [
       "count                  354369\n",
       "unique                    109\n",
       "top       2016-04-03 00:00:00\n",
       "freq                    13719\n",
       "first     2014-03-10 00:00:00\n",
       "last      2016-04-07 00:00:00\n",
       "Name: date_created, dtype: object"
      ]
     },
     "execution_count": 7,
     "metadata": {},
     "output_type": "execute_result"
    }
   ],
   "source": [
    "sale['date_created'].describe()"
   ]
  },
  {
   "cell_type": "code",
   "execution_count": 8,
   "metadata": {},
   "outputs": [
    {
     "data": {
      "text/plain": [
       "count                  354369\n",
       "unique                 271174\n",
       "top       2016-03-24 14:49:47\n",
       "freq                        7\n",
       "first     2016-03-05 14:06:22\n",
       "last      2016-04-07 14:36:58\n",
       "Name: date_crawled, dtype: object"
      ]
     },
     "execution_count": 8,
     "metadata": {},
     "output_type": "execute_result"
    }
   ],
   "source": [
    "sale['date_crawled'].describe()"
   ]
  },
  {
   "cell_type": "code",
   "execution_count": 9,
   "metadata": {},
   "outputs": [
    {
     "data": {
      "text/plain": [
       "count                  354369\n",
       "unique                 179150\n",
       "top       2016-04-06 13:45:54\n",
       "freq                       17\n",
       "first     2016-03-05 14:15:08\n",
       "last      2016-04-07 14:58:51\n",
       "Name: last_seen, dtype: object"
      ]
     },
     "execution_count": 9,
     "metadata": {},
     "output_type": "execute_result"
    }
   ],
   "source": [
    "sale['last_seen'].describe()"
   ]
  },
  {
   "cell_type": "markdown",
   "metadata": {},
   "source": [
    "Основная активность пользоваться на сервисе март-апрель 2016 года."
   ]
  },
  {
   "cell_type": "markdown",
   "metadata": {},
   "source": [
    "##### 1.2.3 Предобработка цен"
   ]
  },
  {
   "cell_type": "code",
   "execution_count": 10,
   "metadata": {},
   "outputs": [
    {
     "data": {
      "text/plain": [
       "count    354369.000000\n",
       "mean       4416.656776\n",
       "std        4514.158514\n",
       "min           0.000000\n",
       "25%        1050.000000\n",
       "50%        2700.000000\n",
       "75%        6400.000000\n",
       "max       20000.000000\n",
       "Name: price, dtype: float64"
      ]
     },
     "execution_count": 10,
     "metadata": {},
     "output_type": "execute_result"
    }
   ],
   "source": [
    "sale['price'].describe()"
   ]
  },
  {
   "cell_type": "code",
   "execution_count": 11,
   "metadata": {},
   "outputs": [
    {
     "data": {
      "text/plain": [
       "3.0397692800442475"
      ]
     },
     "execution_count": 11,
     "metadata": {},
     "output_type": "execute_result"
    }
   ],
   "source": [
    "sale['price'].loc[(sale['price']==0)].count()*100/354369"
   ]
  },
  {
   "cell_type": "code",
   "execution_count": 12,
   "metadata": {},
   "outputs": [
    {
     "data": {
      "image/png": "[encoded data removed]",
      "text/plain": [
       "<Figure size 432x288 with 1 Axes>"
      ]
     },
     "metadata": {
      "needs_background": "light"
     },
     "output_type": "display_data"
    }
   ],
   "source": [
    "sale['price'].hist()\n",
    "plt.show()"
   ]
  },
  {
   "cell_type": "markdown",
   "metadata": {},
   "source": [
    "Цена при продажах не должна ровняться  0. Процент некорректных данных меньше 5%, поэтому предлагаю их удалить."
   ]
  },
  {
   "cell_type": "code",
   "execution_count": 13,
   "metadata": {},
   "outputs": [],
   "source": [
    "sale = sale.loc[(sale['price']>0)]"
   ]
  },
  {
   "cell_type": "markdown",
   "metadata": {},
   "source": [
    "##### 1.2.4 Год регистрации \n"
   ]
  },
  {
   "cell_type": "code",
   "execution_count": 14,
   "metadata": {},
   "outputs": [
    {
     "data": {
      "text/plain": [
       "count    343597.000000\n",
       "mean       2004.089797\n",
       "std          78.413225\n",
       "min        1000.000000\n",
       "25%        1999.000000\n",
       "50%        2003.000000\n",
       "75%        2008.000000\n",
       "max        9999.000000\n",
       "Name: registration_year, dtype: float64"
      ]
     },
     "execution_count": 14,
     "metadata": {},
     "output_type": "execute_result"
    }
   ],
   "source": [
    "sale['registration_year'].describe()"
   ]
  },
  {
   "cell_type": "code",
   "execution_count": 15,
   "metadata": {},
   "outputs": [
    {
     "data": {
      "text/plain": [
       "array([1980., 2018.])"
      ]
     },
     "execution_count": 15,
     "metadata": {},
     "output_type": "execute_result"
    }
   ],
   "source": [
    "np.percentile(sale['registration_year'],[1,99])"
   ]
  },
  {
   "cell_type": "code",
   "execution_count": 16,
   "metadata": {},
   "outputs": [],
   "source": [
    "sale = sale[(sale['registration_year']>=1980 )& (sale['registration_year']<=2016)]"
   ]
  },
  {
   "cell_type": "code",
   "execution_count": 17,
   "metadata": {},
   "outputs": [
    {
     "data": {
      "text/plain": [
       "count    326652.000000\n",
       "mean       2002.913719\n",
       "std           6.029333\n",
       "min        1980.000000\n",
       "25%        1999.000000\n",
       "50%        2003.000000\n",
       "75%        2007.000000\n",
       "max        2016.000000\n",
       "Name: registration_year, dtype: float64"
      ]
     },
     "execution_count": 17,
     "metadata": {},
     "output_type": "execute_result"
    }
   ],
   "source": [
    "sale['registration_year'].describe()"
   ]
  },
  {
   "cell_type": "markdown",
   "metadata": {},
   "source": [
    "Выброс в годах: значение не может быть равно 1000 или 9999. Поэтому был выбран перцентиль 1% - 1980. Также известно, что данные были выгружены в 2016 году, поэтому данные неудовлтворяющие условию удалены."
   ]
  },
  {
   "cell_type": "markdown",
   "metadata": {},
   "source": [
    "##### 1.2.5 Замена пропусков"
   ]
  },
  {
   "cell_type": "code",
   "execution_count": 18,
   "metadata": {},
   "outputs": [
    {
     "data": {
      "text/plain": [
       "14910"
      ]
     },
     "execution_count": 18,
     "metadata": {},
     "output_type": "execute_result"
    }
   ],
   "source": [
    "sale['model'].isna().sum()"
   ]
  },
  {
   "cell_type": "markdown",
   "metadata": {},
   "source": [
    "Таблица самых популярных моделей для каждого бренда."
   ]
  },
  {
   "cell_type": "code",
   "execution_count": 19,
   "metadata": {},
   "outputs": [
    {
     "data": {
      "text/html": [
       "<div>\n",
       "<style scoped>\n",
       "    .dataframe tbody tr th:only-of-type {\n",
       "        vertical-align: middle;\n",
       "    }\n",
       "\n",
       "    .dataframe tbody tr th {\n",
       "        vertical-align: top;\n",
       "    }\n",
       "\n",
       "    .dataframe thead th {\n",
       "        text-align: right;\n",
       "    }\n",
       "</style>\n",
       "<table border=\"1\" class=\"dataframe\">\n",
       "  <thead>\n",
       "    <tr style=\"text-align: right;\">\n",
       "      <th></th>\n",
       "      <th>brand</th>\n",
       "      <th>top_model</th>\n",
       "    </tr>\n",
       "  </thead>\n",
       "  <tbody>\n",
       "    <tr>\n",
       "      <td>0</td>\n",
       "      <td>alfa_romeo</td>\n",
       "      <td>156</td>\n",
       "    </tr>\n",
       "    <tr>\n",
       "      <td>1</td>\n",
       "      <td>audi</td>\n",
       "      <td>a4</td>\n",
       "    </tr>\n",
       "    <tr>\n",
       "      <td>2</td>\n",
       "      <td>bmw</td>\n",
       "      <td>3er</td>\n",
       "    </tr>\n",
       "    <tr>\n",
       "      <td>3</td>\n",
       "      <td>chevrolet</td>\n",
       "      <td>other</td>\n",
       "    </tr>\n",
       "    <tr>\n",
       "      <td>4</td>\n",
       "      <td>chrysler</td>\n",
       "      <td>other</td>\n",
       "    </tr>\n",
       "  </tbody>\n",
       "</table>\n",
       "</div>"
      ],
      "text/plain": [
       "        brand top_model\n",
       "0  alfa_romeo       156\n",
       "1        audi        a4\n",
       "2         bmw       3er\n",
       "3   chevrolet     other\n",
       "4    chrysler     other"
      ]
     },
     "execution_count": 19,
     "metadata": {},
     "output_type": "execute_result"
    }
   ],
   "source": [
    "top_model = sale.groupby(['brand'])['model'].agg(pd.Series.mode).to_frame()\n",
    "top_model = top_model.rename(columns={'model': 'top_model'})\n",
    "top_model = top_model.reset_index()\n",
    "top_model.head(5)"
   ]
  },
  {
   "cell_type": "code",
   "execution_count": 20,
   "metadata": {},
   "outputs": [
    {
     "data": {
      "text/plain": [
       "date_crawled              0\n",
       "price                     0\n",
       "vehicle_type          19681\n",
       "registration_year         0\n",
       "gearbox               15054\n",
       "power                     0\n",
       "model                     0\n",
       "kilometer                 0\n",
       "registration_month        0\n",
       "fuel_type             23625\n",
       "brand                     0\n",
       "not_repaired          58997\n",
       "date_created              0\n",
       "number_of_pictures        0\n",
       "postal_code               0\n",
       "last_seen                 0\n",
       "dtype: int64"
      ]
     },
     "execution_count": 20,
     "metadata": {},
     "output_type": "execute_result"
    }
   ],
   "source": [
    "sale = sale.merge(top_model, left_on='brand', right_on='brand', how='left')\n",
    "\n",
    "#Замена нулей в столбце model\n",
    "sale['model'] = sale['model'].fillna(sale.top_model)\n",
    "sale['model'] = sale['model'].astype('str')\n",
    "\n",
    "#Кол-во пропусков\n",
    "sale = sale.drop('top_model', axis=1)\n",
    "sale.isna().sum()"
   ]
  },
  {
   "cell_type": "markdown",
   "metadata": {},
   "source": [
    "Нулевые значения заменены на популярные модели каждого бренда"
   ]
  },
  {
   "cell_type": "code",
   "execution_count": 21,
   "metadata": {},
   "outputs": [],
   "source": [
    "columns = ['fuel_type', 'gearbox', 'vehicle_type']\n",
    "for col in columns:\n",
    "    '''Цикл для каждого столбца создаёт таблицу популярных значений, \n",
    "    Таблицу присоединяют к sale,\n",
    "    заменяют пропущенные значения.'''\n",
    "    top_smth = sale.groupby(['model'])[col].agg(pd.Series.mode).to_frame()\n",
    "    top_smth = top_smth.rename(columns={col: 'top'})\n",
    "    top_smth = top_smth.reset_index()\n",
    "    \n",
    "    \n",
    "    sale = sale.merge(top_smth, left_on='model', right_on='model', how='left')\n",
    "    \n",
    "\n",
    "    #Замена нулей в столбце 'vehicle_type'\n",
    "    sale[col] = sale[col].fillna(sale.top)\n",
    "    sale[col] = sale[col].astype('str')\n",
    "\n",
    "    #Удаление промежуточных столбцов\n",
    "    sale = sale.drop('top', axis=1)\n"
   ]
  },
  {
   "cell_type": "code",
   "execution_count": 22,
   "metadata": {},
   "outputs": [
    {
     "data": {
      "text/plain": [
       "date_crawled              0\n",
       "price                     0\n",
       "vehicle_type              0\n",
       "registration_year         0\n",
       "gearbox                   0\n",
       "power                     0\n",
       "model                     0\n",
       "kilometer                 0\n",
       "registration_month        0\n",
       "fuel_type                 0\n",
       "brand                     0\n",
       "not_repaired          58997\n",
       "date_created              0\n",
       "number_of_pictures        0\n",
       "postal_code               0\n",
       "last_seen                 0\n",
       "dtype: int64"
      ]
     },
     "execution_count": 22,
     "metadata": {},
     "output_type": "execute_result"
    }
   ],
   "source": [
    "sale.isna().sum()"
   ]
  },
  {
   "cell_type": "markdown",
   "metadata": {},
   "source": [
    "##### 1.2.6 Мощность"
   ]
  },
  {
   "cell_type": "code",
   "execution_count": 23,
   "metadata": {},
   "outputs": [
    {
     "data": {
      "text/plain": [
       "count    326652.000000\n",
       "mean        112.221186\n",
       "std         183.348304\n",
       "min           0.000000\n",
       "25%          71.000000\n",
       "50%         105.000000\n",
       "75%         143.000000\n",
       "max       20000.000000\n",
       "Name: power, dtype: float64"
      ]
     },
     "execution_count": 23,
     "metadata": {},
     "output_type": "execute_result"
    }
   ],
   "source": [
    "sale['power'].describe()"
   ]
  },
  {
   "cell_type": "code",
   "execution_count": 24,
   "metadata": {},
   "outputs": [
    {
     "data": {
      "text/html": [
       "<div>\n",
       "<style scoped>\n",
       "    .dataframe tbody tr th:only-of-type {\n",
       "        vertical-align: middle;\n",
       "    }\n",
       "\n",
       "    .dataframe tbody tr th {\n",
       "        vertical-align: top;\n",
       "    }\n",
       "\n",
       "    .dataframe thead th {\n",
       "        text-align: right;\n",
       "    }\n",
       "</style>\n",
       "<table border=\"1\" class=\"dataframe\">\n",
       "  <thead>\n",
       "    <tr style=\"text-align: right;\">\n",
       "      <th></th>\n",
       "      <th>date_crawled</th>\n",
       "      <th>price</th>\n",
       "      <th>vehicle_type</th>\n",
       "      <th>registration_year</th>\n",
       "      <th>gearbox</th>\n",
       "      <th>power</th>\n",
       "      <th>model</th>\n",
       "      <th>kilometer</th>\n",
       "      <th>registration_month</th>\n",
       "      <th>fuel_type</th>\n",
       "      <th>brand</th>\n",
       "      <th>not_repaired</th>\n",
       "      <th>date_created</th>\n",
       "      <th>number_of_pictures</th>\n",
       "      <th>postal_code</th>\n",
       "      <th>last_seen</th>\n",
       "    </tr>\n",
       "  </thead>\n",
       "  <tbody>\n",
       "    <tr>\n",
       "      <td>0</td>\n",
       "      <td>2016-03-24 11:52:17</td>\n",
       "      <td>480</td>\n",
       "      <td>sedan</td>\n",
       "      <td>1993</td>\n",
       "      <td>manual</td>\n",
       "      <td>0</td>\n",
       "      <td>golf</td>\n",
       "      <td>150000</td>\n",
       "      <td>0</td>\n",
       "      <td>petrol</td>\n",
       "      <td>volkswagen</td>\n",
       "      <td>NaN</td>\n",
       "      <td>2016-03-24</td>\n",
       "      <td>0</td>\n",
       "      <td>70435</td>\n",
       "      <td>2016-04-07 03:16:57</td>\n",
       "    </tr>\n",
       "    <tr>\n",
       "      <td>28</td>\n",
       "      <td>2016-03-15 20:59:01</td>\n",
       "      <td>245</td>\n",
       "      <td>sedan</td>\n",
       "      <td>1994</td>\n",
       "      <td>manual</td>\n",
       "      <td>0</td>\n",
       "      <td>golf</td>\n",
       "      <td>150000</td>\n",
       "      <td>2</td>\n",
       "      <td>petrol</td>\n",
       "      <td>volkswagen</td>\n",
       "      <td>no</td>\n",
       "      <td>2016-03-15</td>\n",
       "      <td>0</td>\n",
       "      <td>44145</td>\n",
       "      <td>2016-03-17 18:17:43</td>\n",
       "    </tr>\n",
       "    <tr>\n",
       "      <td>33</td>\n",
       "      <td>2016-03-28 17:50:15</td>\n",
       "      <td>1500</td>\n",
       "      <td>bus</td>\n",
       "      <td>2016</td>\n",
       "      <td>manual</td>\n",
       "      <td>0</td>\n",
       "      <td>kangoo</td>\n",
       "      <td>150000</td>\n",
       "      <td>1</td>\n",
       "      <td>gasoline</td>\n",
       "      <td>renault</td>\n",
       "      <td>no</td>\n",
       "      <td>2016-03-28</td>\n",
       "      <td>0</td>\n",
       "      <td>46483</td>\n",
       "      <td>2016-03-30 09:18:02</td>\n",
       "    </tr>\n",
       "    <tr>\n",
       "      <td>47</td>\n",
       "      <td>2016-03-17 07:56:40</td>\n",
       "      <td>4700</td>\n",
       "      <td>wagon</td>\n",
       "      <td>2005</td>\n",
       "      <td>manual</td>\n",
       "      <td>0</td>\n",
       "      <td>signum</td>\n",
       "      <td>150000</td>\n",
       "      <td>0</td>\n",
       "      <td>gasoline</td>\n",
       "      <td>opel</td>\n",
       "      <td>no</td>\n",
       "      <td>2016-03-17</td>\n",
       "      <td>0</td>\n",
       "      <td>88433</td>\n",
       "      <td>2016-04-04 04:17:32</td>\n",
       "    </tr>\n",
       "    <tr>\n",
       "      <td>48</td>\n",
       "      <td>2016-03-26 10:39:35</td>\n",
       "      <td>550</td>\n",
       "      <td>wagon</td>\n",
       "      <td>1999</td>\n",
       "      <td>manual</td>\n",
       "      <td>0</td>\n",
       "      <td>astra</td>\n",
       "      <td>150000</td>\n",
       "      <td>8</td>\n",
       "      <td>gasoline</td>\n",
       "      <td>opel</td>\n",
       "      <td>yes</td>\n",
       "      <td>2016-03-26</td>\n",
       "      <td>0</td>\n",
       "      <td>56759</td>\n",
       "      <td>2016-04-01 23:17:27</td>\n",
       "    </tr>\n",
       "    <tr>\n",
       "      <td>60</td>\n",
       "      <td>2016-04-01 11:56:40</td>\n",
       "      <td>1200</td>\n",
       "      <td>coupe</td>\n",
       "      <td>2001</td>\n",
       "      <td>manual</td>\n",
       "      <td>0</td>\n",
       "      <td>astra</td>\n",
       "      <td>150000</td>\n",
       "      <td>0</td>\n",
       "      <td>petrol</td>\n",
       "      <td>opel</td>\n",
       "      <td>NaN</td>\n",
       "      <td>2016-04-01</td>\n",
       "      <td>0</td>\n",
       "      <td>47249</td>\n",
       "      <td>2016-04-07 08:46:07</td>\n",
       "    </tr>\n",
       "    <tr>\n",
       "      <td>61</td>\n",
       "      <td>2016-03-08 01:36:42</td>\n",
       "      <td>800</td>\n",
       "      <td>small</td>\n",
       "      <td>1993</td>\n",
       "      <td>manual</td>\n",
       "      <td>0</td>\n",
       "      <td>polo</td>\n",
       "      <td>150000</td>\n",
       "      <td>3</td>\n",
       "      <td>petrol</td>\n",
       "      <td>volkswagen</td>\n",
       "      <td>no</td>\n",
       "      <td>2016-03-08</td>\n",
       "      <td>0</td>\n",
       "      <td>8258</td>\n",
       "      <td>2016-04-05 23:46:00</td>\n",
       "    </tr>\n",
       "    <tr>\n",
       "      <td>81</td>\n",
       "      <td>2016-03-23 11:53:21</td>\n",
       "      <td>2400</td>\n",
       "      <td>sedan</td>\n",
       "      <td>2003</td>\n",
       "      <td>manual</td>\n",
       "      <td>0</td>\n",
       "      <td>a4</td>\n",
       "      <td>150000</td>\n",
       "      <td>9</td>\n",
       "      <td>gasoline</td>\n",
       "      <td>audi</td>\n",
       "      <td>NaN</td>\n",
       "      <td>2016-03-23</td>\n",
       "      <td>0</td>\n",
       "      <td>40210</td>\n",
       "      <td>2016-03-23 11:53:21</td>\n",
       "    </tr>\n",
       "    <tr>\n",
       "      <td>85</td>\n",
       "      <td>2016-03-28 16:37:43</td>\n",
       "      <td>8390</td>\n",
       "      <td>wagon</td>\n",
       "      <td>2009</td>\n",
       "      <td>manual</td>\n",
       "      <td>0</td>\n",
       "      <td>insignia</td>\n",
       "      <td>150000</td>\n",
       "      <td>0</td>\n",
       "      <td>gasoline</td>\n",
       "      <td>opel</td>\n",
       "      <td>NaN</td>\n",
       "      <td>2016-03-28</td>\n",
       "      <td>0</td>\n",
       "      <td>29221</td>\n",
       "      <td>2016-03-30 07:44:59</td>\n",
       "    </tr>\n",
       "    <tr>\n",
       "      <td>89</td>\n",
       "      <td>2016-03-11 19:00:25</td>\n",
       "      <td>4290</td>\n",
       "      <td>bus</td>\n",
       "      <td>2008</td>\n",
       "      <td>manual</td>\n",
       "      <td>0</td>\n",
       "      <td>combo</td>\n",
       "      <td>150000</td>\n",
       "      <td>2</td>\n",
       "      <td>gasoline</td>\n",
       "      <td>opel</td>\n",
       "      <td>no</td>\n",
       "      <td>2016-03-11</td>\n",
       "      <td>0</td>\n",
       "      <td>23568</td>\n",
       "      <td>2016-04-05 22:45:32</td>\n",
       "    </tr>\n",
       "  </tbody>\n",
       "</table>\n",
       "</div>"
      ],
      "text/plain": [
       "          date_crawled  price vehicle_type  registration_year gearbox  power  \\\n",
       "0  2016-03-24 11:52:17    480        sedan               1993  manual      0   \n",
       "28 2016-03-15 20:59:01    245        sedan               1994  manual      0   \n",
       "33 2016-03-28 17:50:15   1500          bus               2016  manual      0   \n",
       "47 2016-03-17 07:56:40   4700        wagon               2005  manual      0   \n",
       "48 2016-03-26 10:39:35    550        wagon               1999  manual      0   \n",
       "60 2016-04-01 11:56:40   1200        coupe               2001  manual      0   \n",
       "61 2016-03-08 01:36:42    800        small               1993  manual      0   \n",
       "81 2016-03-23 11:53:21   2400        sedan               2003  manual      0   \n",
       "85 2016-03-28 16:37:43   8390        wagon               2009  manual      0   \n",
       "89 2016-03-11 19:00:25   4290          bus               2008  manual      0   \n",
       "\n",
       "       model  kilometer  registration_month fuel_type       brand  \\\n",
       "0       golf     150000                   0    petrol  volkswagen   \n",
       "28      golf     150000                   2    petrol  volkswagen   \n",
       "33    kangoo     150000                   1  gasoline     renault   \n",
       "47    signum     150000                   0  gasoline        opel   \n",
       "48     astra     150000                   8  gasoline        opel   \n",
       "60     astra     150000                   0    petrol        opel   \n",
       "61      polo     150000                   3    petrol  volkswagen   \n",
       "81        a4     150000                   9  gasoline        audi   \n",
       "85  insignia     150000                   0  gasoline        opel   \n",
       "89     combo     150000                   2  gasoline        opel   \n",
       "\n",
       "   not_repaired date_created  number_of_pictures  postal_code  \\\n",
       "0           NaN   2016-03-24                   0        70435   \n",
       "28           no   2016-03-15                   0        44145   \n",
       "33           no   2016-03-28                   0        46483   \n",
       "47           no   2016-03-17                   0        88433   \n",
       "48          yes   2016-03-26                   0        56759   \n",
       "60          NaN   2016-04-01                   0        47249   \n",
       "61           no   2016-03-08                   0         8258   \n",
       "81          NaN   2016-03-23                   0        40210   \n",
       "85          NaN   2016-03-28                   0        29221   \n",
       "89           no   2016-03-11                   0        23568   \n",
       "\n",
       "             last_seen  \n",
       "0  2016-04-07 03:16:57  \n",
       "28 2016-03-17 18:17:43  \n",
       "33 2016-03-30 09:18:02  \n",
       "47 2016-04-04 04:17:32  \n",
       "48 2016-04-01 23:17:27  \n",
       "60 2016-04-07 08:46:07  \n",
       "61 2016-04-05 23:46:00  \n",
       "81 2016-03-23 11:53:21  \n",
       "85 2016-03-30 07:44:59  \n",
       "89 2016-04-05 22:45:32  "
      ]
     },
     "execution_count": 24,
     "metadata": {},
     "output_type": "execute_result"
    }
   ],
   "source": [
    "sale[sale['power']==0].head(10)"
   ]
  },
  {
   "cell_type": "markdown",
   "metadata": {},
   "source": [
    "Нулевые значения скорее всего являются пропусками, поэтому предлагаю их заменить на среднне значения для каждой модели."
   ]
  },
  {
   "cell_type": "code",
   "execution_count": 25,
   "metadata": {},
   "outputs": [],
   "source": [
    "med_power = sale.groupby(['model'])['power'].agg('mean')\n",
    "med_power = med_power.reset_index()\n",
    "med_power = med_power.rename(columns={'power': 'med_power'})\n",
    "\n",
    "sale = sale.merge(med_power, left_on='model', right_on='model', how='left')\n",
    "\n",
    "sale.loc[sale['power']==0, 'power'] = sale['med_power']\n",
    "\n",
    "sale['power'] = sale['power'].astype('int')\n",
    "\n",
    "\n",
    "sale = sale.drop('med_power', axis=1)\n"
   ]
  },
  {
   "cell_type": "code",
   "execution_count": 26,
   "metadata": {},
   "outputs": [
    {
     "data": {
      "text/plain": [
       "count    326652.000000\n",
       "mean        122.406252\n",
       "std         180.067284\n",
       "min           1.000000\n",
       "25%          75.000000\n",
       "50%         110.000000\n",
       "75%         144.000000\n",
       "max       20000.000000\n",
       "Name: power, dtype: float64"
      ]
     },
     "execution_count": 26,
     "metadata": {},
     "output_type": "execute_result"
    }
   ],
   "source": [
    "sale['power'].describe()"
   ]
  },
  {
   "cell_type": "code",
   "execution_count": 27,
   "metadata": {},
   "outputs": [
    {
     "data": {
      "text/plain": [
       "array([ 41., 334.])"
      ]
     },
     "execution_count": 27,
     "metadata": {},
     "output_type": "execute_result"
    }
   ],
   "source": [
    "np.percentile(sale['power'],[0.5,99.5])"
   ]
  },
  {
   "cell_type": "code",
   "execution_count": 28,
   "metadata": {},
   "outputs": [
    {
     "data": {
      "text/plain": [
       "date_crawled          1600\n",
       "price                 1600\n",
       "vehicle_type          1600\n",
       "registration_year     1600\n",
       "gearbox               1600\n",
       "power                 1600\n",
       "model                 1600\n",
       "kilometer             1600\n",
       "registration_month    1600\n",
       "fuel_type             1600\n",
       "brand                 1600\n",
       "not_repaired          1328\n",
       "date_created          1600\n",
       "number_of_pictures    1600\n",
       "postal_code           1600\n",
       "last_seen             1600\n",
       "dtype: int64"
      ]
     },
     "execution_count": 28,
     "metadata": {},
     "output_type": "execute_result"
    }
   ],
   "source": [
    "sale[sale['power']>334].count()"
   ]
  },
  {
   "cell_type": "code",
   "execution_count": 29,
   "metadata": {},
   "outputs": [],
   "source": [
    "sale = sale[sale['power']<334]"
   ]
  },
  {
   "cell_type": "markdown",
   "metadata": {},
   "source": [
    "Также достаточно странное явление показатели мощности в 20000л.с., предлагаю от них избавиться, так как их меньше 1%"
   ]
  },
  {
   "cell_type": "markdown",
   "metadata": {},
   "source": [
    "##### 1.2.6 Пробег "
   ]
  },
  {
   "cell_type": "code",
   "execution_count": 30,
   "metadata": {},
   "outputs": [
    {
     "data": {
      "text/plain": [
       "count    324969.000000\n",
       "mean     128572.263816\n",
       "std       37149.825002\n",
       "min        5000.000000\n",
       "25%      125000.000000\n",
       "50%      150000.000000\n",
       "75%      150000.000000\n",
       "max      150000.000000\n",
       "Name: kilometer, dtype: float64"
      ]
     },
     "execution_count": 30,
     "metadata": {},
     "output_type": "execute_result"
    }
   ],
   "source": [
    "sale['kilometer'].describe()"
   ]
  },
  {
   "cell_type": "markdown",
   "metadata": {},
   "source": [
    "Минимальный - 5000, Средний - 128572, данные корректны, в правказ не нуждаются."
   ]
  },
  {
   "cell_type": "markdown",
   "metadata": {},
   "source": [
    "##### 1.2.7 Месяц регистрации"
   ]
  },
  {
   "cell_type": "code",
   "execution_count": 31,
   "metadata": {},
   "outputs": [
    {
     "data": {
      "text/plain": [
       "array([ 0,  5,  8,  6,  7, 10, 12, 11,  2,  3,  1,  4,  9])"
      ]
     },
     "execution_count": 31,
     "metadata": {},
     "output_type": "execute_result"
    }
   ],
   "source": [
    "sale['registration_month'].unique()"
   ]
  },
  {
   "cell_type": "code",
   "execution_count": 32,
   "metadata": {},
   "outputs": [
    {
     "data": {
      "text/html": [
       "<div>\n",
       "<style scoped>\n",
       "    .dataframe tbody tr th:only-of-type {\n",
       "        vertical-align: middle;\n",
       "    }\n",
       "\n",
       "    .dataframe tbody tr th {\n",
       "        vertical-align: top;\n",
       "    }\n",
       "\n",
       "    .dataframe thead th {\n",
       "        text-align: right;\n",
       "    }\n",
       "</style>\n",
       "<table border=\"1\" class=\"dataframe\">\n",
       "  <thead>\n",
       "    <tr style=\"text-align: right;\">\n",
       "      <th></th>\n",
       "      <th>date_crawled</th>\n",
       "      <th>price</th>\n",
       "      <th>vehicle_type</th>\n",
       "      <th>registration_year</th>\n",
       "      <th>gearbox</th>\n",
       "      <th>power</th>\n",
       "      <th>model</th>\n",
       "      <th>kilometer</th>\n",
       "      <th>registration_month</th>\n",
       "      <th>fuel_type</th>\n",
       "      <th>brand</th>\n",
       "      <th>not_repaired</th>\n",
       "      <th>date_created</th>\n",
       "      <th>number_of_pictures</th>\n",
       "      <th>postal_code</th>\n",
       "      <th>last_seen</th>\n",
       "    </tr>\n",
       "  </thead>\n",
       "  <tbody>\n",
       "    <tr>\n",
       "      <td>316030</td>\n",
       "      <td>2016-03-14 22:52:16</td>\n",
       "      <td>1600</td>\n",
       "      <td>small</td>\n",
       "      <td>1999</td>\n",
       "      <td>manual</td>\n",
       "      <td>116</td>\n",
       "      <td>golf</td>\n",
       "      <td>150000</td>\n",
       "      <td>0</td>\n",
       "      <td>gasoline</td>\n",
       "      <td>volkswagen</td>\n",
       "      <td>NaN</td>\n",
       "      <td>2016-03-14</td>\n",
       "      <td>0</td>\n",
       "      <td>73540</td>\n",
       "      <td>2016-03-15 18:48:07</td>\n",
       "    </tr>\n",
       "    <tr>\n",
       "      <td>264216</td>\n",
       "      <td>2016-03-28 10:39:46</td>\n",
       "      <td>1200</td>\n",
       "      <td>sedan</td>\n",
       "      <td>1993</td>\n",
       "      <td>auto</td>\n",
       "      <td>239</td>\n",
       "      <td>7er</td>\n",
       "      <td>150000</td>\n",
       "      <td>0</td>\n",
       "      <td>petrol</td>\n",
       "      <td>bmw</td>\n",
       "      <td>yes</td>\n",
       "      <td>2016-03-28</td>\n",
       "      <td>0</td>\n",
       "      <td>45966</td>\n",
       "      <td>2016-04-06 11:46:58</td>\n",
       "    </tr>\n",
       "    <tr>\n",
       "      <td>3652</td>\n",
       "      <td>2016-03-07 00:53:20</td>\n",
       "      <td>1</td>\n",
       "      <td>small</td>\n",
       "      <td>2001</td>\n",
       "      <td>manual</td>\n",
       "      <td>55</td>\n",
       "      <td>lupo</td>\n",
       "      <td>150000</td>\n",
       "      <td>0</td>\n",
       "      <td>petrol</td>\n",
       "      <td>volkswagen</td>\n",
       "      <td>yes</td>\n",
       "      <td>2016-03-06</td>\n",
       "      <td>0</td>\n",
       "      <td>91207</td>\n",
       "      <td>2016-03-12 02:46:04</td>\n",
       "    </tr>\n",
       "    <tr>\n",
       "      <td>30932</td>\n",
       "      <td>2016-03-21 19:45:37</td>\n",
       "      <td>450</td>\n",
       "      <td>sedan</td>\n",
       "      <td>2016</td>\n",
       "      <td>manual</td>\n",
       "      <td>88</td>\n",
       "      <td>3_reihe</td>\n",
       "      <td>125000</td>\n",
       "      <td>0</td>\n",
       "      <td>petrol</td>\n",
       "      <td>mazda</td>\n",
       "      <td>yes</td>\n",
       "      <td>2016-03-21</td>\n",
       "      <td>0</td>\n",
       "      <td>78567</td>\n",
       "      <td>2016-04-06 21:47:26</td>\n",
       "    </tr>\n",
       "    <tr>\n",
       "      <td>125957</td>\n",
       "      <td>2016-03-08 01:36:21</td>\n",
       "      <td>100</td>\n",
       "      <td>convertible</td>\n",
       "      <td>1995</td>\n",
       "      <td>manual</td>\n",
       "      <td>92</td>\n",
       "      <td>tigra</td>\n",
       "      <td>150000</td>\n",
       "      <td>0</td>\n",
       "      <td>petrol</td>\n",
       "      <td>opel</td>\n",
       "      <td>NaN</td>\n",
       "      <td>2016-03-08</td>\n",
       "      <td>0</td>\n",
       "      <td>6773</td>\n",
       "      <td>2016-04-06 00:47:03</td>\n",
       "    </tr>\n",
       "  </tbody>\n",
       "</table>\n",
       "</div>"
      ],
      "text/plain": [
       "              date_crawled  price vehicle_type  registration_year gearbox  \\\n",
       "316030 2016-03-14 22:52:16   1600        small               1999  manual   \n",
       "264216 2016-03-28 10:39:46   1200        sedan               1993    auto   \n",
       "3652   2016-03-07 00:53:20      1        small               2001  manual   \n",
       "30932  2016-03-21 19:45:37    450        sedan               2016  manual   \n",
       "125957 2016-03-08 01:36:21    100  convertible               1995  manual   \n",
       "\n",
       "        power    model  kilometer  registration_month fuel_type       brand  \\\n",
       "316030    116     golf     150000                   0  gasoline  volkswagen   \n",
       "264216    239      7er     150000                   0    petrol         bmw   \n",
       "3652       55     lupo     150000                   0    petrol  volkswagen   \n",
       "30932      88  3_reihe     125000                   0    petrol       mazda   \n",
       "125957     92    tigra     150000                   0    petrol        opel   \n",
       "\n",
       "       not_repaired date_created  number_of_pictures  postal_code  \\\n",
       "316030          NaN   2016-03-14                   0        73540   \n",
       "264216          yes   2016-03-28                   0        45966   \n",
       "3652            yes   2016-03-06                   0        91207   \n",
       "30932           yes   2016-03-21                   0        78567   \n",
       "125957          NaN   2016-03-08                   0         6773   \n",
       "\n",
       "                 last_seen  \n",
       "316030 2016-03-15 18:48:07  \n",
       "264216 2016-04-06 11:46:58  \n",
       "3652   2016-03-12 02:46:04  \n",
       "30932  2016-04-06 21:47:26  \n",
       "125957 2016-04-06 00:47:03  "
      ]
     },
     "execution_count": 32,
     "metadata": {},
     "output_type": "execute_result"
    }
   ],
   "source": [
    "sale[sale['registration_month']==0].sample(5)"
   ]
  },
  {
   "cell_type": "code",
   "execution_count": 33,
   "metadata": {},
   "outputs": [
    {
     "data": {
      "image/png": "[encoded data removed]",
      "text/plain": [
       "<Figure size 432x288 with 1 Axes>"
      ]
     },
     "metadata": {
      "needs_background": "light"
     },
     "output_type": "display_data"
    }
   ],
   "source": [
    "month = sale.groupby(['registration_month'])['price'].agg('mean')\n",
    "month = month.reset_index()\n",
    "month.plot(grid=True)\n",
    "plt.show()"
   ]
  },
  {
   "cell_type": "code",
   "execution_count": 34,
   "metadata": {},
   "outputs": [],
   "source": [
    "sale = sale.drop('registration_month', axis=1)"
   ]
  },
  {
   "cell_type": "markdown",
   "metadata": {},
   "source": [
    "Особой зависимости от месяца не вижу, поэтому данный столец в обучении модели можно не использовать"
   ]
  },
  {
   "cell_type": "markdown",
   "metadata": {},
   "source": [
    "##### 1.2.8 Ремонт"
   ]
  },
  {
   "cell_type": "code",
   "execution_count": 35,
   "metadata": {},
   "outputs": [
    {
     "data": {
      "text/html": [
       "<div>\n",
       "<style scoped>\n",
       "    .dataframe tbody tr th:only-of-type {\n",
       "        vertical-align: middle;\n",
       "    }\n",
       "\n",
       "    .dataframe tbody tr th {\n",
       "        vertical-align: top;\n",
       "    }\n",
       "\n",
       "    .dataframe thead th {\n",
       "        text-align: right;\n",
       "    }\n",
       "</style>\n",
       "<table border=\"1\" class=\"dataframe\">\n",
       "  <thead>\n",
       "    <tr style=\"text-align: right;\">\n",
       "      <th></th>\n",
       "      <th>date_crawled</th>\n",
       "      <th>price</th>\n",
       "      <th>vehicle_type</th>\n",
       "      <th>registration_year</th>\n",
       "      <th>gearbox</th>\n",
       "      <th>power</th>\n",
       "      <th>model</th>\n",
       "      <th>kilometer</th>\n",
       "      <th>fuel_type</th>\n",
       "      <th>brand</th>\n",
       "      <th>not_repaired</th>\n",
       "      <th>date_created</th>\n",
       "      <th>number_of_pictures</th>\n",
       "      <th>postal_code</th>\n",
       "      <th>last_seen</th>\n",
       "    </tr>\n",
       "  </thead>\n",
       "  <tbody>\n",
       "    <tr>\n",
       "      <td>65141</td>\n",
       "      <td>2016-03-21 20:52:28</td>\n",
       "      <td>5799</td>\n",
       "      <td>other</td>\n",
       "      <td>2005</td>\n",
       "      <td>auto</td>\n",
       "      <td>150</td>\n",
       "      <td>zafira</td>\n",
       "      <td>125000</td>\n",
       "      <td>gasoline</td>\n",
       "      <td>opel</td>\n",
       "      <td>NaN</td>\n",
       "      <td>2016-03-21</td>\n",
       "      <td>0</td>\n",
       "      <td>33014</td>\n",
       "      <td>2016-03-27 06:44:47</td>\n",
       "    </tr>\n",
       "    <tr>\n",
       "      <td>71534</td>\n",
       "      <td>2016-03-19 13:43:59</td>\n",
       "      <td>750</td>\n",
       "      <td>small</td>\n",
       "      <td>1997</td>\n",
       "      <td>manual</td>\n",
       "      <td>45</td>\n",
       "      <td>fiesta</td>\n",
       "      <td>125000</td>\n",
       "      <td>petrol</td>\n",
       "      <td>ford</td>\n",
       "      <td>NaN</td>\n",
       "      <td>2016-03-19</td>\n",
       "      <td>0</td>\n",
       "      <td>41515</td>\n",
       "      <td>2016-03-19 13:43:59</td>\n",
       "    </tr>\n",
       "    <tr>\n",
       "      <td>203144</td>\n",
       "      <td>2016-03-17 16:38:32</td>\n",
       "      <td>3900</td>\n",
       "      <td>small</td>\n",
       "      <td>2004</td>\n",
       "      <td>manual</td>\n",
       "      <td>64</td>\n",
       "      <td>polo</td>\n",
       "      <td>50000</td>\n",
       "      <td>petrol</td>\n",
       "      <td>volkswagen</td>\n",
       "      <td>NaN</td>\n",
       "      <td>2016-03-17</td>\n",
       "      <td>0</td>\n",
       "      <td>22041</td>\n",
       "      <td>2016-03-20 18:26:10</td>\n",
       "    </tr>\n",
       "    <tr>\n",
       "      <td>253056</td>\n",
       "      <td>2016-03-16 18:51:45</td>\n",
       "      <td>1750</td>\n",
       "      <td>small</td>\n",
       "      <td>2005</td>\n",
       "      <td>manual</td>\n",
       "      <td>75</td>\n",
       "      <td>2_reihe</td>\n",
       "      <td>150000</td>\n",
       "      <td>petrol</td>\n",
       "      <td>peugeot</td>\n",
       "      <td>NaN</td>\n",
       "      <td>2016-03-16</td>\n",
       "      <td>0</td>\n",
       "      <td>88480</td>\n",
       "      <td>2016-03-19 17:17:23</td>\n",
       "    </tr>\n",
       "    <tr>\n",
       "      <td>276191</td>\n",
       "      <td>2016-03-06 14:44:16</td>\n",
       "      <td>3000</td>\n",
       "      <td>sedan</td>\n",
       "      <td>2003</td>\n",
       "      <td>manual</td>\n",
       "      <td>75</td>\n",
       "      <td>golf</td>\n",
       "      <td>150000</td>\n",
       "      <td>petrol</td>\n",
       "      <td>volkswagen</td>\n",
       "      <td>NaN</td>\n",
       "      <td>2016-03-06</td>\n",
       "      <td>0</td>\n",
       "      <td>34327</td>\n",
       "      <td>2016-03-20 12:44:59</td>\n",
       "    </tr>\n",
       "  </tbody>\n",
       "</table>\n",
       "</div>"
      ],
      "text/plain": [
       "              date_crawled  price vehicle_type  registration_year gearbox  \\\n",
       "65141  2016-03-21 20:52:28   5799        other               2005    auto   \n",
       "71534  2016-03-19 13:43:59    750        small               1997  manual   \n",
       "203144 2016-03-17 16:38:32   3900        small               2004  manual   \n",
       "253056 2016-03-16 18:51:45   1750        small               2005  manual   \n",
       "276191 2016-03-06 14:44:16   3000        sedan               2003  manual   \n",
       "\n",
       "        power    model  kilometer fuel_type       brand not_repaired  \\\n",
       "65141     150   zafira     125000  gasoline        opel          NaN   \n",
       "71534      45   fiesta     125000    petrol        ford          NaN   \n",
       "203144     64     polo      50000    petrol  volkswagen          NaN   \n",
       "253056     75  2_reihe     150000    petrol     peugeot          NaN   \n",
       "276191     75     golf     150000    petrol  volkswagen          NaN   \n",
       "\n",
       "       date_created  number_of_pictures  postal_code           last_seen  \n",
       "65141    2016-03-21                   0        33014 2016-03-27 06:44:47  \n",
       "71534    2016-03-19                   0        41515 2016-03-19 13:43:59  \n",
       "203144   2016-03-17                   0        22041 2016-03-20 18:26:10  \n",
       "253056   2016-03-16                   0        88480 2016-03-19 17:17:23  \n",
       "276191   2016-03-06                   0        34327 2016-03-20 12:44:59  "
      ]
     },
     "execution_count": 35,
     "metadata": {},
     "output_type": "execute_result"
    }
   ],
   "source": [
    "sale[sale['not_repaired'].isnull()].sample(5)"
   ]
  },
  {
   "cell_type": "code",
   "execution_count": 36,
   "metadata": {},
   "outputs": [],
   "source": [
    "sale['not_repaired'] = sale['not_repaired'].fillna('no')"
   ]
  },
  {
   "cell_type": "code",
   "execution_count": 37,
   "metadata": {},
   "outputs": [
    {
     "data": {
      "text/plain": [
       "0"
      ]
     },
     "execution_count": 37,
     "metadata": {},
     "output_type": "execute_result"
    }
   ],
   "source": [
    "sale['not_repaired'].isnull().sum()"
   ]
  },
  {
   "cell_type": "markdown",
   "metadata": {},
   "source": [
    "Пропуски в столбце скорее всего обусловлены отсутсвием ремонта, поэтому предлгаю заменить на значение 'no'.\n"
   ]
  },
  {
   "cell_type": "markdown",
   "metadata": {},
   "source": [
    "##### 1.2.9 Фотографии"
   ]
  },
  {
   "cell_type": "code",
   "execution_count": 38,
   "metadata": {},
   "outputs": [
    {
     "data": {
      "text/plain": [
       "array([0])"
      ]
     },
     "execution_count": 38,
     "metadata": {},
     "output_type": "execute_result"
    }
   ],
   "source": [
    "sale['number_of_pictures'].unique()"
   ]
  },
  {
   "cell_type": "code",
   "execution_count": 39,
   "metadata": {},
   "outputs": [],
   "source": [
    "sale = sale.drop('number_of_pictures', axis=1)"
   ]
  },
  {
   "cell_type": "markdown",
   "metadata": {},
   "source": [
    "Фотографий нет вообще, поэтому отсутствие столбца никак не изменит обучение модели."
   ]
  },
  {
   "cell_type": "markdown",
   "metadata": {},
   "source": [
    "##### 1.2.10 Удаление столбцов"
   ]
  },
  {
   "cell_type": "code",
   "execution_count": 40,
   "metadata": {},
   "outputs": [],
   "source": [
    "columns_to_del = ['postal_code', 'date_crawled', 'date_created', 'last_seen']\n",
    "\n",
    "sale = sale.drop(columns_to_del, axis=1)"
   ]
  },
  {
   "cell_type": "code",
   "execution_count": 41,
   "metadata": {},
   "outputs": [
    {
     "name": "stdout",
     "output_type": "stream",
     "text": [
      "<class 'pandas.core.frame.DataFrame'>\n",
      "Int64Index: 324969 entries, 0 to 326651\n",
      "Data columns (total 10 columns):\n",
      "price                324969 non-null int64\n",
      "vehicle_type         324969 non-null object\n",
      "registration_year    324969 non-null int64\n",
      "gearbox              324969 non-null object\n",
      "power                324969 non-null int64\n",
      "model                324969 non-null object\n",
      "kilometer            324969 non-null int64\n",
      "fuel_type            324969 non-null object\n",
      "brand                324969 non-null object\n",
      "not_repaired         324969 non-null object\n",
      "dtypes: int64(4), object(6)\n",
      "memory usage: 27.3+ MB\n"
     ]
    }
   ],
   "source": [
    "sale.info()"
   ]
  },
  {
   "cell_type": "markdown",
   "metadata": {},
   "source": [
    "Данные столбцы в обучении модели можно не использовать"
   ]
  },
  {
   "cell_type": "code",
   "execution_count": 42,
   "metadata": {},
   "outputs": [],
   "source": [
    "t = sale.copy()\n",
    "encoder = OrdinalEncoder()\n",
    "col = ['vehicle_type', 'gearbox', 'model', 'fuel_type', 'brand', 'not_repaired']\n",
    "encoder.fit(t[col])\n",
    "t[col] = encoder.transform(t[col])"
   ]
  },
  {
   "cell_type": "code",
   "execution_count": 43,
   "metadata": {},
   "outputs": [
    {
     "data": {
      "image/png": "[encoded data removed]",
      "text/plain": [
       "<Figure size 1080x504 with 2 Axes>"
      ]
     },
     "metadata": {
      "needs_background": "light"
     },
     "output_type": "display_data"
    }
   ],
   "source": [
    "cm = t.corr()\n",
    "plt.figure(figsize=(15,7))\n",
    "plt.title('Correlation matrix')\n",
    "sns.heatmap(cm, annot=True, fmt='.1f', linewidths=1, linecolor='gray')\n",
    "plt.show()"
   ]
  },
  {
   "cell_type": "code",
   "execution_count": 44,
   "metadata": {},
   "outputs": [
    {
     "name": "stdout",
     "output_type": "stream",
     "text": [
      "<class 'pandas.core.frame.DataFrame'>\n",
      "Int64Index: 324969 entries, 0 to 326651\n",
      "Data columns (total 10 columns):\n",
      "price                324969 non-null int64\n",
      "vehicle_type         324969 non-null object\n",
      "registration_year    324969 non-null int64\n",
      "gearbox              324969 non-null object\n",
      "power                324969 non-null int64\n",
      "model                324969 non-null object\n",
      "kilometer            324969 non-null int64\n",
      "fuel_type            324969 non-null object\n",
      "brand                324969 non-null object\n",
      "not_repaired         324969 non-null object\n",
      "dtypes: int64(4), object(6)\n",
      "memory usage: 27.3+ MB\n"
     ]
    }
   ],
   "source": [
    "sale.info()"
   ]
  },
  {
   "cell_type": "markdown",
   "metadata": {},
   "source": [
    "### 1.3. Вывод\n",
    "\n",
    "Данные предобработаны: пропущеных значений нет, столбцы приведены к нужному формату, лишние переменные удалены.\n",
    "Сильно скоррелированных признаков нет, кроме моделей и брендов. "
   ]
  },
  {
   "cell_type": "markdown",
   "metadata": {},
   "source": [
    "## Обучение моделей"
   ]
  },
  {
   "cell_type": "markdown",
   "metadata": {},
   "source": [
    "Перекодировка признаков порядковым методом."
   ]
  },
  {
   "cell_type": "code",
   "execution_count": 45,
   "metadata": {},
   "outputs": [
    {
     "data": {
      "text/html": [
       "<div>\n",
       "<style scoped>\n",
       "    .dataframe tbody tr th:only-of-type {\n",
       "        vertical-align: middle;\n",
       "    }\n",
       "\n",
       "    .dataframe tbody tr th {\n",
       "        vertical-align: top;\n",
       "    }\n",
       "\n",
       "    .dataframe thead th {\n",
       "        text-align: right;\n",
       "    }\n",
       "</style>\n",
       "<table border=\"1\" class=\"dataframe\">\n",
       "  <thead>\n",
       "    <tr style=\"text-align: right;\">\n",
       "      <th></th>\n",
       "      <th>price</th>\n",
       "      <th>vehicle_type</th>\n",
       "      <th>registration_year</th>\n",
       "      <th>gearbox</th>\n",
       "      <th>power</th>\n",
       "      <th>model</th>\n",
       "      <th>kilometer</th>\n",
       "      <th>fuel_type</th>\n",
       "      <th>brand</th>\n",
       "      <th>not_repaired</th>\n",
       "    </tr>\n",
       "  </thead>\n",
       "  <tbody>\n",
       "    <tr>\n",
       "      <td>0</td>\n",
       "      <td>480</td>\n",
       "      <td>4.0</td>\n",
       "      <td>1993</td>\n",
       "      <td>1.0</td>\n",
       "      <td>96</td>\n",
       "      <td>117.0</td>\n",
       "      <td>150000</td>\n",
       "      <td>6.0</td>\n",
       "      <td>38.0</td>\n",
       "      <td>0.0</td>\n",
       "    </tr>\n",
       "    <tr>\n",
       "      <td>1</td>\n",
       "      <td>18300</td>\n",
       "      <td>2.0</td>\n",
       "      <td>2011</td>\n",
       "      <td>1.0</td>\n",
       "      <td>190</td>\n",
       "      <td>30.0</td>\n",
       "      <td>125000</td>\n",
       "      <td>2.0</td>\n",
       "      <td>1.0</td>\n",
       "      <td>1.0</td>\n",
       "    </tr>\n",
       "    <tr>\n",
       "      <td>2</td>\n",
       "      <td>9800</td>\n",
       "      <td>6.0</td>\n",
       "      <td>2004</td>\n",
       "      <td>0.0</td>\n",
       "      <td>163</td>\n",
       "      <td>118.0</td>\n",
       "      <td>125000</td>\n",
       "      <td>2.0</td>\n",
       "      <td>14.0</td>\n",
       "      <td>0.0</td>\n",
       "    </tr>\n",
       "    <tr>\n",
       "      <td>3</td>\n",
       "      <td>1500</td>\n",
       "      <td>5.0</td>\n",
       "      <td>2001</td>\n",
       "      <td>1.0</td>\n",
       "      <td>75</td>\n",
       "      <td>117.0</td>\n",
       "      <td>150000</td>\n",
       "      <td>6.0</td>\n",
       "      <td>38.0</td>\n",
       "      <td>0.0</td>\n",
       "    </tr>\n",
       "    <tr>\n",
       "      <td>4</td>\n",
       "      <td>3600</td>\n",
       "      <td>5.0</td>\n",
       "      <td>2008</td>\n",
       "      <td>1.0</td>\n",
       "      <td>69</td>\n",
       "      <td>102.0</td>\n",
       "      <td>90000</td>\n",
       "      <td>2.0</td>\n",
       "      <td>31.0</td>\n",
       "      <td>0.0</td>\n",
       "    </tr>\n",
       "  </tbody>\n",
       "</table>\n",
       "</div>"
      ],
      "text/plain": [
       "   price  vehicle_type  registration_year  gearbox  power  model  kilometer  \\\n",
       "0    480           4.0               1993      1.0     96  117.0     150000   \n",
       "1  18300           2.0               2011      1.0    190   30.0     125000   \n",
       "2   9800           6.0               2004      0.0    163  118.0     125000   \n",
       "3   1500           5.0               2001      1.0     75  117.0     150000   \n",
       "4   3600           5.0               2008      1.0     69  102.0      90000   \n",
       "\n",
       "   fuel_type  brand  not_repaired  \n",
       "0        6.0   38.0           0.0  \n",
       "1        2.0    1.0           1.0  \n",
       "2        2.0   14.0           0.0  \n",
       "3        6.0   38.0           0.0  \n",
       "4        2.0   31.0           0.0  "
      ]
     },
     "execution_count": 45,
     "metadata": {},
     "output_type": "execute_result"
    }
   ],
   "source": [
    "encoder = OrdinalEncoder()\n",
    "col = ['vehicle_type', 'gearbox', 'model', 'fuel_type', 'brand', 'not_repaired']\n",
    "encoder.fit(sale[col])\n",
    "\n",
    "sale[col] = encoder.transform(sale[col])\n",
    "sale.head(5)"
   ]
  },
  {
   "cell_type": "markdown",
   "metadata": {},
   "source": [
    "Выделение тренировочной и тестовой выборки."
   ]
  },
  {
   "cell_type": "code",
   "execution_count": 46,
   "metadata": {},
   "outputs": [],
   "source": [
    "features_train, features_test, target_train, target_test = train_test_split(\n",
    "    sale.drop('price', axis=1), sale.price, test_size=0.2, random_state=12345)"
   ]
  },
  {
   "cell_type": "markdown",
   "metadata": {},
   "source": [
    "#### Линейная регрессия\n",
    "Масштабировка признаков"
   ]
  },
  {
   "cell_type": "code",
   "execution_count": 47,
   "metadata": {},
   "outputs": [
    {
     "data": {
      "text/html": [
       "<div>\n",
       "<style scoped>\n",
       "    .dataframe tbody tr th:only-of-type {\n",
       "        vertical-align: middle;\n",
       "    }\n",
       "\n",
       "    .dataframe tbody tr th {\n",
       "        vertical-align: top;\n",
       "    }\n",
       "\n",
       "    .dataframe thead th {\n",
       "        text-align: right;\n",
       "    }\n",
       "</style>\n",
       "<table border=\"1\" class=\"dataframe\">\n",
       "  <thead>\n",
       "    <tr style=\"text-align: right;\">\n",
       "      <th></th>\n",
       "      <th>0</th>\n",
       "      <th>1</th>\n",
       "      <th>2</th>\n",
       "      <th>3</th>\n",
       "      <th>4</th>\n",
       "      <th>5</th>\n",
       "      <th>6</th>\n",
       "      <th>7</th>\n",
       "      <th>8</th>\n",
       "    </tr>\n",
       "  </thead>\n",
       "  <tbody>\n",
       "    <tr>\n",
       "      <td>0</td>\n",
       "      <td>1.302333</td>\n",
       "      <td>0.677097</td>\n",
       "      <td>0.489121</td>\n",
       "      <td>0.502932</td>\n",
       "      <td>-1.375217</td>\n",
       "      <td>0.576781</td>\n",
       "      <td>-1.487014</td>\n",
       "      <td>-1.414931</td>\n",
       "      <td>-0.333166</td>\n",
       "    </tr>\n",
       "    <tr>\n",
       "      <td>1</td>\n",
       "      <td>-2.057636</td>\n",
       "      <td>0.179951</td>\n",
       "      <td>0.489121</td>\n",
       "      <td>-0.181361</td>\n",
       "      <td>1.632360</td>\n",
       "      <td>0.576781</td>\n",
       "      <td>-1.487014</td>\n",
       "      <td>1.291773</td>\n",
       "      <td>-0.333166</td>\n",
       "    </tr>\n",
       "    <tr>\n",
       "      <td>2</td>\n",
       "      <td>0.342342</td>\n",
       "      <td>-0.317195</td>\n",
       "      <td>0.489121</td>\n",
       "      <td>-0.865654</td>\n",
       "      <td>1.674920</td>\n",
       "      <td>0.576781</td>\n",
       "      <td>0.680923</td>\n",
       "      <td>0.464724</td>\n",
       "      <td>3.001508</td>\n",
       "    </tr>\n",
       "    <tr>\n",
       "      <td>3</td>\n",
       "      <td>-0.137654</td>\n",
       "      <td>-1.808634</td>\n",
       "      <td>0.489121</td>\n",
       "      <td>1.046341</td>\n",
       "      <td>-1.375217</td>\n",
       "      <td>0.576781</td>\n",
       "      <td>0.680923</td>\n",
       "      <td>-1.414931</td>\n",
       "      <td>-0.333166</td>\n",
       "    </tr>\n",
       "    <tr>\n",
       "      <td>4</td>\n",
       "      <td>-1.097645</td>\n",
       "      <td>1.008528</td>\n",
       "      <td>0.489121</td>\n",
       "      <td>0.080280</td>\n",
       "      <td>1.306066</td>\n",
       "      <td>-0.096127</td>\n",
       "      <td>0.680923</td>\n",
       "      <td>1.291773</td>\n",
       "      <td>-0.333166</td>\n",
       "    </tr>\n",
       "  </tbody>\n",
       "</table>\n",
       "</div>"
      ],
      "text/plain": [
       "          0         1         2         3         4         5         6  \\\n",
       "0  1.302333  0.677097  0.489121  0.502932 -1.375217  0.576781 -1.487014   \n",
       "1 -2.057636  0.179951  0.489121 -0.181361  1.632360  0.576781 -1.487014   \n",
       "2  0.342342 -0.317195  0.489121 -0.865654  1.674920  0.576781  0.680923   \n",
       "3 -0.137654 -1.808634  0.489121  1.046341 -1.375217  0.576781  0.680923   \n",
       "4 -1.097645  1.008528  0.489121  0.080280  1.306066 -0.096127  0.680923   \n",
       "\n",
       "          7         8  \n",
       "0 -1.414931 -0.333166  \n",
       "1  1.291773 -0.333166  \n",
       "2  0.464724  3.001508  \n",
       "3 -1.414931 -0.333166  \n",
       "4  1.291773 -0.333166  "
      ]
     },
     "execution_count": 47,
     "metadata": {},
     "output_type": "execute_result"
    }
   ],
   "source": [
    "scaler = StandardScaler()\n",
    "scaler.fit(features_train)\n",
    "f_train_st = scaler.transform(features_train)\n",
    "f_test_st = scaler.transform(features_test)\n",
    "f_train_st = pd.DataFrame(f_train_st)\n",
    "f_train_st.head()"
   ]
  },
  {
   "cell_type": "code",
   "execution_count": 48,
   "metadata": {},
   "outputs": [
    {
     "name": "stdout",
     "output_type": "stream",
     "text": [
      "RMSE для линейной регрессии: 2854.8197500318797\n",
      "CPU times: user 598 ms, sys: 349 ms, total: 947 ms\n",
      "Wall time: 919 ms\n"
     ]
    }
   ],
   "source": [
    "%%time\n",
    "    \n",
    "model = LinearRegression()\n",
    "mse_line = cross_val_score(model, f_train_st, target_train, cv=5, scoring=make_scorer(mean_squared_error))\n",
    "rmse_line = (mse_line**0.5).mean()\n",
    "\n",
    "print('RMSE для линейной регрессии:', rmse_line)\n"
   ]
  },
  {
   "cell_type": "code",
   "execution_count": 49,
   "metadata": {},
   "outputs": [],
   "source": [
    "time = []\n",
    "rmse_list = []\n",
    "time.append(1)\n",
    "rmse_list.append(rmse_line.round(2))"
   ]
  },
  {
   "cell_type": "markdown",
   "metadata": {},
   "source": [
    "#### Дерево решений"
   ]
  },
  {
   "cell_type": "code",
   "execution_count": 50,
   "metadata": {},
   "outputs": [
    {
     "name": "stdout",
     "output_type": "stream",
     "text": [
      "RMSE для DecisionTreeRegressor: 2854.8197500318797 \n",
      "Глубина: 1 \n",
      "\n",
      "CPU times: user 3.61 s, sys: 0 ns, total: 3.61 s\n",
      "Wall time: 3.61 s\n"
     ]
    }
   ],
   "source": [
    "%%time\n",
    "best_model = None\n",
    "best_rmse = 4000\n",
    "\n",
    "for depth in range(1, 10, 3):\n",
    "    model = DecisionTreeRegressor(max_depth=depth, random_state=12345)\n",
    "    mse_dec = cross_val_score(model, features_train, target_train, cv=5, scoring=make_scorer(mean_squared_error))\n",
    "    rmse_dec = (mse_line**0.5).mean()\n",
    "    if rmse_dec < best_rmse:\n",
    "        best_rmse = rmse_dec\n",
    "        best_depth = depth\n",
    "        best_model = model\n",
    "\n",
    "print('RMSE для DecisionTreeRegressor:', best_rmse,'\\nГлубина:',best_depth,'\\n')"
   ]
  },
  {
   "cell_type": "code",
   "execution_count": 51,
   "metadata": {},
   "outputs": [],
   "source": [
    "time.append(3.6)\n",
    "rmse_list.append(best_rmse.round(2))"
   ]
  },
  {
   "cell_type": "markdown",
   "metadata": {},
   "source": [
    "#### Случайный лес"
   ]
  },
  {
   "cell_type": "code",
   "execution_count": 52,
   "metadata": {},
   "outputs": [
    {
     "name": "stdout",
     "output_type": "stream",
     "text": [
      "RMSE для RandomForestRegressor: 2064.9987486582204 \n",
      "Глубина: 1 \n",
      "Количество деревьев: 49 \n",
      "\n",
      "CPU times: user 2min 10s, sys: 50.8 ms, total: 2min 10s\n",
      "Wall time: 2min 11s\n"
     ]
    }
   ],
   "source": [
    "%%time\n",
    "best_model = None\n",
    "best_rmse = 4000\n",
    "best_est = 0\n",
    "best_depth = 0\n",
    "for est in range( 9, 50, 10):\n",
    "    for depth in range(1, 8, 3):\n",
    "        model = RandomForestRegressor(random_state=12345, max_depth=7, n_estimators=est)\n",
    "        mse = cross_val_score(model,  f_test_st, target_test, cv=5, scoring=make_scorer(mean_squared_error))\n",
    "        rmse = (mse**0.5).mean()\n",
    "        if rmse < best_rmse:\n",
    "            best_model = model\n",
    "            best_rmse = rmse\n",
    "            best_depth = depth\n",
    "            best_est = est\n",
    "            \n",
    "print('RMSE для RandomForestRegressor:', best_rmse,'\\nГлубина:',best_depth,'\\nКоличество деревьев:', best_est, '\\n')"
   ]
  },
  {
   "cell_type": "code",
   "execution_count": 53,
   "metadata": {},
   "outputs": [],
   "source": [
    "time.append(2*60 + 11)\n",
    "rmse_list.append(best_rmse.round(2))"
   ]
  },
  {
   "cell_type": "markdown",
   "metadata": {},
   "source": [
    "##### LightGBM"
   ]
  },
  {
   "cell_type": "code",
   "execution_count": 54,
   "metadata": {},
   "outputs": [],
   "source": [
    "col = ['vehicle_type', 'gearbox', 'model', 'fuel_type', 'brand', 'not_repaired']\n",
    "features_train_cat = features_train\n",
    "features_train_cat[col] = features_train_cat[col].astype('category')"
   ]
  },
  {
   "cell_type": "code",
   "execution_count": 55,
   "metadata": {},
   "outputs": [
    {
     "name": "stdout",
     "output_type": "stream",
     "text": [
      "RMSE для LightGBM: 1679.5889344267828 \n",
      "Глубина: 3\n",
      "Количество деревьев: 49 \n",
      "\n",
      "CPU times: user 1min 27s, sys: 426 ms, total: 1min 28s\n",
      "Wall time: 1min 29s\n"
     ]
    }
   ],
   "source": [
    "%%time\n",
    "best_model = None\n",
    "best_rmse = 4000\n",
    "best_count_eterations = 0\n",
    "best_est = 0\n",
    "best_depth = 0\n",
    "for est in range(9, 50, 10):\n",
    "    model = LGBMRegressor(random_state=12345, depth=3, n_estimators=est)\n",
    "    mse = cross_val_score(model, features_train_cat, target_train, scoring=make_scorer(mean_squared_error), cv=5, n_jobs=-1)\n",
    "    rmse = (mse**0.5).mean()\n",
    "    if rmse < best_rmse:\n",
    "        best_model = model\n",
    "        best_rmse = rmse\n",
    "        best_depth = depth\n",
    "        best_est = est\n",
    "            \n",
    "        \n",
    "print('RMSE для LightGBM:', best_rmse,'\\nГлубина: 3\\nКоличество деревьев:', best_est, '\\n')"
   ]
  },
  {
   "cell_type": "code",
   "execution_count": 56,
   "metadata": {},
   "outputs": [
    {
     "data": {
      "text/html": [
       "<div>\n",
       "<style scoped>\n",
       "    .dataframe tbody tr th:only-of-type {\n",
       "        vertical-align: middle;\n",
       "    }\n",
       "\n",
       "    .dataframe tbody tr th {\n",
       "        vertical-align: top;\n",
       "    }\n",
       "\n",
       "    .dataframe thead th {\n",
       "        text-align: right;\n",
       "    }\n",
       "</style>\n",
       "<table border=\"1\" class=\"dataframe\">\n",
       "  <thead>\n",
       "    <tr style=\"text-align: right;\">\n",
       "      <th></th>\n",
       "      <th>t, c</th>\n",
       "      <th>RMSE</th>\n",
       "    </tr>\n",
       "  </thead>\n",
       "  <tbody>\n",
       "    <tr>\n",
       "      <td>Линейная регрессия</td>\n",
       "      <td>1.0</td>\n",
       "      <td>2854.82</td>\n",
       "    </tr>\n",
       "    <tr>\n",
       "      <td>Дерево решений</td>\n",
       "      <td>3.6</td>\n",
       "      <td>2854.82</td>\n",
       "    </tr>\n",
       "    <tr>\n",
       "      <td>Случайный лес</td>\n",
       "      <td>131.0</td>\n",
       "      <td>2065.00</td>\n",
       "    </tr>\n",
       "    <tr>\n",
       "      <td>LightGBM</td>\n",
       "      <td>95.0</td>\n",
       "      <td>1679.59</td>\n",
       "    </tr>\n",
       "  </tbody>\n",
       "</table>\n",
       "</div>"
      ],
      "text/plain": [
       "                     t, c     RMSE\n",
       "Линейная регрессия    1.0  2854.82\n",
       "Дерево решений        3.6  2854.82\n",
       "Случайный лес       131.0  2065.00\n",
       "LightGBM             95.0  1679.59"
      ]
     },
     "execution_count": 56,
     "metadata": {},
     "output_type": "execute_result"
    }
   ],
   "source": [
    "time.append(1*60+35)\n",
    "rmse_list.append(best_rmse.round(2))\n",
    "index_list = ['Линейная регрессия', 'Дерево решений', \"Случайный лес\", 'LightGBM']\n",
    "d = {'t, c': time, 'RMSE': rmse_list}\n",
    "df_train = pd.DataFrame(data=d, index = index_list)\n",
    "df_train"
   ]
  },
  {
   "cell_type": "markdown",
   "metadata": {},
   "source": [
    "#### Вывод\n",
    "Наименьшее RMSE у модели градиентного бустинга: 1679"
   ]
  },
  {
   "cell_type": "markdown",
   "metadata": {},
   "source": [
    "## Анализ моделей"
   ]
  },
  {
   "cell_type": "markdown",
   "metadata": {},
   "source": [
    "#### Линейная регрессия"
   ]
  },
  {
   "cell_type": "code",
   "execution_count": 57,
   "metadata": {},
   "outputs": [
    {
     "name": "stdout",
     "output_type": "stream",
     "text": [
      "RMSE для линейной регрессии на тестовых данных: 2837.4231224781383\n",
      "CPU times: user 61.3 ms, sys: 28.3 ms, total: 89.6 ms\n",
      "Wall time: 78.8 ms\n"
     ]
    }
   ],
   "source": [
    "%%time\n",
    "\n",
    "model = LinearRegression()\n",
    "model.fit(f_train_st, target_train)\n",
    "predictions = model.predict(f_test_st)\n",
    "rmse_line = (mean_squared_error(target_test, predictions)**0.5).mean()\n",
    "\n",
    "print('RMSE для линейной регрессии на тестовых данных:', rmse_line)"
   ]
  },
  {
   "cell_type": "code",
   "execution_count": 58,
   "metadata": {},
   "outputs": [],
   "source": [
    "time = []\n",
    "rmse_list = []\n",
    "time.append(0.05)\n",
    "rmse_list.append(rmse_line.round(2))"
   ]
  },
  {
   "cell_type": "markdown",
   "metadata": {},
   "source": [
    "#### Дерево решений "
   ]
  },
  {
   "cell_type": "code",
   "execution_count": 59,
   "metadata": {},
   "outputs": [
    {
     "name": "stdout",
     "output_type": "stream",
     "text": [
      "RMSE для DecisionTreeRegressor: 3563.7084187110777 \n",
      "Глубина: 1\n",
      "\n",
      "CPU times: user 232 ms, sys: 32.5 ms, total: 265 ms\n",
      "Wall time: 280 ms\n"
     ]
    }
   ],
   "source": [
    "%%time\n",
    "\n",
    "model = DecisionTreeRegressor(max_depth=1, random_state=12345)\n",
    "model.fit(features_train, target_train)\n",
    "predictions = model.predict(features_test)\n",
    "rmse_dec = (mean_squared_error(target_test, predictions)**0.5).mean()\n",
    "\n",
    "\n",
    "print('RMSE для DecisionTreeRegressor:', rmse_dec,'\\nГлубина: 1\\n')"
   ]
  },
  {
   "cell_type": "code",
   "execution_count": 60,
   "metadata": {},
   "outputs": [],
   "source": [
    "time.append(0.2)\n",
    "rmse_list.append(rmse_dec.round(2))"
   ]
  },
  {
   "cell_type": "markdown",
   "metadata": {},
   "source": [
    "#### Случайный лес"
   ]
  },
  {
   "cell_type": "code",
   "execution_count": 61,
   "metadata": {},
   "outputs": [
    {
     "name": "stdout",
     "output_type": "stream",
     "text": [
      "RMSE для RandomForestRegressor: 2083.0872525525774 \n",
      "Глубина: 3\n",
      "Количество деревьев: 49\n",
      "\n",
      "CPU times: user 16.5 s, sys: 34 ms, total: 16.5 s\n",
      "Wall time: 16.9 s\n"
     ]
    }
   ],
   "source": [
    "%%time\n",
    "\n",
    "model = RandomForestRegressor(max_depth=7, n_estimators=49 , random_state=12345)\n",
    "model.fit(features_train, target_train)\n",
    "predictions = model.predict(features_test)\n",
    "rmse_rand= (mean_squared_error(target_test, predictions)**0.5).mean()\n",
    "\n",
    "\n",
    "print('RMSE для RandomForestRegressor:', rmse_rand,'\\nГлубина: 3\\nКоличество деревьев: 49\\n')"
   ]
  },
  {
   "cell_type": "code",
   "execution_count": 62,
   "metadata": {},
   "outputs": [],
   "source": [
    "time.append(16)\n",
    "rmse_list.append(rmse_rand.round(2))"
   ]
  },
  {
   "cell_type": "markdown",
   "metadata": {},
   "source": [
    "#### LightGBM"
   ]
  },
  {
   "cell_type": "code",
   "execution_count": 63,
   "metadata": {},
   "outputs": [],
   "source": [
    "features_test_cat = features_test\n",
    "features_test_cat[col] = features_test_cat[col].astype('category')"
   ]
  },
  {
   "cell_type": "code",
   "execution_count": 64,
   "metadata": {},
   "outputs": [
    {
     "name": "stdout",
     "output_type": "stream",
     "text": [
      "RMSE для LightGBM: 1651.9075360622621 \n",
      "Глубина: 3\n",
      "Количество деревьев: 49 \n",
      "\n",
      "CPU times: user 6.05 s, sys: 21.6 ms, total: 6.07 s\n",
      "Wall time: 6.08 s\n"
     ]
    }
   ],
   "source": [
    "%%time \n",
    "\n",
    "model = LGBMRegressor(random_state=12345, depth=3, n_estimators=49)\n",
    "model.fit(features_train_cat, target_train)\n",
    "predictions = model.predict(features_test_cat)\n",
    "rmse_gbm = (mean_squared_error(target_test, predictions)**0.5).mean()\n",
    "\n",
    "print('RMSE для LightGBM:', rmse_gbm,'\\nГлубина: 3\\nКоличество деревьев:', best_est, '\\n')"
   ]
  },
  {
   "cell_type": "code",
   "execution_count": 65,
   "metadata": {},
   "outputs": [],
   "source": [
    "time.append(6)\n",
    "rmse_list.append((rmse_gbm).round(2))\n",
    "index_list = ['Линейная регрессия', 'Дерево решений', \"Случайный лес\", 'LightGBM']\n",
    "d = {'t, c': time, 'RMSE': rmse_list}\n",
    "df_test = pd.DataFrame(data=d, index = index_list)"
   ]
  },
  {
   "cell_type": "code",
   "execution_count": 66,
   "metadata": {},
   "outputs": [
    {
     "data": {
      "text/html": [
       "<div>\n",
       "<style scoped>\n",
       "    .dataframe tbody tr th:only-of-type {\n",
       "        vertical-align: middle;\n",
       "    }\n",
       "\n",
       "    .dataframe tbody tr th {\n",
       "        vertical-align: top;\n",
       "    }\n",
       "\n",
       "    .dataframe thead th {\n",
       "        text-align: right;\n",
       "    }\n",
       "</style>\n",
       "<table border=\"1\" class=\"dataframe\">\n",
       "  <thead>\n",
       "    <tr style=\"text-align: right;\">\n",
       "      <th></th>\n",
       "      <th>t, c</th>\n",
       "      <th>RMSE</th>\n",
       "    </tr>\n",
       "  </thead>\n",
       "  <tbody>\n",
       "    <tr>\n",
       "      <td>Линейная регрессия</td>\n",
       "      <td>0.05</td>\n",
       "      <td>2837.42</td>\n",
       "    </tr>\n",
       "    <tr>\n",
       "      <td>Дерево решений</td>\n",
       "      <td>0.20</td>\n",
       "      <td>3563.71</td>\n",
       "    </tr>\n",
       "    <tr>\n",
       "      <td>Случайный лес</td>\n",
       "      <td>16.00</td>\n",
       "      <td>2083.09</td>\n",
       "    </tr>\n",
       "    <tr>\n",
       "      <td>LightGBM</td>\n",
       "      <td>6.00</td>\n",
       "      <td>1651.91</td>\n",
       "    </tr>\n",
       "  </tbody>\n",
       "</table>\n",
       "</div>"
      ],
      "text/plain": [
       "                     t, c     RMSE\n",
       "Линейная регрессия   0.05  2837.42\n",
       "Дерево решений       0.20  3563.71\n",
       "Случайный лес       16.00  2083.09\n",
       "LightGBM             6.00  1651.91"
      ]
     },
     "execution_count": 66,
     "metadata": {},
     "output_type": "execute_result"
    }
   ],
   "source": [
    "df_test"
   ]
  },
  {
   "cell_type": "markdown",
   "metadata": {},
   "source": [
    "## Вывод\n",
    "Проведена прдобработка данных и обучена модель линейной регрессией, случайным лесом, деревом решиний и градиентным буститнгом.\n",
    "Наилучшие показатели метрики показала модель, обученная градиентым бустингом: RMSE для LightGBM: 1651, при этом быстрее всех обучилась линейная регрессия, но Rmse = 2837.\n",
    "\n",
    "Исходя из  результатов теста предлагаю модель градиентного бустинга, так как качество опережает существенно все остальные модели, а время предсказания меньше случайного леса/.\n",
    "\n"
   ]
  }
 ],
 "metadata": {
  "kernelspec": {
   "display_name": "Python 3",
   "language": "python",
   "name": "python3"
  },
  "language_info": {
   "codemirror_mode": {
    "name": "ipython",
    "version": 3
   },
   "file_extension": ".py",
   "mimetype": "text/x-python",
   "name": "python",
   "nbconvert_exporter": "python",
   "pygments_lexer": "ipython3",
   "version": "3.7.10"
  },
  "toc": {
   "base_numbering": "1.",
   "nav_menu": {},
   "number_sections": false,
   "sideBar": true,
   "skip_h1_title": false,
   "title_cell": "Table of Contents",
   "title_sidebar": "Contents",
   "toc_cell": true,
   "toc_position": {
    "height": "calc(100% - 180px)",
    "left": "10px",
    "top": "150px",
    "width": "354.761px"
   },
   "toc_section_display": true,
   "toc_window_display": true
  }
 },
 "nbformat": 4,
 "nbformat_minor": 2
}
