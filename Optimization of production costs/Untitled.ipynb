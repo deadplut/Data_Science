{
 "cells": [
  {
   "cell_type": "code",
   "execution_count": null,
   "id": "60031c3d",
   "metadata": {},
   "outputs": [],
   "source": [
    "data_arc = pd.read_csv('datasets\\\\final_steel\\\\data_arc.csv')\n",
    "data_bulk_time = pd.read_csv('datasets\\\\final_steel\\\\data_bulk_time.csv')\n",
    "data_gas = pd.read_csv('datasets\\\\final_steel\\\\data_gas.csv')\n",
    "data_temp = pd.read_csv('datasets\\\\final_steel\\\\data_temp.csv')\n",
    "data_wire = pd.read_csv('datasets\\\\final_steel\\\\data_wire.csv')\n",
    "data_wire_time = pd.read_csv('datasets\\\\final_steel\\\\data_wire_time.csv')\n",
    "data_bulk = pd.read_csv('datasets\\\\final_steel\\\\data_bulk.csv')"
   ]
  }
 ],
 "metadata": {
  "kernelspec": {
   "display_name": "Python 3",
   "language": "python",
   "name": "python3"
  },
  "language_info": {
   "codemirror_mode": {
    "name": "ipython",
    "version": 3
   },
   "file_extension": ".py",
   "mimetype": "text/x-python",
   "name": "python",
   "nbconvert_exporter": "python",
   "pygments_lexer": "ipython3",
   "version": "3.8.8"
  }
 },
 "nbformat": 4,
 "nbformat_minor": 5
}
