{
 "cells": [
  {
   "cell_type": "markdown",
   "id": "5077bbee",
   "metadata": {},
   "source": [
    "# Оптимизировация производственных расходов"
   ]
  },
  {
   "cell_type": "markdown",
   "id": "bd792fce",
   "metadata": {},
   "source": [
    "## Введение\n",
    "Для оптимизирования производственных расходов, металлургический комбинат ООО «Так закаляем сталь» решил уменьшить потребление электроэнергии на этапе обработки стали. Задача состоит в том, чтобы построить модель, которая предскажет температуру стали.\n",
    "\n",
    "\n",
    "### План работы\n",
    "\n",
    "1. Подготовка данных:\n",
    "        1.1. Открытие и изучиние файлов;\n",
    "        1.2. Предобработка данных;\n",
    "        1.3. Подготовка признаков(создание таблицы с признаками и таргетом)\n",
    "2. Обучение модели:\n",
    "        2.1. \n",
    "        2.2.  \n",
    "3. Тестирование модели:\n",
    "4. Вывод.\n",
    "\n",
    "\n",
    "\n",
    "\n",
    "\n",
    "### Описание этапа обработки\n",
    "\n",
    "Сталь обрабатывают в металлическом ковше вместимостью около 100 тонн. Чтобы ковш выдерживал высокие температуры, изнутри его облицовывают огнеупорным кирпичом. Расплавленную сталь заливают в ковш и подогревают до нужной температуры графитовыми электродами. Они установлены в крышке ковша. \n",
    "\n",
    "Из сплава выводится сера (десульфурация), добавлением примесей корректируется химический состав и отбираются пробы. Сталь легируют — изменяют её состав — подавая куски сплава из бункера для сыпучих материалов или проволоку через специальный трайб-аппарат (англ. tribe, «масса»).\n",
    "\n",
    "Перед тем как первый раз ввести легирующие добавки, измеряют температуру стали и производят её химический анализ. Потом температуру на несколько минут повышают, добавляют легирующие материалы и продувают сплав инертным газом. Затем его перемешивают и снова проводят измерения. Такой цикл повторяется до достижения целевого химического состава и оптимальной температуры плавки.\n",
    "\n",
    "Тогда расплавленная сталь отправляется на доводку металла или поступает в машину непрерывной разливки. Оттуда готовый продукт выходит в виде заготовок-слябов (англ. *slab*, «плита»).\n",
    "\n",
    "### Описание данных\n",
    "\n",
    "Данные состоят из файлов, полученных из разных источников:\n",
    "\n",
    "- `data_arc.csv` — данные об электродах;\n",
    "- `data_bulk.csv` — данные о подаче сыпучих материалов (объём);\n",
    "- `data_bulk_time.csv` *—* данные о подаче сыпучих материалов (время);\n",
    "- `data_gas.csv` — данные о продувке сплава газом;\n",
    "- `data_temp.csv` — результаты измерения температуры;\n",
    "- `data_wire.csv` — данные о проволочных материалах (объём);\n",
    "- `data_wire_time.csv` — данные о проволочных материалах (время).\n",
    "\n",
    "Во всех файлах столбец `key` содержит номер партии. В файлах может быть несколько строк с одинаковым значением `key`: они соответствуют разным итерациям обработки."
   ]
  },
  {
   "cell_type": "code",
   "execution_count": 1,
   "id": "41705883",
   "metadata": {},
   "outputs": [],
   "source": [
    "import pandas as pd\n",
    "import numpy as np\n",
    "import matplotlib.pyplot as plt\n",
    "import seaborn as sns\n",
    "from sklearn.preprocessing import OrdinalEncoder\n",
    "from sklearn.linear_model import LinearRegression\n",
    "from lightgbm import LGBMRegressor\n",
    "from sklearn.model_selection import cross_val_score\n",
    "from sklearn.metrics import fbeta_score, make_scorer\n",
    "import matplotlib.pyplot as plt\n",
    "from sklearn.preprocessing import OrdinalEncoder\n",
    "import seaborn as sns\n",
    "from sklearn.preprocessing import StandardScaler\n",
    "from sklearn.ensemble import RandomForestRegressor\n",
    "from sklearn.tree import DecisionTreeRegressor\n",
    "from sklearn.model_selection import train_test_split\n",
    "\n",
    "from sklearn.metrics import mean_absolute_error"
   ]
  },
  {
   "cell_type": "code",
   "execution_count": 2,
   "id": "1fc2b29a",
   "metadata": {
    "scrolled": true
   },
   "outputs": [
    {
     "data": {
      "text/plain": [
       "\"\\ndata_arc = pd.read_csv(\\n    '/datasets/final_steel/data_arc.csv')\\ndata_bulk_time = pd.read_csv('/datasets/final_steel/data_bulk_time.csv')\\ndata_gas = pd.read_csv('/datasets/final_steel/data_gas.csv')\\ndata_temp = pd.read_csv('/datasets/final_steel/data_temp.csv')\\ndata_wire = pd.read_csv('/datasets/final_steel/data_wire.csv')\\ndata_wire_time = pd.read_csv('/datasets/final_steel/data_wire_time.csv')\\ndata_bulk = pd.read_csv('/datasets/final_steel/data_bulk.csv')\""
      ]
     },
     "execution_count": 2,
     "metadata": {},
     "output_type": "execute_result"
    }
   ],
   "source": [
    "data_arc = pd.read_csv('datasets\\\\final_steel\\\\data_arc.csv')\n",
    "data_bulk_time = pd.read_csv('datasets\\\\final_steel\\\\data_bulk_time.csv')\n",
    "data_gas = pd.read_csv('datasets\\\\final_steel\\\\data_gas.csv')\n",
    "data_temp = pd.read_csv('datasets\\\\final_steel\\\\data_temp.csv')\n",
    "data_wire = pd.read_csv('datasets\\\\final_steel\\\\data_wire.csv')\n",
    "data_wire_time = pd.read_csv('datasets\\\\final_steel\\\\data_wire_time.csv')\n",
    "data_bulk = pd.read_csv('datasets\\\\final_steel\\\\data_bulk.csv')\n",
    "\n",
    "\n",
    "'''\n",
    "data_arc = pd.read_csv(\n",
    "    '/datasets/final_steel/data_arc.csv')\n",
    "data_bulk_time = pd.read_csv('/datasets/final_steel/data_bulk_time.csv')\n",
    "data_gas = pd.read_csv('/datasets/final_steel/data_gas.csv')\n",
    "data_temp = pd.read_csv('/datasets/final_steel/data_temp.csv')\n",
    "data_wire = pd.read_csv('/datasets/final_steel/data_wire.csv')\n",
    "data_wire_time = pd.read_csv('/datasets/final_steel/data_wire_time.csv')\n",
    "data_bulk = pd.read_csv('/datasets/final_steel/data_bulk.csv')'''"
   ]
  },
  {
   "cell_type": "markdown",
   "id": "e23a349e",
   "metadata": {},
   "source": [
    "## 1. Подготовка данных\n",
    "### 1.1 Данные об электродах\n",
    "#### Открытие и изучение"
   ]
  },
  {
   "cell_type": "code",
   "execution_count": 3,
   "id": "25511cc5",
   "metadata": {},
   "outputs": [
    {
     "data": {
      "text/html": [
       "<div>\n",
       "<style scoped>\n",
       "    .dataframe tbody tr th:only-of-type {\n",
       "        vertical-align: middle;\n",
       "    }\n",
       "\n",
       "    .dataframe tbody tr th {\n",
       "        vertical-align: top;\n",
       "    }\n",
       "\n",
       "    .dataframe thead th {\n",
       "        text-align: right;\n",
       "    }\n",
       "</style>\n",
       "<table border=\"1\" class=\"dataframe\">\n",
       "  <thead>\n",
       "    <tr style=\"text-align: right;\">\n",
       "      <th></th>\n",
       "      <th>key</th>\n",
       "      <th>Начало нагрева дугой</th>\n",
       "      <th>Конец нагрева дугой</th>\n",
       "      <th>Активная мощность</th>\n",
       "      <th>Реактивная мощность</th>\n",
       "    </tr>\n",
       "  </thead>\n",
       "  <tbody>\n",
       "    <tr>\n",
       "      <th>0</th>\n",
       "      <td>1</td>\n",
       "      <td>2019-05-03 11:02:14</td>\n",
       "      <td>2019-05-03 11:06:02</td>\n",
       "      <td>0.976059</td>\n",
       "      <td>0.687084</td>\n",
       "    </tr>\n",
       "    <tr>\n",
       "      <th>1</th>\n",
       "      <td>1</td>\n",
       "      <td>2019-05-03 11:07:28</td>\n",
       "      <td>2019-05-03 11:10:33</td>\n",
       "      <td>0.805607</td>\n",
       "      <td>0.520285</td>\n",
       "    </tr>\n",
       "    <tr>\n",
       "      <th>2</th>\n",
       "      <td>1</td>\n",
       "      <td>2019-05-03 11:11:44</td>\n",
       "      <td>2019-05-03 11:14:36</td>\n",
       "      <td>0.744363</td>\n",
       "      <td>0.498805</td>\n",
       "    </tr>\n",
       "    <tr>\n",
       "      <th>3</th>\n",
       "      <td>1</td>\n",
       "      <td>2019-05-03 11:18:14</td>\n",
       "      <td>2019-05-03 11:24:19</td>\n",
       "      <td>1.659363</td>\n",
       "      <td>1.062669</td>\n",
       "    </tr>\n",
       "    <tr>\n",
       "      <th>4</th>\n",
       "      <td>1</td>\n",
       "      <td>2019-05-03 11:26:09</td>\n",
       "      <td>2019-05-03 11:28:37</td>\n",
       "      <td>0.692755</td>\n",
       "      <td>0.414397</td>\n",
       "    </tr>\n",
       "  </tbody>\n",
       "</table>\n",
       "</div>"
      ],
      "text/plain": [
       "   key Начало нагрева дугой  Конец нагрева дугой  Активная мощность  \\\n",
       "0    1  2019-05-03 11:02:14  2019-05-03 11:06:02           0.976059   \n",
       "1    1  2019-05-03 11:07:28  2019-05-03 11:10:33           0.805607   \n",
       "2    1  2019-05-03 11:11:44  2019-05-03 11:14:36           0.744363   \n",
       "3    1  2019-05-03 11:18:14  2019-05-03 11:24:19           1.659363   \n",
       "4    1  2019-05-03 11:26:09  2019-05-03 11:28:37           0.692755   \n",
       "\n",
       "   Реактивная мощность  \n",
       "0             0.687084  \n",
       "1             0.520285  \n",
       "2             0.498805  \n",
       "3             1.062669  \n",
       "4             0.414397  "
      ]
     },
     "execution_count": 3,
     "metadata": {},
     "output_type": "execute_result"
    }
   ],
   "source": [
    "data_arc.head(5)"
   ]
  },
  {
   "cell_type": "code",
   "execution_count": 4,
   "id": "bcb87087",
   "metadata": {
    "scrolled": true
   },
   "outputs": [
    {
     "name": "stdout",
     "output_type": "stream",
     "text": [
      "<class 'pandas.core.frame.DataFrame'>\n",
      "RangeIndex: 14876 entries, 0 to 14875\n",
      "Data columns (total 5 columns):\n",
      " #   Column                Non-Null Count  Dtype  \n",
      "---  ------                --------------  -----  \n",
      " 0   key                   14876 non-null  int64  \n",
      " 1   Начало нагрева дугой  14876 non-null  object \n",
      " 2   Конец нагрева дугой   14876 non-null  object \n",
      " 3   Активная мощность     14876 non-null  float64\n",
      " 4   Реактивная мощность   14876 non-null  float64\n",
      "dtypes: float64(2), int64(1), object(2)\n",
      "memory usage: 581.2+ KB\n"
     ]
    }
   ],
   "source": [
    "data_arc.info()"
   ]
  },
  {
   "cell_type": "markdown",
   "id": "88fc4d96",
   "metadata": {},
   "source": [
    "##### Вывод\n",
    "\n",
    "Следует привести названия столбцов к стандарту, преобразовать дату и время к формату datetime, найти и избавиться от выбросов, если такие есть."
   ]
  },
  {
   "cell_type": "markdown",
   "id": "ba1019a2",
   "metadata": {},
   "source": [
    "#### Предобработка данных"
   ]
  },
  {
   "cell_type": "code",
   "execution_count": 5,
   "id": "661a9c29",
   "metadata": {},
   "outputs": [],
   "source": [
    "# Замена названий столбцов\n",
    "\n",
    "data_arc = data_arc.rename({'Начало нагрева дугой':'start', 'Конец нагрева дугой':'end',\n",
    "       'Активная мощность':'active_power', 'Реактивная мощность':'reactive_power'}, axis=1)\n",
    "\n",
    "\n",
    "# Преобразование даты и времени к формату datetime\n",
    "\n",
    "data_arc['start'] =  pd.to_datetime(data_arc['start'], format='%Y%m%d %H:%M:%S')\n",
    "data_arc['end'] =  pd.to_datetime(data_arc['end'], format='%Y%m%d %H:%M:%S')\n",
    "\n",
    "\n",
    "# Выделение времени нагрева в отдельный столбец\n",
    "\n",
    "data_arc['time'] = data_arc['end'] - data_arc['start']\n",
    "data_arc.time = data_arc.time.apply(lambda x: x.total_seconds()) # округление до секунд"
   ]
  },
  {
   "cell_type": "code",
   "execution_count": 6,
   "id": "7f447270",
   "metadata": {},
   "outputs": [
    {
     "data": {
      "text/plain": [
       "0"
      ]
     },
     "execution_count": 6,
     "metadata": {},
     "output_type": "execute_result"
    }
   ],
   "source": [
    "# Проверка на дубликаты\n",
    "\n",
    "data_arc.duplicated().sum()"
   ]
  },
  {
   "cell_type": "code",
   "execution_count": 7,
   "id": "f5044fda",
   "metadata": {},
   "outputs": [
    {
     "data": {
      "text/html": [
       "<div>\n",
       "<style scoped>\n",
       "    .dataframe tbody tr th:only-of-type {\n",
       "        vertical-align: middle;\n",
       "    }\n",
       "\n",
       "    .dataframe tbody tr th {\n",
       "        vertical-align: top;\n",
       "    }\n",
       "\n",
       "    .dataframe thead th {\n",
       "        text-align: right;\n",
       "    }\n",
       "</style>\n",
       "<table border=\"1\" class=\"dataframe\">\n",
       "  <thead>\n",
       "    <tr style=\"text-align: right;\">\n",
       "      <th></th>\n",
       "      <th>active_power</th>\n",
       "      <th>reactive_power</th>\n",
       "      <th>time</th>\n",
       "    </tr>\n",
       "  </thead>\n",
       "  <tbody>\n",
       "    <tr>\n",
       "      <th>count</th>\n",
       "      <td>14876.000000</td>\n",
       "      <td>14876.000000</td>\n",
       "      <td>14876.000000</td>\n",
       "    </tr>\n",
       "    <tr>\n",
       "      <th>mean</th>\n",
       "      <td>0.670441</td>\n",
       "      <td>0.452592</td>\n",
       "      <td>171.670946</td>\n",
       "    </tr>\n",
       "    <tr>\n",
       "      <th>std</th>\n",
       "      <td>0.408159</td>\n",
       "      <td>5.878702</td>\n",
       "      <td>98.186803</td>\n",
       "    </tr>\n",
       "    <tr>\n",
       "      <th>min</th>\n",
       "      <td>0.030002</td>\n",
       "      <td>-715.504924</td>\n",
       "      <td>11.000000</td>\n",
       "    </tr>\n",
       "    <tr>\n",
       "      <th>25%</th>\n",
       "      <td>0.395297</td>\n",
       "      <td>0.290991</td>\n",
       "      <td>107.000000</td>\n",
       "    </tr>\n",
       "    <tr>\n",
       "      <th>50%</th>\n",
       "      <td>0.555517</td>\n",
       "      <td>0.415962</td>\n",
       "      <td>147.000000</td>\n",
       "    </tr>\n",
       "    <tr>\n",
       "      <th>75%</th>\n",
       "      <td>0.857034</td>\n",
       "      <td>0.637371</td>\n",
       "      <td>214.000000</td>\n",
       "    </tr>\n",
       "    <tr>\n",
       "      <th>max</th>\n",
       "      <td>3.731596</td>\n",
       "      <td>2.676388</td>\n",
       "      <td>907.000000</td>\n",
       "    </tr>\n",
       "  </tbody>\n",
       "</table>\n",
       "</div>"
      ],
      "text/plain": [
       "       active_power  reactive_power          time\n",
       "count  14876.000000    14876.000000  14876.000000\n",
       "mean       0.670441        0.452592    171.670946\n",
       "std        0.408159        5.878702     98.186803\n",
       "min        0.030002     -715.504924     11.000000\n",
       "25%        0.395297        0.290991    107.000000\n",
       "50%        0.555517        0.415962    147.000000\n",
       "75%        0.857034        0.637371    214.000000\n",
       "max        3.731596        2.676388    907.000000"
      ]
     },
     "execution_count": 7,
     "metadata": {},
     "output_type": "execute_result"
    }
   ],
   "source": [
    "data_arc.drop('key', axis=1).describe()"
   ]
  },
  {
   "cell_type": "markdown",
   "id": "4b017fa5",
   "metadata": {},
   "source": [
    "У реактивной мощности выделяется минимальное значение крайне сильно."
   ]
  },
  {
   "cell_type": "code",
   "execution_count": 8,
   "id": "fa4d5f8e",
   "metadata": {},
   "outputs": [
    {
     "data": {
      "text/html": [
       "<div>\n",
       "<style scoped>\n",
       "    .dataframe tbody tr th:only-of-type {\n",
       "        vertical-align: middle;\n",
       "    }\n",
       "\n",
       "    .dataframe tbody tr th {\n",
       "        vertical-align: top;\n",
       "    }\n",
       "\n",
       "    .dataframe thead th {\n",
       "        text-align: right;\n",
       "    }\n",
       "</style>\n",
       "<table border=\"1\" class=\"dataframe\">\n",
       "  <thead>\n",
       "    <tr style=\"text-align: right;\">\n",
       "      <th></th>\n",
       "      <th>key</th>\n",
       "      <th>start</th>\n",
       "      <th>end</th>\n",
       "      <th>active_power</th>\n",
       "      <th>reactive_power</th>\n",
       "      <th>time</th>\n",
       "    </tr>\n",
       "  </thead>\n",
       "  <tbody>\n",
       "    <tr>\n",
       "      <th>9780</th>\n",
       "      <td>2116</td>\n",
       "      <td>2019-07-24 00:44:48</td>\n",
       "      <td>2019-07-24 00:46:37</td>\n",
       "      <td>0.495782</td>\n",
       "      <td>-715.504924</td>\n",
       "      <td>109.0</td>\n",
       "    </tr>\n",
       "  </tbody>\n",
       "</table>\n",
       "</div>"
      ],
      "text/plain": [
       "       key               start                 end  active_power  \\\n",
       "9780  2116 2019-07-24 00:44:48 2019-07-24 00:46:37      0.495782   \n",
       "\n",
       "      reactive_power   time  \n",
       "9780     -715.504924  109.0  "
      ]
     },
     "execution_count": 8,
     "metadata": {},
     "output_type": "execute_result"
    }
   ],
   "source": [
    "data_arc[data_arc['reactive_power']<0]"
   ]
  },
  {
   "cell_type": "markdown",
   "id": "47c1dcde",
   "metadata": {},
   "source": [
    "Скорее всего, это выброс, связанной с ошибкой в записи.\n",
    "Удалим выброс, так как количество меньше 1%."
   ]
  },
  {
   "cell_type": "code",
   "execution_count": 9,
   "id": "e1672d2e",
   "metadata": {},
   "outputs": [],
   "source": [
    "data_arc = data_arc[data_arc['reactive_power']>=0] # удаление"
   ]
  },
  {
   "cell_type": "code",
   "execution_count": 10,
   "id": "b26ce089",
   "metadata": {},
   "outputs": [
    {
     "data": {
      "text/html": [
       "<div>\n",
       "<style scoped>\n",
       "    .dataframe tbody tr th:only-of-type {\n",
       "        vertical-align: middle;\n",
       "    }\n",
       "\n",
       "    .dataframe tbody tr th {\n",
       "        vertical-align: top;\n",
       "    }\n",
       "\n",
       "    .dataframe thead th {\n",
       "        text-align: right;\n",
       "    }\n",
       "</style>\n",
       "<table border=\"1\" class=\"dataframe\">\n",
       "  <thead>\n",
       "    <tr style=\"text-align: right;\">\n",
       "      <th></th>\n",
       "      <th>active_power</th>\n",
       "      <th>reactive_power</th>\n",
       "      <th>time</th>\n",
       "    </tr>\n",
       "    <tr>\n",
       "      <th>key</th>\n",
       "      <th></th>\n",
       "      <th></th>\n",
       "      <th></th>\n",
       "    </tr>\n",
       "  </thead>\n",
       "  <tbody>\n",
       "    <tr>\n",
       "      <th>1</th>\n",
       "      <td>4.878147</td>\n",
       "      <td>3.183241</td>\n",
       "      <td>1098.0</td>\n",
       "    </tr>\n",
       "    <tr>\n",
       "      <th>2</th>\n",
       "      <td>3.052598</td>\n",
       "      <td>1.998112</td>\n",
       "      <td>811.0</td>\n",
       "    </tr>\n",
       "    <tr>\n",
       "      <th>3</th>\n",
       "      <td>2.525882</td>\n",
       "      <td>1.599076</td>\n",
       "      <td>655.0</td>\n",
       "    </tr>\n",
       "    <tr>\n",
       "      <th>4</th>\n",
       "      <td>3.209250</td>\n",
       "      <td>2.060298</td>\n",
       "      <td>741.0</td>\n",
       "    </tr>\n",
       "    <tr>\n",
       "      <th>5</th>\n",
       "      <td>3.347173</td>\n",
       "      <td>2.252643</td>\n",
       "      <td>869.0</td>\n",
       "    </tr>\n",
       "  </tbody>\n",
       "</table>\n",
       "</div>"
      ],
      "text/plain": [
       "     active_power  reactive_power    time\n",
       "key                                      \n",
       "1        4.878147        3.183241  1098.0\n",
       "2        3.052598        1.998112   811.0\n",
       "3        2.525882        1.599076   655.0\n",
       "4        3.209250        2.060298   741.0\n",
       "5        3.347173        2.252643   869.0"
      ]
     },
     "execution_count": 10,
     "metadata": {},
     "output_type": "execute_result"
    }
   ],
   "source": [
    "data_arc = data_arc.groupby('key').sum()\n",
    "data_arc.head(5)"
   ]
  },
  {
   "cell_type": "code",
   "execution_count": 11,
   "id": "4d00a4f6",
   "metadata": {},
   "outputs": [
    {
     "data": {
      "text/html": [
       "<div>\n",
       "<style scoped>\n",
       "    .dataframe tbody tr th:only-of-type {\n",
       "        vertical-align: middle;\n",
       "    }\n",
       "\n",
       "    .dataframe tbody tr th {\n",
       "        vertical-align: top;\n",
       "    }\n",
       "\n",
       "    .dataframe thead th {\n",
       "        text-align: right;\n",
       "    }\n",
       "</style>\n",
       "<table border=\"1\" class=\"dataframe\">\n",
       "  <thead>\n",
       "    <tr style=\"text-align: right;\">\n",
       "      <th></th>\n",
       "      <th>active_power</th>\n",
       "      <th>reactive_power</th>\n",
       "      <th>time</th>\n",
       "    </tr>\n",
       "  </thead>\n",
       "  <tbody>\n",
       "    <tr>\n",
       "      <th>count</th>\n",
       "      <td>3214.000000</td>\n",
       "      <td>3214.000000</td>\n",
       "      <td>3214.000000</td>\n",
       "    </tr>\n",
       "    <tr>\n",
       "      <th>mean</th>\n",
       "      <td>3.102984</td>\n",
       "      <td>2.317442</td>\n",
       "      <td>794.545115</td>\n",
       "    </tr>\n",
       "    <tr>\n",
       "      <th>std</th>\n",
       "      <td>1.397556</td>\n",
       "      <td>1.054316</td>\n",
       "      <td>332.491076</td>\n",
       "    </tr>\n",
       "    <tr>\n",
       "      <th>min</th>\n",
       "      <td>0.186226</td>\n",
       "      <td>0.158247</td>\n",
       "      <td>57.000000</td>\n",
       "    </tr>\n",
       "    <tr>\n",
       "      <th>25%</th>\n",
       "      <td>2.126339</td>\n",
       "      <td>1.599018</td>\n",
       "      <td>571.000000</td>\n",
       "    </tr>\n",
       "    <tr>\n",
       "      <th>50%</th>\n",
       "      <td>2.990537</td>\n",
       "      <td>2.229869</td>\n",
       "      <td>770.000000</td>\n",
       "    </tr>\n",
       "    <tr>\n",
       "      <th>75%</th>\n",
       "      <td>3.901147</td>\n",
       "      <td>2.899141</td>\n",
       "      <td>983.000000</td>\n",
       "    </tr>\n",
       "    <tr>\n",
       "      <th>max</th>\n",
       "      <td>17.496497</td>\n",
       "      <td>12.587990</td>\n",
       "      <td>4189.000000</td>\n",
       "    </tr>\n",
       "  </tbody>\n",
       "</table>\n",
       "</div>"
      ],
      "text/plain": [
       "       active_power  reactive_power         time\n",
       "count   3214.000000     3214.000000  3214.000000\n",
       "mean       3.102984        2.317442   794.545115\n",
       "std        1.397556        1.054316   332.491076\n",
       "min        0.186226        0.158247    57.000000\n",
       "25%        2.126339        1.599018   571.000000\n",
       "50%        2.990537        2.229869   770.000000\n",
       "75%        3.901147        2.899141   983.000000\n",
       "max       17.496497       12.587990  4189.000000"
      ]
     },
     "execution_count": 11,
     "metadata": {},
     "output_type": "execute_result"
    }
   ],
   "source": [
    "data_arc.describe()"
   ]
  },
  {
   "cell_type": "code",
   "execution_count": 12,
   "id": "919d589a",
   "metadata": {},
   "outputs": [
    {
     "data": {
      "image/png": "[encoded data removed]",
      "text/plain": [
       "<Figure size 1152x432 with 1 Axes>"
      ]
     },
     "metadata": {
      "needs_background": "light"
     },
     "output_type": "display_data"
    }
   ],
   "source": [
    "data_arc['active_power'].hist(bins=100, figsize=(16,6), alpha=0.5, label = 'Активная мощность')\n",
    "data_arc['reactive_power'].hist(bins=100, figsize=(16,6), alpha=0.5, label = 'Реактивная мощность')\n",
    "plt.legend()\n",
    "plt.show()"
   ]
  },
  {
   "cell_type": "code",
   "execution_count": 13,
   "id": "bbe79029",
   "metadata": {},
   "outputs": [
    {
     "data": {
      "image/png": "[encoded data removed]",
      "text/plain": [
       "<Figure size 1152x432 with 1 Axes>"
      ]
     },
     "metadata": {
      "needs_background": "light"
     },
     "output_type": "display_data"
    }
   ],
   "source": [
    "data_arc['time'].hist(bins=200, figsize=(16,6), alpha=0.5, label='время, с')\n",
    "plt.legend()\n",
    "plt.show()"
   ]
  },
  {
   "cell_type": "code",
   "execution_count": 14,
   "id": "2e708368",
   "metadata": {},
   "outputs": [
    {
     "data": {
      "text/plain": [
       "<AxesSubplot:>"
      ]
     },
     "execution_count": 14,
     "metadata": {},
     "output_type": "execute_result"
    },
    {
     "data": {
      "image/png": "[encoded data removed]",
      "text/plain": [
       "<Figure size 432x288 with 2 Axes>"
      ]
     },
     "metadata": {
      "needs_background": "light"
     },
     "output_type": "display_data"
    }
   ],
   "source": [
    "corr = data_arc.corr()\n",
    "sns.heatmap(corr)"
   ]
  },
  {
   "cell_type": "code",
   "execution_count": 15,
   "id": "dd6f5e58",
   "metadata": {},
   "outputs": [
    {
     "data": {
      "text/html": [
       "<div>\n",
       "<style scoped>\n",
       "    .dataframe tbody tr th:only-of-type {\n",
       "        vertical-align: middle;\n",
       "    }\n",
       "\n",
       "    .dataframe tbody tr th {\n",
       "        vertical-align: top;\n",
       "    }\n",
       "\n",
       "    .dataframe thead th {\n",
       "        text-align: right;\n",
       "    }\n",
       "</style>\n",
       "<table border=\"1\" class=\"dataframe\">\n",
       "  <thead>\n",
       "    <tr style=\"text-align: right;\">\n",
       "      <th></th>\n",
       "      <th>active_power</th>\n",
       "      <th>reactive_power</th>\n",
       "      <th>time</th>\n",
       "    </tr>\n",
       "  </thead>\n",
       "  <tbody>\n",
       "    <tr>\n",
       "      <th>active_power</th>\n",
       "      <td>1.000000</td>\n",
       "      <td>0.957892</td>\n",
       "      <td>0.978012</td>\n",
       "    </tr>\n",
       "    <tr>\n",
       "      <th>reactive_power</th>\n",
       "      <td>0.957892</td>\n",
       "      <td>1.000000</td>\n",
       "      <td>0.966837</td>\n",
       "    </tr>\n",
       "    <tr>\n",
       "      <th>time</th>\n",
       "      <td>0.978012</td>\n",
       "      <td>0.966837</td>\n",
       "      <td>1.000000</td>\n",
       "    </tr>\n",
       "  </tbody>\n",
       "</table>\n",
       "</div>"
      ],
      "text/plain": [
       "                active_power  reactive_power      time\n",
       "active_power        1.000000        0.957892  0.978012\n",
       "reactive_power      0.957892        1.000000  0.966837\n",
       "time                0.978012        0.966837  1.000000"
      ]
     },
     "metadata": {},
     "output_type": "display_data"
    }
   ],
   "source": [
    "display(corr)"
   ]
  },
  {
   "cell_type": "markdown",
   "id": "bad29129",
   "metadata": {},
   "source": [
    "Слишком большой процент корреляции у схожих признаков, объеденим их в один столбец полная мощность 'f_power' по формуле:\n",
    "\n",
    "Полная мощность = √ (Активная мощность2 – Реактивная мощность2)\n"
   ]
  },
  {
   "cell_type": "code",
   "execution_count": 16,
   "id": "aa969be1",
   "metadata": {},
   "outputs": [],
   "source": [
    "data_arc['f_power'] = np.sqrt(np.add((np.power(data_arc['active_power'],2)),(np.power(data_arc['reactive_power'],2))))"
   ]
  },
  {
   "cell_type": "code",
   "execution_count": 17,
   "id": "79134610",
   "metadata": {},
   "outputs": [
    {
     "data": {
      "image/png": "[encoded data removed]",
      "text/plain": [
       "<Figure size 1152x432 with 1 Axes>"
      ]
     },
     "metadata": {
      "needs_background": "light"
     },
     "output_type": "display_data"
    }
   ],
   "source": [
    "\n",
    "data_arc['f_power'].hist(bins=200, figsize=(16,6), alpha=0.5, label='Полная мощность, с')\n",
    "plt.legend()\n",
    "plt.show()"
   ]
  },
  {
   "cell_type": "markdown",
   "id": "5303cdd9",
   "metadata": {},
   "source": [
    "Удалим реактивную и активную мощность."
   ]
  },
  {
   "cell_type": "code",
   "execution_count": 18,
   "id": "942ad5dd",
   "metadata": {},
   "outputs": [],
   "source": [
    "data_arc = data_arc.drop(['reactive_power', 'active_power'], axis=1)"
   ]
  },
  {
   "cell_type": "code",
   "execution_count": 19,
   "id": "9e69e732",
   "metadata": {},
   "outputs": [
    {
     "data": {
      "text/html": [
       "<div>\n",
       "<style scoped>\n",
       "    .dataframe tbody tr th:only-of-type {\n",
       "        vertical-align: middle;\n",
       "    }\n",
       "\n",
       "    .dataframe tbody tr th {\n",
       "        vertical-align: top;\n",
       "    }\n",
       "\n",
       "    .dataframe thead th {\n",
       "        text-align: right;\n",
       "    }\n",
       "</style>\n",
       "<table border=\"1\" class=\"dataframe\">\n",
       "  <thead>\n",
       "    <tr style=\"text-align: right;\">\n",
       "      <th></th>\n",
       "      <th>time</th>\n",
       "      <th>f_power</th>\n",
       "    </tr>\n",
       "    <tr>\n",
       "      <th>key</th>\n",
       "      <th></th>\n",
       "      <th></th>\n",
       "    </tr>\n",
       "  </thead>\n",
       "  <tbody>\n",
       "    <tr>\n",
       "      <th>1</th>\n",
       "      <td>1098.0</td>\n",
       "      <td>5.824889</td>\n",
       "    </tr>\n",
       "    <tr>\n",
       "      <th>2</th>\n",
       "      <td>811.0</td>\n",
       "      <td>3.648398</td>\n",
       "    </tr>\n",
       "    <tr>\n",
       "      <th>3</th>\n",
       "      <td>655.0</td>\n",
       "      <td>2.989502</td>\n",
       "    </tr>\n",
       "    <tr>\n",
       "      <th>4</th>\n",
       "      <td>741.0</td>\n",
       "      <td>3.813674</td>\n",
       "    </tr>\n",
       "    <tr>\n",
       "      <th>5</th>\n",
       "      <td>869.0</td>\n",
       "      <td>4.034596</td>\n",
       "    </tr>\n",
       "  </tbody>\n",
       "</table>\n",
       "</div>"
      ],
      "text/plain": [
       "       time   f_power\n",
       "key                  \n",
       "1    1098.0  5.824889\n",
       "2     811.0  3.648398\n",
       "3     655.0  2.989502\n",
       "4     741.0  3.813674\n",
       "5     869.0  4.034596"
      ]
     },
     "execution_count": 19,
     "metadata": {},
     "output_type": "execute_result"
    }
   ],
   "source": [
    "data_arc.head(5)"
   ]
  },
  {
   "cell_type": "markdown",
   "id": "a8d0f7a3",
   "metadata": {},
   "source": [
    "### 1.2 Данные о подаче сыпучих материалов (объём)\n",
    "#### Открытие и изучение"
   ]
  },
  {
   "cell_type": "code",
   "execution_count": 20,
   "id": "23a63dab",
   "metadata": {},
   "outputs": [
    {
     "data": {
      "text/html": [
       "<div>\n",
       "<style scoped>\n",
       "    .dataframe tbody tr th:only-of-type {\n",
       "        vertical-align: middle;\n",
       "    }\n",
       "\n",
       "    .dataframe tbody tr th {\n",
       "        vertical-align: top;\n",
       "    }\n",
       "\n",
       "    .dataframe thead th {\n",
       "        text-align: right;\n",
       "    }\n",
       "</style>\n",
       "<table border=\"1\" class=\"dataframe\">\n",
       "  <thead>\n",
       "    <tr style=\"text-align: right;\">\n",
       "      <th></th>\n",
       "      <th>key</th>\n",
       "      <th>Bulk 1</th>\n",
       "      <th>Bulk 2</th>\n",
       "      <th>Bulk 3</th>\n",
       "      <th>Bulk 4</th>\n",
       "      <th>Bulk 5</th>\n",
       "      <th>Bulk 6</th>\n",
       "      <th>Bulk 7</th>\n",
       "      <th>Bulk 8</th>\n",
       "      <th>Bulk 9</th>\n",
       "      <th>Bulk 10</th>\n",
       "      <th>Bulk 11</th>\n",
       "      <th>Bulk 12</th>\n",
       "      <th>Bulk 13</th>\n",
       "      <th>Bulk 14</th>\n",
       "      <th>Bulk 15</th>\n",
       "    </tr>\n",
       "  </thead>\n",
       "  <tbody>\n",
       "    <tr>\n",
       "      <th>0</th>\n",
       "      <td>1</td>\n",
       "      <td>NaN</td>\n",
       "      <td>NaN</td>\n",
       "      <td>NaN</td>\n",
       "      <td>43.0</td>\n",
       "      <td>NaN</td>\n",
       "      <td>NaN</td>\n",
       "      <td>NaN</td>\n",
       "      <td>NaN</td>\n",
       "      <td>NaN</td>\n",
       "      <td>NaN</td>\n",
       "      <td>NaN</td>\n",
       "      <td>206.0</td>\n",
       "      <td>NaN</td>\n",
       "      <td>150.0</td>\n",
       "      <td>154.0</td>\n",
       "    </tr>\n",
       "    <tr>\n",
       "      <th>1</th>\n",
       "      <td>2</td>\n",
       "      <td>NaN</td>\n",
       "      <td>NaN</td>\n",
       "      <td>NaN</td>\n",
       "      <td>73.0</td>\n",
       "      <td>NaN</td>\n",
       "      <td>NaN</td>\n",
       "      <td>NaN</td>\n",
       "      <td>NaN</td>\n",
       "      <td>NaN</td>\n",
       "      <td>NaN</td>\n",
       "      <td>NaN</td>\n",
       "      <td>206.0</td>\n",
       "      <td>NaN</td>\n",
       "      <td>149.0</td>\n",
       "      <td>154.0</td>\n",
       "    </tr>\n",
       "    <tr>\n",
       "      <th>2</th>\n",
       "      <td>3</td>\n",
       "      <td>NaN</td>\n",
       "      <td>NaN</td>\n",
       "      <td>NaN</td>\n",
       "      <td>34.0</td>\n",
       "      <td>NaN</td>\n",
       "      <td>NaN</td>\n",
       "      <td>NaN</td>\n",
       "      <td>NaN</td>\n",
       "      <td>NaN</td>\n",
       "      <td>NaN</td>\n",
       "      <td>NaN</td>\n",
       "      <td>205.0</td>\n",
       "      <td>NaN</td>\n",
       "      <td>152.0</td>\n",
       "      <td>153.0</td>\n",
       "    </tr>\n",
       "    <tr>\n",
       "      <th>3</th>\n",
       "      <td>4</td>\n",
       "      <td>NaN</td>\n",
       "      <td>NaN</td>\n",
       "      <td>NaN</td>\n",
       "      <td>81.0</td>\n",
       "      <td>NaN</td>\n",
       "      <td>NaN</td>\n",
       "      <td>NaN</td>\n",
       "      <td>NaN</td>\n",
       "      <td>NaN</td>\n",
       "      <td>NaN</td>\n",
       "      <td>NaN</td>\n",
       "      <td>207.0</td>\n",
       "      <td>NaN</td>\n",
       "      <td>153.0</td>\n",
       "      <td>154.0</td>\n",
       "    </tr>\n",
       "    <tr>\n",
       "      <th>4</th>\n",
       "      <td>5</td>\n",
       "      <td>NaN</td>\n",
       "      <td>NaN</td>\n",
       "      <td>NaN</td>\n",
       "      <td>78.0</td>\n",
       "      <td>NaN</td>\n",
       "      <td>NaN</td>\n",
       "      <td>NaN</td>\n",
       "      <td>NaN</td>\n",
       "      <td>NaN</td>\n",
       "      <td>NaN</td>\n",
       "      <td>NaN</td>\n",
       "      <td>203.0</td>\n",
       "      <td>NaN</td>\n",
       "      <td>151.0</td>\n",
       "      <td>152.0</td>\n",
       "    </tr>\n",
       "  </tbody>\n",
       "</table>\n",
       "</div>"
      ],
      "text/plain": [
       "   key  Bulk 1  Bulk 2  Bulk 3  Bulk 4  Bulk 5  Bulk 6  Bulk 7  Bulk 8  \\\n",
       "0    1     NaN     NaN     NaN    43.0     NaN     NaN     NaN     NaN   \n",
       "1    2     NaN     NaN     NaN    73.0     NaN     NaN     NaN     NaN   \n",
       "2    3     NaN     NaN     NaN    34.0     NaN     NaN     NaN     NaN   \n",
       "3    4     NaN     NaN     NaN    81.0     NaN     NaN     NaN     NaN   \n",
       "4    5     NaN     NaN     NaN    78.0     NaN     NaN     NaN     NaN   \n",
       "\n",
       "   Bulk 9  Bulk 10  Bulk 11  Bulk 12  Bulk 13  Bulk 14  Bulk 15  \n",
       "0     NaN      NaN      NaN    206.0      NaN    150.0    154.0  \n",
       "1     NaN      NaN      NaN    206.0      NaN    149.0    154.0  \n",
       "2     NaN      NaN      NaN    205.0      NaN    152.0    153.0  \n",
       "3     NaN      NaN      NaN    207.0      NaN    153.0    154.0  \n",
       "4     NaN      NaN      NaN    203.0      NaN    151.0    152.0  "
      ]
     },
     "execution_count": 20,
     "metadata": {},
     "output_type": "execute_result"
    }
   ],
   "source": [
    "data_bulk.head(5)"
   ]
  },
  {
   "cell_type": "code",
   "execution_count": 21,
   "id": "7d5d603c",
   "metadata": {},
   "outputs": [
    {
     "name": "stdout",
     "output_type": "stream",
     "text": [
      "<class 'pandas.core.frame.DataFrame'>\n",
      "RangeIndex: 3129 entries, 0 to 3128\n",
      "Data columns (total 16 columns):\n",
      " #   Column   Non-Null Count  Dtype  \n",
      "---  ------   --------------  -----  \n",
      " 0   key      3129 non-null   int64  \n",
      " 1   Bulk 1   252 non-null    float64\n",
      " 2   Bulk 2   22 non-null     float64\n",
      " 3   Bulk 3   1298 non-null   float64\n",
      " 4   Bulk 4   1014 non-null   float64\n",
      " 5   Bulk 5   77 non-null     float64\n",
      " 6   Bulk 6   576 non-null    float64\n",
      " 7   Bulk 7   25 non-null     float64\n",
      " 8   Bulk 8   1 non-null      float64\n",
      " 9   Bulk 9   19 non-null     float64\n",
      " 10  Bulk 10  176 non-null    float64\n",
      " 11  Bulk 11  177 non-null    float64\n",
      " 12  Bulk 12  2450 non-null   float64\n",
      " 13  Bulk 13  18 non-null     float64\n",
      " 14  Bulk 14  2806 non-null   float64\n",
      " 15  Bulk 15  2248 non-null   float64\n",
      "dtypes: float64(15), int64(1)\n",
      "memory usage: 391.2 KB\n"
     ]
    }
   ],
   "source": [
    "data_bulk.info()"
   ]
  },
  {
   "cell_type": "markdown",
   "id": "9811188b",
   "metadata": {},
   "source": [
    "##### Вывод\n",
    "В данных очень много пропусков, вероятно, это связано с отсутвием подачи материалов. Поэтому заполним все пропуски нулём.\n",
    "Также необходимо привести названия столбцов к стандарту: избавиться от заглавной буквы и от пробела."
   ]
  },
  {
   "cell_type": "markdown",
   "id": "ce7cdf4d",
   "metadata": {},
   "source": [
    "#### Предобработка данных"
   ]
  },
  {
   "cell_type": "code",
   "execution_count": 22,
   "id": "d0d040a8",
   "metadata": {},
   "outputs": [
    {
     "data": {
      "text/html": [
       "<div>\n",
       "<style scoped>\n",
       "    .dataframe tbody tr th:only-of-type {\n",
       "        vertical-align: middle;\n",
       "    }\n",
       "\n",
       "    .dataframe tbody tr th {\n",
       "        vertical-align: top;\n",
       "    }\n",
       "\n",
       "    .dataframe thead th {\n",
       "        text-align: right;\n",
       "    }\n",
       "</style>\n",
       "<table border=\"1\" class=\"dataframe\">\n",
       "  <thead>\n",
       "    <tr style=\"text-align: right;\">\n",
       "      <th></th>\n",
       "      <th>key</th>\n",
       "      <th>Bulk 1</th>\n",
       "      <th>Bulk 2</th>\n",
       "      <th>Bulk 3</th>\n",
       "      <th>Bulk 4</th>\n",
       "      <th>Bulk 5</th>\n",
       "      <th>Bulk 6</th>\n",
       "      <th>Bulk 7</th>\n",
       "      <th>Bulk 8</th>\n",
       "      <th>Bulk 9</th>\n",
       "      <th>Bulk 10</th>\n",
       "      <th>Bulk 11</th>\n",
       "      <th>Bulk 12</th>\n",
       "      <th>Bulk 13</th>\n",
       "      <th>Bulk 14</th>\n",
       "      <th>Bulk 15</th>\n",
       "    </tr>\n",
       "  </thead>\n",
       "  <tbody>\n",
       "    <tr>\n",
       "      <th>0</th>\n",
       "      <td>1</td>\n",
       "      <td>0.0</td>\n",
       "      <td>0.0</td>\n",
       "      <td>0.0</td>\n",
       "      <td>43.0</td>\n",
       "      <td>0.0</td>\n",
       "      <td>0.0</td>\n",
       "      <td>0.0</td>\n",
       "      <td>0.0</td>\n",
       "      <td>0.0</td>\n",
       "      <td>0.0</td>\n",
       "      <td>0.0</td>\n",
       "      <td>206.0</td>\n",
       "      <td>0.0</td>\n",
       "      <td>150.0</td>\n",
       "      <td>154.0</td>\n",
       "    </tr>\n",
       "    <tr>\n",
       "      <th>1</th>\n",
       "      <td>2</td>\n",
       "      <td>0.0</td>\n",
       "      <td>0.0</td>\n",
       "      <td>0.0</td>\n",
       "      <td>73.0</td>\n",
       "      <td>0.0</td>\n",
       "      <td>0.0</td>\n",
       "      <td>0.0</td>\n",
       "      <td>0.0</td>\n",
       "      <td>0.0</td>\n",
       "      <td>0.0</td>\n",
       "      <td>0.0</td>\n",
       "      <td>206.0</td>\n",
       "      <td>0.0</td>\n",
       "      <td>149.0</td>\n",
       "      <td>154.0</td>\n",
       "    </tr>\n",
       "    <tr>\n",
       "      <th>2</th>\n",
       "      <td>3</td>\n",
       "      <td>0.0</td>\n",
       "      <td>0.0</td>\n",
       "      <td>0.0</td>\n",
       "      <td>34.0</td>\n",
       "      <td>0.0</td>\n",
       "      <td>0.0</td>\n",
       "      <td>0.0</td>\n",
       "      <td>0.0</td>\n",
       "      <td>0.0</td>\n",
       "      <td>0.0</td>\n",
       "      <td>0.0</td>\n",
       "      <td>205.0</td>\n",
       "      <td>0.0</td>\n",
       "      <td>152.0</td>\n",
       "      <td>153.0</td>\n",
       "    </tr>\n",
       "    <tr>\n",
       "      <th>3</th>\n",
       "      <td>4</td>\n",
       "      <td>0.0</td>\n",
       "      <td>0.0</td>\n",
       "      <td>0.0</td>\n",
       "      <td>81.0</td>\n",
       "      <td>0.0</td>\n",
       "      <td>0.0</td>\n",
       "      <td>0.0</td>\n",
       "      <td>0.0</td>\n",
       "      <td>0.0</td>\n",
       "      <td>0.0</td>\n",
       "      <td>0.0</td>\n",
       "      <td>207.0</td>\n",
       "      <td>0.0</td>\n",
       "      <td>153.0</td>\n",
       "      <td>154.0</td>\n",
       "    </tr>\n",
       "    <tr>\n",
       "      <th>4</th>\n",
       "      <td>5</td>\n",
       "      <td>0.0</td>\n",
       "      <td>0.0</td>\n",
       "      <td>0.0</td>\n",
       "      <td>78.0</td>\n",
       "      <td>0.0</td>\n",
       "      <td>0.0</td>\n",
       "      <td>0.0</td>\n",
       "      <td>0.0</td>\n",
       "      <td>0.0</td>\n",
       "      <td>0.0</td>\n",
       "      <td>0.0</td>\n",
       "      <td>203.0</td>\n",
       "      <td>0.0</td>\n",
       "      <td>151.0</td>\n",
       "      <td>152.0</td>\n",
       "    </tr>\n",
       "  </tbody>\n",
       "</table>\n",
       "</div>"
      ],
      "text/plain": [
       "   key  Bulk 1  Bulk 2  Bulk 3  Bulk 4  Bulk 5  Bulk 6  Bulk 7  Bulk 8  \\\n",
       "0    1     0.0     0.0     0.0    43.0     0.0     0.0     0.0     0.0   \n",
       "1    2     0.0     0.0     0.0    73.0     0.0     0.0     0.0     0.0   \n",
       "2    3     0.0     0.0     0.0    34.0     0.0     0.0     0.0     0.0   \n",
       "3    4     0.0     0.0     0.0    81.0     0.0     0.0     0.0     0.0   \n",
       "4    5     0.0     0.0     0.0    78.0     0.0     0.0     0.0     0.0   \n",
       "\n",
       "   Bulk 9  Bulk 10  Bulk 11  Bulk 12  Bulk 13  Bulk 14  Bulk 15  \n",
       "0     0.0      0.0      0.0    206.0      0.0    150.0    154.0  \n",
       "1     0.0      0.0      0.0    206.0      0.0    149.0    154.0  \n",
       "2     0.0      0.0      0.0    205.0      0.0    152.0    153.0  \n",
       "3     0.0      0.0      0.0    207.0      0.0    153.0    154.0  \n",
       "4     0.0      0.0      0.0    203.0      0.0    151.0    152.0  "
      ]
     },
     "execution_count": 22,
     "metadata": {},
     "output_type": "execute_result"
    }
   ],
   "source": [
    "# Замена пропущенных значений\n",
    "data_bulk = data_bulk.fillna(0)\n",
    "data_bulk.head(5)"
   ]
  },
  {
   "cell_type": "code",
   "execution_count": 23,
   "id": "30444bda",
   "metadata": {},
   "outputs": [
    {
     "data": {
      "text/plain": [
       "Index(['key', 'bulk_1', 'bulk_2', 'bulk_3', 'bulk_4', 'bulk_5', 'bulk_6',\n",
       "       'bulk_7', 'bulk_8', 'bulk_9', 'bulk_10', 'bulk_11', 'bulk_12',\n",
       "       'bulk_13', 'bulk_14', 'bulk_15'],\n",
       "      dtype='object')"
      ]
     },
     "execution_count": 23,
     "metadata": {},
     "output_type": "execute_result"
    }
   ],
   "source": [
    "# Замена названий столбцов\n",
    "\n",
    "data_bulk = data_bulk.rename({'Bulk 1':'bulk_1', 'Bulk 2':'bulk_2', 'Bulk 3':'bulk_3', 'Bulk 4':'bulk_4',\n",
    "                              'Bulk 5':'bulk_5', 'Bulk 6':'bulk_6', 'Bulk 7':'bulk_7', 'Bulk 8':'bulk_8',\n",
    "                              'Bulk 9':'bulk_9', 'Bulk 10':'bulk_10', 'Bulk 11':'bulk_11', 'Bulk 12':'bulk_12',\n",
    "                              'Bulk 13':'bulk_13', 'Bulk 14':'bulk_14', 'Bulk 15':'bulk_15'}, axis=1)\n",
    "data_bulk.columns"
   ]
  },
  {
   "cell_type": "code",
   "execution_count": 24,
   "id": "3d87945b",
   "metadata": {},
   "outputs": [
    {
     "data": {
      "text/html": [
       "<div>\n",
       "<style scoped>\n",
       "    .dataframe tbody tr th:only-of-type {\n",
       "        vertical-align: middle;\n",
       "    }\n",
       "\n",
       "    .dataframe tbody tr th {\n",
       "        vertical-align: top;\n",
       "    }\n",
       "\n",
       "    .dataframe thead th {\n",
       "        text-align: right;\n",
       "    }\n",
       "</style>\n",
       "<table border=\"1\" class=\"dataframe\">\n",
       "  <thead>\n",
       "    <tr style=\"text-align: right;\">\n",
       "      <th></th>\n",
       "      <th>key</th>\n",
       "      <th>bulk_1</th>\n",
       "      <th>bulk_2</th>\n",
       "      <th>bulk_3</th>\n",
       "      <th>bulk_4</th>\n",
       "      <th>bulk_5</th>\n",
       "      <th>bulk_6</th>\n",
       "      <th>bulk_7</th>\n",
       "      <th>bulk_8</th>\n",
       "      <th>bulk_9</th>\n",
       "      <th>bulk_10</th>\n",
       "      <th>bulk_11</th>\n",
       "      <th>bulk_12</th>\n",
       "      <th>bulk_13</th>\n",
       "      <th>bulk_14</th>\n",
       "      <th>bulk_15</th>\n",
       "    </tr>\n",
       "  </thead>\n",
       "  <tbody>\n",
       "    <tr>\n",
       "      <th>count</th>\n",
       "      <td>3129.000000</td>\n",
       "      <td>3129.000000</td>\n",
       "      <td>3129.000000</td>\n",
       "      <td>3129.000000</td>\n",
       "      <td>3129.000000</td>\n",
       "      <td>3129.000000</td>\n",
       "      <td>3129.000000</td>\n",
       "      <td>3129.000000</td>\n",
       "      <td>3129.000000</td>\n",
       "      <td>3129.000000</td>\n",
       "      <td>3129.000000</td>\n",
       "      <td>3129.000000</td>\n",
       "      <td>3129.000000</td>\n",
       "      <td>3129.000000</td>\n",
       "      <td>3129.000000</td>\n",
       "      <td>3129.000000</td>\n",
       "    </tr>\n",
       "    <tr>\n",
       "      <th>mean</th>\n",
       "      <td>1624.383509</td>\n",
       "      <td>3.160435</td>\n",
       "      <td>1.779163</td>\n",
       "      <td>47.240332</td>\n",
       "      <td>33.830617</td>\n",
       "      <td>2.633749</td>\n",
       "      <td>21.892298</td>\n",
       "      <td>2.441675</td>\n",
       "      <td>0.015660</td>\n",
       "      <td>0.463407</td>\n",
       "      <td>4.684564</td>\n",
       "      <td>4.345478</td>\n",
       "      <td>203.948226</td>\n",
       "      <td>1.041866</td>\n",
       "      <td>152.706616</td>\n",
       "      <td>115.319271</td>\n",
       "    </tr>\n",
       "    <tr>\n",
       "      <th>std</th>\n",
       "      <td>933.337642</td>\n",
       "      <td>11.869164</td>\n",
       "      <td>21.217878</td>\n",
       "      <td>74.239954</td>\n",
       "      <td>56.034505</td>\n",
       "      <td>20.918138</td>\n",
       "      <td>55.492582</td>\n",
       "      <td>31.944063</td>\n",
       "      <td>0.875978</td>\n",
       "      <td>6.154398</td>\n",
       "      <td>20.157323</td>\n",
       "      <td>22.699580</td>\n",
       "      <td>151.419639</td>\n",
       "      <td>14.114252</td>\n",
       "      <td>81.091421</td>\n",
       "      <td>84.488698</td>\n",
       "    </tr>\n",
       "    <tr>\n",
       "      <th>min</th>\n",
       "      <td>1.000000</td>\n",
       "      <td>0.000000</td>\n",
       "      <td>0.000000</td>\n",
       "      <td>0.000000</td>\n",
       "      <td>0.000000</td>\n",
       "      <td>0.000000</td>\n",
       "      <td>0.000000</td>\n",
       "      <td>0.000000</td>\n",
       "      <td>0.000000</td>\n",
       "      <td>0.000000</td>\n",
       "      <td>0.000000</td>\n",
       "      <td>0.000000</td>\n",
       "      <td>0.000000</td>\n",
       "      <td>0.000000</td>\n",
       "      <td>0.000000</td>\n",
       "      <td>0.000000</td>\n",
       "    </tr>\n",
       "    <tr>\n",
       "      <th>25%</th>\n",
       "      <td>816.000000</td>\n",
       "      <td>0.000000</td>\n",
       "      <td>0.000000</td>\n",
       "      <td>0.000000</td>\n",
       "      <td>0.000000</td>\n",
       "      <td>0.000000</td>\n",
       "      <td>0.000000</td>\n",
       "      <td>0.000000</td>\n",
       "      <td>0.000000</td>\n",
       "      <td>0.000000</td>\n",
       "      <td>0.000000</td>\n",
       "      <td>0.000000</td>\n",
       "      <td>105.000000</td>\n",
       "      <td>0.000000</td>\n",
       "      <td>104.000000</td>\n",
       "      <td>0.000000</td>\n",
       "    </tr>\n",
       "    <tr>\n",
       "      <th>50%</th>\n",
       "      <td>1622.000000</td>\n",
       "      <td>0.000000</td>\n",
       "      <td>0.000000</td>\n",
       "      <td>0.000000</td>\n",
       "      <td>0.000000</td>\n",
       "      <td>0.000000</td>\n",
       "      <td>0.000000</td>\n",
       "      <td>0.000000</td>\n",
       "      <td>0.000000</td>\n",
       "      <td>0.000000</td>\n",
       "      <td>0.000000</td>\n",
       "      <td>0.000000</td>\n",
       "      <td>206.000000</td>\n",
       "      <td>0.000000</td>\n",
       "      <td>148.000000</td>\n",
       "      <td>106.000000</td>\n",
       "    </tr>\n",
       "    <tr>\n",
       "      <th>75%</th>\n",
       "      <td>2431.000000</td>\n",
       "      <td>0.000000</td>\n",
       "      <td>0.000000</td>\n",
       "      <td>80.000000</td>\n",
       "      <td>68.000000</td>\n",
       "      <td>0.000000</td>\n",
       "      <td>0.000000</td>\n",
       "      <td>0.000000</td>\n",
       "      <td>0.000000</td>\n",
       "      <td>0.000000</td>\n",
       "      <td>0.000000</td>\n",
       "      <td>0.000000</td>\n",
       "      <td>263.000000</td>\n",
       "      <td>0.000000</td>\n",
       "      <td>202.000000</td>\n",
       "      <td>204.000000</td>\n",
       "    </tr>\n",
       "    <tr>\n",
       "      <th>max</th>\n",
       "      <td>3241.000000</td>\n",
       "      <td>185.000000</td>\n",
       "      <td>325.000000</td>\n",
       "      <td>454.000000</td>\n",
       "      <td>281.000000</td>\n",
       "      <td>603.000000</td>\n",
       "      <td>503.000000</td>\n",
       "      <td>772.000000</td>\n",
       "      <td>49.000000</td>\n",
       "      <td>147.000000</td>\n",
       "      <td>159.000000</td>\n",
       "      <td>313.000000</td>\n",
       "      <td>1849.000000</td>\n",
       "      <td>305.000000</td>\n",
       "      <td>636.000000</td>\n",
       "      <td>405.000000</td>\n",
       "    </tr>\n",
       "  </tbody>\n",
       "</table>\n",
       "</div>"
      ],
      "text/plain": [
       "               key       bulk_1       bulk_2       bulk_3       bulk_4  \\\n",
       "count  3129.000000  3129.000000  3129.000000  3129.000000  3129.000000   \n",
       "mean   1624.383509     3.160435     1.779163    47.240332    33.830617   \n",
       "std     933.337642    11.869164    21.217878    74.239954    56.034505   \n",
       "min       1.000000     0.000000     0.000000     0.000000     0.000000   \n",
       "25%     816.000000     0.000000     0.000000     0.000000     0.000000   \n",
       "50%    1622.000000     0.000000     0.000000     0.000000     0.000000   \n",
       "75%    2431.000000     0.000000     0.000000    80.000000    68.000000   \n",
       "max    3241.000000   185.000000   325.000000   454.000000   281.000000   \n",
       "\n",
       "            bulk_5       bulk_6       bulk_7       bulk_8       bulk_9  \\\n",
       "count  3129.000000  3129.000000  3129.000000  3129.000000  3129.000000   \n",
       "mean      2.633749    21.892298     2.441675     0.015660     0.463407   \n",
       "std      20.918138    55.492582    31.944063     0.875978     6.154398   \n",
       "min       0.000000     0.000000     0.000000     0.000000     0.000000   \n",
       "25%       0.000000     0.000000     0.000000     0.000000     0.000000   \n",
       "50%       0.000000     0.000000     0.000000     0.000000     0.000000   \n",
       "75%       0.000000     0.000000     0.000000     0.000000     0.000000   \n",
       "max     603.000000   503.000000   772.000000    49.000000   147.000000   \n",
       "\n",
       "           bulk_10      bulk_11      bulk_12      bulk_13      bulk_14  \\\n",
       "count  3129.000000  3129.000000  3129.000000  3129.000000  3129.000000   \n",
       "mean      4.684564     4.345478   203.948226     1.041866   152.706616   \n",
       "std      20.157323    22.699580   151.419639    14.114252    81.091421   \n",
       "min       0.000000     0.000000     0.000000     0.000000     0.000000   \n",
       "25%       0.000000     0.000000   105.000000     0.000000   104.000000   \n",
       "50%       0.000000     0.000000   206.000000     0.000000   148.000000   \n",
       "75%       0.000000     0.000000   263.000000     0.000000   202.000000   \n",
       "max     159.000000   313.000000  1849.000000   305.000000   636.000000   \n",
       "\n",
       "           bulk_15  \n",
       "count  3129.000000  \n",
       "mean    115.319271  \n",
       "std      84.488698  \n",
       "min       0.000000  \n",
       "25%       0.000000  \n",
       "50%     106.000000  \n",
       "75%     204.000000  \n",
       "max     405.000000  "
      ]
     },
     "execution_count": 24,
     "metadata": {},
     "output_type": "execute_result"
    }
   ],
   "source": [
    "data_bulk.describe()"
   ]
  },
  {
   "cell_type": "markdown",
   "id": "bb18d662",
   "metadata": {},
   "source": [
    "### 1.3 Данные о подаче сыпучих материалов (время)\n",
    "#### Открытие и изучение"
   ]
  },
  {
   "cell_type": "code",
   "execution_count": 25,
   "id": "56d157c8",
   "metadata": {},
   "outputs": [
    {
     "data": {
      "text/html": [
       "<div>\n",
       "<style scoped>\n",
       "    .dataframe tbody tr th:only-of-type {\n",
       "        vertical-align: middle;\n",
       "    }\n",
       "\n",
       "    .dataframe tbody tr th {\n",
       "        vertical-align: top;\n",
       "    }\n",
       "\n",
       "    .dataframe thead th {\n",
       "        text-align: right;\n",
       "    }\n",
       "</style>\n",
       "<table border=\"1\" class=\"dataframe\">\n",
       "  <thead>\n",
       "    <tr style=\"text-align: right;\">\n",
       "      <th></th>\n",
       "      <th>key</th>\n",
       "      <th>Bulk 1</th>\n",
       "      <th>Bulk 2</th>\n",
       "      <th>Bulk 3</th>\n",
       "      <th>Bulk 4</th>\n",
       "      <th>Bulk 5</th>\n",
       "      <th>Bulk 6</th>\n",
       "      <th>Bulk 7</th>\n",
       "      <th>Bulk 8</th>\n",
       "      <th>Bulk 9</th>\n",
       "      <th>Bulk 10</th>\n",
       "      <th>Bulk 11</th>\n",
       "      <th>Bulk 12</th>\n",
       "      <th>Bulk 13</th>\n",
       "      <th>Bulk 14</th>\n",
       "      <th>Bulk 15</th>\n",
       "    </tr>\n",
       "  </thead>\n",
       "  <tbody>\n",
       "    <tr>\n",
       "      <th>0</th>\n",
       "      <td>1</td>\n",
       "      <td>NaN</td>\n",
       "      <td>NaN</td>\n",
       "      <td>NaN</td>\n",
       "      <td>2019-05-03 11:21:30</td>\n",
       "      <td>NaN</td>\n",
       "      <td>NaN</td>\n",
       "      <td>NaN</td>\n",
       "      <td>NaN</td>\n",
       "      <td>NaN</td>\n",
       "      <td>NaN</td>\n",
       "      <td>NaN</td>\n",
       "      <td>2019-05-03 11:03:52</td>\n",
       "      <td>NaN</td>\n",
       "      <td>2019-05-03 11:03:52</td>\n",
       "      <td>2019-05-03 11:03:52</td>\n",
       "    </tr>\n",
       "    <tr>\n",
       "      <th>1</th>\n",
       "      <td>2</td>\n",
       "      <td>NaN</td>\n",
       "      <td>NaN</td>\n",
       "      <td>NaN</td>\n",
       "      <td>2019-05-03 11:46:38</td>\n",
       "      <td>NaN</td>\n",
       "      <td>NaN</td>\n",
       "      <td>NaN</td>\n",
       "      <td>NaN</td>\n",
       "      <td>NaN</td>\n",
       "      <td>NaN</td>\n",
       "      <td>NaN</td>\n",
       "      <td>2019-05-03 11:40:20</td>\n",
       "      <td>NaN</td>\n",
       "      <td>2019-05-03 11:40:20</td>\n",
       "      <td>2019-05-03 11:40:20</td>\n",
       "    </tr>\n",
       "    <tr>\n",
       "      <th>2</th>\n",
       "      <td>3</td>\n",
       "      <td>NaN</td>\n",
       "      <td>NaN</td>\n",
       "      <td>NaN</td>\n",
       "      <td>2019-05-03 12:31:06</td>\n",
       "      <td>NaN</td>\n",
       "      <td>NaN</td>\n",
       "      <td>NaN</td>\n",
       "      <td>NaN</td>\n",
       "      <td>NaN</td>\n",
       "      <td>NaN</td>\n",
       "      <td>NaN</td>\n",
       "      <td>2019-05-03 12:09:40</td>\n",
       "      <td>NaN</td>\n",
       "      <td>2019-05-03 12:09:40</td>\n",
       "      <td>2019-05-03 12:09:40</td>\n",
       "    </tr>\n",
       "    <tr>\n",
       "      <th>3</th>\n",
       "      <td>4</td>\n",
       "      <td>NaN</td>\n",
       "      <td>NaN</td>\n",
       "      <td>NaN</td>\n",
       "      <td>2019-05-03 12:48:43</td>\n",
       "      <td>NaN</td>\n",
       "      <td>NaN</td>\n",
       "      <td>NaN</td>\n",
       "      <td>NaN</td>\n",
       "      <td>NaN</td>\n",
       "      <td>NaN</td>\n",
       "      <td>NaN</td>\n",
       "      <td>2019-05-03 12:41:24</td>\n",
       "      <td>NaN</td>\n",
       "      <td>2019-05-03 12:41:24</td>\n",
       "      <td>2019-05-03 12:41:24</td>\n",
       "    </tr>\n",
       "    <tr>\n",
       "      <th>4</th>\n",
       "      <td>5</td>\n",
       "      <td>NaN</td>\n",
       "      <td>NaN</td>\n",
       "      <td>NaN</td>\n",
       "      <td>2019-05-03 13:18:50</td>\n",
       "      <td>NaN</td>\n",
       "      <td>NaN</td>\n",
       "      <td>NaN</td>\n",
       "      <td>NaN</td>\n",
       "      <td>NaN</td>\n",
       "      <td>NaN</td>\n",
       "      <td>NaN</td>\n",
       "      <td>2019-05-03 13:12:56</td>\n",
       "      <td>NaN</td>\n",
       "      <td>2019-05-03 13:12:56</td>\n",
       "      <td>2019-05-03 13:12:56</td>\n",
       "    </tr>\n",
       "  </tbody>\n",
       "</table>\n",
       "</div>"
      ],
      "text/plain": [
       "   key Bulk 1 Bulk 2 Bulk 3               Bulk 4 Bulk 5 Bulk 6 Bulk 7 Bulk 8  \\\n",
       "0    1    NaN    NaN    NaN  2019-05-03 11:21:30    NaN    NaN    NaN    NaN   \n",
       "1    2    NaN    NaN    NaN  2019-05-03 11:46:38    NaN    NaN    NaN    NaN   \n",
       "2    3    NaN    NaN    NaN  2019-05-03 12:31:06    NaN    NaN    NaN    NaN   \n",
       "3    4    NaN    NaN    NaN  2019-05-03 12:48:43    NaN    NaN    NaN    NaN   \n",
       "4    5    NaN    NaN    NaN  2019-05-03 13:18:50    NaN    NaN    NaN    NaN   \n",
       "\n",
       "  Bulk 9 Bulk 10 Bulk 11              Bulk 12 Bulk 13              Bulk 14  \\\n",
       "0    NaN     NaN     NaN  2019-05-03 11:03:52     NaN  2019-05-03 11:03:52   \n",
       "1    NaN     NaN     NaN  2019-05-03 11:40:20     NaN  2019-05-03 11:40:20   \n",
       "2    NaN     NaN     NaN  2019-05-03 12:09:40     NaN  2019-05-03 12:09:40   \n",
       "3    NaN     NaN     NaN  2019-05-03 12:41:24     NaN  2019-05-03 12:41:24   \n",
       "4    NaN     NaN     NaN  2019-05-03 13:12:56     NaN  2019-05-03 13:12:56   \n",
       "\n",
       "               Bulk 15  \n",
       "0  2019-05-03 11:03:52  \n",
       "1  2019-05-03 11:40:20  \n",
       "2  2019-05-03 12:09:40  \n",
       "3  2019-05-03 12:41:24  \n",
       "4  2019-05-03 13:12:56  "
      ]
     },
     "execution_count": 25,
     "metadata": {},
     "output_type": "execute_result"
    }
   ],
   "source": [
    "data_bulk_time.head(5)"
   ]
  },
  {
   "cell_type": "code",
   "execution_count": 26,
   "id": "be482d74",
   "metadata": {},
   "outputs": [
    {
     "name": "stdout",
     "output_type": "stream",
     "text": [
      "<class 'pandas.core.frame.DataFrame'>\n",
      "RangeIndex: 3129 entries, 0 to 3128\n",
      "Data columns (total 16 columns):\n",
      " #   Column   Non-Null Count  Dtype \n",
      "---  ------   --------------  ----- \n",
      " 0   key      3129 non-null   int64 \n",
      " 1   Bulk 1   252 non-null    object\n",
      " 2   Bulk 2   22 non-null     object\n",
      " 3   Bulk 3   1298 non-null   object\n",
      " 4   Bulk 4   1014 non-null   object\n",
      " 5   Bulk 5   77 non-null     object\n",
      " 6   Bulk 6   576 non-null    object\n",
      " 7   Bulk 7   25 non-null     object\n",
      " 8   Bulk 8   1 non-null      object\n",
      " 9   Bulk 9   19 non-null     object\n",
      " 10  Bulk 10  176 non-null    object\n",
      " 11  Bulk 11  177 non-null    object\n",
      " 12  Bulk 12  2450 non-null   object\n",
      " 13  Bulk 13  18 non-null     object\n",
      " 14  Bulk 14  2806 non-null   object\n",
      " 15  Bulk 15  2248 non-null   object\n",
      "dtypes: int64(1), object(15)\n",
      "memory usage: 391.2+ KB\n"
     ]
    }
   ],
   "source": [
    "data_bulk_time.info()"
   ]
  },
  {
   "cell_type": "markdown",
   "id": "19dbe0d2",
   "metadata": {},
   "source": [
    "##### Вывод \n",
    "Данные дублируют информацию об объёме. В дальнейшем анализе данные о времени подачи сыпучих материалов использованы не будут."
   ]
  },
  {
   "cell_type": "markdown",
   "id": "6a67a5cc",
   "metadata": {},
   "source": [
    "### 1.4 Данные о продувке сплава газом\n",
    "#### Открытие и изучение"
   ]
  },
  {
   "cell_type": "code",
   "execution_count": 27,
   "id": "052ce740",
   "metadata": {},
   "outputs": [
    {
     "data": {
      "text/html": [
       "<div>\n",
       "<style scoped>\n",
       "    .dataframe tbody tr th:only-of-type {\n",
       "        vertical-align: middle;\n",
       "    }\n",
       "\n",
       "    .dataframe tbody tr th {\n",
       "        vertical-align: top;\n",
       "    }\n",
       "\n",
       "    .dataframe thead th {\n",
       "        text-align: right;\n",
       "    }\n",
       "</style>\n",
       "<table border=\"1\" class=\"dataframe\">\n",
       "  <thead>\n",
       "    <tr style=\"text-align: right;\">\n",
       "      <th></th>\n",
       "      <th>key</th>\n",
       "      <th>Газ 1</th>\n",
       "    </tr>\n",
       "  </thead>\n",
       "  <tbody>\n",
       "    <tr>\n",
       "      <th>0</th>\n",
       "      <td>1</td>\n",
       "      <td>29.749986</td>\n",
       "    </tr>\n",
       "    <tr>\n",
       "      <th>1</th>\n",
       "      <td>2</td>\n",
       "      <td>12.555561</td>\n",
       "    </tr>\n",
       "    <tr>\n",
       "      <th>2</th>\n",
       "      <td>3</td>\n",
       "      <td>28.554793</td>\n",
       "    </tr>\n",
       "    <tr>\n",
       "      <th>3</th>\n",
       "      <td>4</td>\n",
       "      <td>18.841219</td>\n",
       "    </tr>\n",
       "    <tr>\n",
       "      <th>4</th>\n",
       "      <td>5</td>\n",
       "      <td>5.413692</td>\n",
       "    </tr>\n",
       "  </tbody>\n",
       "</table>\n",
       "</div>"
      ],
      "text/plain": [
       "   key      Газ 1\n",
       "0    1  29.749986\n",
       "1    2  12.555561\n",
       "2    3  28.554793\n",
       "3    4  18.841219\n",
       "4    5   5.413692"
      ]
     },
     "execution_count": 27,
     "metadata": {},
     "output_type": "execute_result"
    }
   ],
   "source": [
    "data_gas.head(5)"
   ]
  },
  {
   "cell_type": "code",
   "execution_count": 28,
   "id": "9fdb2474",
   "metadata": {},
   "outputs": [
    {
     "name": "stdout",
     "output_type": "stream",
     "text": [
      "<class 'pandas.core.frame.DataFrame'>\n",
      "RangeIndex: 3239 entries, 0 to 3238\n",
      "Data columns (total 2 columns):\n",
      " #   Column  Non-Null Count  Dtype  \n",
      "---  ------  --------------  -----  \n",
      " 0   key     3239 non-null   int64  \n",
      " 1   Газ 1   3239 non-null   float64\n",
      "dtypes: float64(1), int64(1)\n",
      "memory usage: 50.7 KB\n"
     ]
    }
   ],
   "source": [
    "data_gas.info()"
   ]
  },
  {
   "cell_type": "markdown",
   "id": "1a196397",
   "metadata": {},
   "source": [
    "##### Вывод \n",
    "Необходимо привести название столбца к стандарту."
   ]
  },
  {
   "cell_type": "markdown",
   "id": "6923ffdb",
   "metadata": {},
   "source": [
    "#### Предобработка данных"
   ]
  },
  {
   "cell_type": "code",
   "execution_count": 29,
   "id": "36682c39",
   "metadata": {},
   "outputs": [],
   "source": [
    "# Замена названия столбца\n",
    "data_gas = data_gas.rename({'Газ 1':'gas_1'}, axis=1)"
   ]
  },
  {
   "cell_type": "code",
   "execution_count": 30,
   "id": "e439bbac",
   "metadata": {},
   "outputs": [
    {
     "data": {
      "text/html": [
       "<div>\n",
       "<style scoped>\n",
       "    .dataframe tbody tr th:only-of-type {\n",
       "        vertical-align: middle;\n",
       "    }\n",
       "\n",
       "    .dataframe tbody tr th {\n",
       "        vertical-align: top;\n",
       "    }\n",
       "\n",
       "    .dataframe thead th {\n",
       "        text-align: right;\n",
       "    }\n",
       "</style>\n",
       "<table border=\"1\" class=\"dataframe\">\n",
       "  <thead>\n",
       "    <tr style=\"text-align: right;\">\n",
       "      <th></th>\n",
       "      <th>key</th>\n",
       "      <th>gas_1</th>\n",
       "    </tr>\n",
       "  </thead>\n",
       "  <tbody>\n",
       "    <tr>\n",
       "      <th>count</th>\n",
       "      <td>3239.000000</td>\n",
       "      <td>3239.000000</td>\n",
       "    </tr>\n",
       "    <tr>\n",
       "      <th>mean</th>\n",
       "      <td>1621.861377</td>\n",
       "      <td>11.002062</td>\n",
       "    </tr>\n",
       "    <tr>\n",
       "      <th>std</th>\n",
       "      <td>935.386334</td>\n",
       "      <td>6.220327</td>\n",
       "    </tr>\n",
       "    <tr>\n",
       "      <th>min</th>\n",
       "      <td>1.000000</td>\n",
       "      <td>0.008399</td>\n",
       "    </tr>\n",
       "    <tr>\n",
       "      <th>25%</th>\n",
       "      <td>812.500000</td>\n",
       "      <td>7.043089</td>\n",
       "    </tr>\n",
       "    <tr>\n",
       "      <th>50%</th>\n",
       "      <td>1622.000000</td>\n",
       "      <td>9.836267</td>\n",
       "    </tr>\n",
       "    <tr>\n",
       "      <th>75%</th>\n",
       "      <td>2431.500000</td>\n",
       "      <td>13.769915</td>\n",
       "    </tr>\n",
       "    <tr>\n",
       "      <th>max</th>\n",
       "      <td>3241.000000</td>\n",
       "      <td>77.995040</td>\n",
       "    </tr>\n",
       "  </tbody>\n",
       "</table>\n",
       "</div>"
      ],
      "text/plain": [
       "               key        gas_1\n",
       "count  3239.000000  3239.000000\n",
       "mean   1621.861377    11.002062\n",
       "std     935.386334     6.220327\n",
       "min       1.000000     0.008399\n",
       "25%     812.500000     7.043089\n",
       "50%    1622.000000     9.836267\n",
       "75%    2431.500000    13.769915\n",
       "max    3241.000000    77.995040"
      ]
     },
     "execution_count": 30,
     "metadata": {},
     "output_type": "execute_result"
    }
   ],
   "source": [
    "data_gas.describe()"
   ]
  },
  {
   "cell_type": "code",
   "execution_count": 31,
   "id": "d93823b3",
   "metadata": {},
   "outputs": [
    {
     "data": {
      "image/png": "[encoded data removed]",
      "text/plain": [
       "<Figure size 1152x432 with 1 Axes>"
      ]
     },
     "metadata": {
      "needs_background": "light"
     },
     "output_type": "display_data"
    }
   ],
   "source": [
    "data_gas['gas_1'].hist(bins=200, figsize=(16,6), alpha=0.5, label='газ')\n",
    "plt.legend()\n",
    "plt.show()"
   ]
  },
  {
   "cell_type": "markdown",
   "id": "757fe5e1",
   "metadata": {},
   "source": [
    "##### Вывод \n",
    "На графике распределения видны выбросы газа, среднее значение равно 11."
   ]
  },
  {
   "cell_type": "markdown",
   "id": "d3922fe7",
   "metadata": {},
   "source": [
    "### 1.5  Результаты измерения температуры\n",
    "#### Открытие и изучение"
   ]
  },
  {
   "cell_type": "code",
   "execution_count": 32,
   "id": "c1874545",
   "metadata": {},
   "outputs": [
    {
     "data": {
      "text/html": [
       "<div>\n",
       "<style scoped>\n",
       "    .dataframe tbody tr th:only-of-type {\n",
       "        vertical-align: middle;\n",
       "    }\n",
       "\n",
       "    .dataframe tbody tr th {\n",
       "        vertical-align: top;\n",
       "    }\n",
       "\n",
       "    .dataframe thead th {\n",
       "        text-align: right;\n",
       "    }\n",
       "</style>\n",
       "<table border=\"1\" class=\"dataframe\">\n",
       "  <thead>\n",
       "    <tr style=\"text-align: right;\">\n",
       "      <th></th>\n",
       "      <th>key</th>\n",
       "      <th>Время замера</th>\n",
       "      <th>Температура</th>\n",
       "    </tr>\n",
       "  </thead>\n",
       "  <tbody>\n",
       "    <tr>\n",
       "      <th>0</th>\n",
       "      <td>1</td>\n",
       "      <td>2019-05-03 11:16:18</td>\n",
       "      <td>1571.0</td>\n",
       "    </tr>\n",
       "    <tr>\n",
       "      <th>1</th>\n",
       "      <td>1</td>\n",
       "      <td>2019-05-03 11:25:53</td>\n",
       "      <td>1604.0</td>\n",
       "    </tr>\n",
       "    <tr>\n",
       "      <th>2</th>\n",
       "      <td>1</td>\n",
       "      <td>2019-05-03 11:29:11</td>\n",
       "      <td>1618.0</td>\n",
       "    </tr>\n",
       "    <tr>\n",
       "      <th>3</th>\n",
       "      <td>1</td>\n",
       "      <td>2019-05-03 11:30:01</td>\n",
       "      <td>1601.0</td>\n",
       "    </tr>\n",
       "    <tr>\n",
       "      <th>4</th>\n",
       "      <td>1</td>\n",
       "      <td>2019-05-03 11:30:39</td>\n",
       "      <td>1613.0</td>\n",
       "    </tr>\n",
       "    <tr>\n",
       "      <th>5</th>\n",
       "      <td>2</td>\n",
       "      <td>2019-05-03 11:37:27</td>\n",
       "      <td>1581.0</td>\n",
       "    </tr>\n",
       "    <tr>\n",
       "      <th>6</th>\n",
       "      <td>2</td>\n",
       "      <td>2019-05-03 11:38:00</td>\n",
       "      <td>1577.0</td>\n",
       "    </tr>\n",
       "    <tr>\n",
       "      <th>7</th>\n",
       "      <td>2</td>\n",
       "      <td>2019-05-03 11:49:38</td>\n",
       "      <td>1589.0</td>\n",
       "    </tr>\n",
       "    <tr>\n",
       "      <th>8</th>\n",
       "      <td>2</td>\n",
       "      <td>2019-05-03 11:55:50</td>\n",
       "      <td>1604.0</td>\n",
       "    </tr>\n",
       "    <tr>\n",
       "      <th>9</th>\n",
       "      <td>2</td>\n",
       "      <td>2019-05-03 11:58:24</td>\n",
       "      <td>1608.0</td>\n",
       "    </tr>\n",
       "    <tr>\n",
       "      <th>10</th>\n",
       "      <td>2</td>\n",
       "      <td>2019-05-03 11:59:12</td>\n",
       "      <td>1602.0</td>\n",
       "    </tr>\n",
       "    <tr>\n",
       "      <th>11</th>\n",
       "      <td>3</td>\n",
       "      <td>2019-05-03 12:13:17</td>\n",
       "      <td>1596.0</td>\n",
       "    </tr>\n",
       "  </tbody>\n",
       "</table>\n",
       "</div>"
      ],
      "text/plain": [
       "    key         Время замера  Температура\n",
       "0     1  2019-05-03 11:16:18       1571.0\n",
       "1     1  2019-05-03 11:25:53       1604.0\n",
       "2     1  2019-05-03 11:29:11       1618.0\n",
       "3     1  2019-05-03 11:30:01       1601.0\n",
       "4     1  2019-05-03 11:30:39       1613.0\n",
       "5     2  2019-05-03 11:37:27       1581.0\n",
       "6     2  2019-05-03 11:38:00       1577.0\n",
       "7     2  2019-05-03 11:49:38       1589.0\n",
       "8     2  2019-05-03 11:55:50       1604.0\n",
       "9     2  2019-05-03 11:58:24       1608.0\n",
       "10    2  2019-05-03 11:59:12       1602.0\n",
       "11    3  2019-05-03 12:13:17       1596.0"
      ]
     },
     "execution_count": 32,
     "metadata": {},
     "output_type": "execute_result"
    }
   ],
   "source": [
    "data_temp.head(12)"
   ]
  },
  {
   "cell_type": "code",
   "execution_count": 33,
   "id": "fb304162",
   "metadata": {},
   "outputs": [
    {
     "name": "stdout",
     "output_type": "stream",
     "text": [
      "<class 'pandas.core.frame.DataFrame'>\n",
      "RangeIndex: 15907 entries, 0 to 15906\n",
      "Data columns (total 3 columns):\n",
      " #   Column        Non-Null Count  Dtype  \n",
      "---  ------        --------------  -----  \n",
      " 0   key           15907 non-null  int64  \n",
      " 1   Время замера  15907 non-null  object \n",
      " 2   Температура   13006 non-null  float64\n",
      "dtypes: float64(1), int64(1), object(1)\n",
      "memory usage: 372.9+ KB\n"
     ]
    }
   ],
   "source": [
    "data_temp.info()"
   ]
  },
  {
   "cell_type": "markdown",
   "id": "20a8e69d",
   "metadata": {},
   "source": [
    "##### Вывод\n",
    "Необходимо привести названия столбцов к стандарту. Также приведём тип столбца времени к нужному формату. \n",
    "\n",
    "Также данные избыточны, нас интересуют только последняя температура.\n",
    "\n",
    "И нас не интересуют партии без промежуточных замеров, т.к. подобные партии не требуют оптимизации по технологическим параметрам."
   ]
  },
  {
   "cell_type": "markdown",
   "id": "46e64fa8",
   "metadata": {},
   "source": [
    "#### Предобработка данных"
   ]
  },
  {
   "cell_type": "code",
   "execution_count": 34,
   "id": "f9b6c638",
   "metadata": {},
   "outputs": [
    {
     "data": {
      "text/plain": [
       "Index(['key', 'measure_time', 'temp'], dtype='object')"
      ]
     },
     "execution_count": 34,
     "metadata": {},
     "output_type": "execute_result"
    }
   ],
   "source": [
    "# Замена названия столбца\n",
    "data_temp = data_temp.rename({'Время замера':'measure_time', 'Температура':'temp'}, axis=1)\n",
    "data_temp.columns"
   ]
  },
  {
   "cell_type": "code",
   "execution_count": 35,
   "id": "8c86f295",
   "metadata": {},
   "outputs": [
    {
     "name": "stdout",
     "output_type": "stream",
     "text": [
      "<class 'pandas.core.frame.DataFrame'>\n",
      "RangeIndex: 15907 entries, 0 to 15906\n",
      "Data columns (total 3 columns):\n",
      " #   Column        Non-Null Count  Dtype         \n",
      "---  ------        --------------  -----         \n",
      " 0   key           15907 non-null  int64         \n",
      " 1   measure_time  15907 non-null  datetime64[ns]\n",
      " 2   temp          13006 non-null  float64       \n",
      "dtypes: datetime64[ns](1), float64(1), int64(1)\n",
      "memory usage: 372.9 KB\n"
     ]
    }
   ],
   "source": [
    "# Приведение названия столбца к стандарту\n",
    "data_temp['measure_time'] =  pd.to_datetime(data_temp['measure_time'], format='%Y%m%d %H:%M:%S')\n",
    "data_temp.info()"
   ]
  },
  {
   "cell_type": "code",
   "execution_count": 36,
   "id": "054919cc",
   "metadata": {},
   "outputs": [],
   "source": [
    "# Выборка ключей партий, где больше одного замера температуры \n",
    "last_measure = data_temp.groupby('key').max() # сгруппировали с выделением последнего замера температуры\n",
    "count_temp = data_temp.groupby('key').count() # сгруппировали с подсчётом количества замеров\n",
    "\n",
    "# объеденим last_measure и count_temp\n",
    "merged = last_measure.merge(count_temp, left_index=True, right_index=True, how = 'right')\n",
    "\n",
    "# объеденим merged и data_temp\n",
    "target = merged.merge(data_temp, left_on='measure_time_x', right_on='measure_time', how = 'inner')"
   ]
  },
  {
   "cell_type": "code",
   "execution_count": 37,
   "id": "3a4678fd",
   "metadata": {},
   "outputs": [
    {
     "data": {
      "text/html": [
       "<div>\n",
       "<style scoped>\n",
       "    .dataframe tbody tr th:only-of-type {\n",
       "        vertical-align: middle;\n",
       "    }\n",
       "\n",
       "    .dataframe tbody tr th {\n",
       "        vertical-align: top;\n",
       "    }\n",
       "\n",
       "    .dataframe thead th {\n",
       "        text-align: right;\n",
       "    }\n",
       "</style>\n",
       "<table border=\"1\" class=\"dataframe\">\n",
       "  <thead>\n",
       "    <tr style=\"text-align: right;\">\n",
       "      <th></th>\n",
       "      <th>measure_time_x</th>\n",
       "      <th>temp_x</th>\n",
       "      <th>measure_time_y</th>\n",
       "      <th>temp_y</th>\n",
       "      <th>key</th>\n",
       "      <th>measure_time</th>\n",
       "      <th>temp</th>\n",
       "    </tr>\n",
       "  </thead>\n",
       "  <tbody>\n",
       "    <tr>\n",
       "      <th>0</th>\n",
       "      <td>2019-05-03 11:30:39</td>\n",
       "      <td>1618.0</td>\n",
       "      <td>5</td>\n",
       "      <td>5</td>\n",
       "      <td>1</td>\n",
       "      <td>2019-05-03 11:30:39</td>\n",
       "      <td>1613.0</td>\n",
       "    </tr>\n",
       "    <tr>\n",
       "      <th>1</th>\n",
       "      <td>2019-05-03 11:59:12</td>\n",
       "      <td>1608.0</td>\n",
       "      <td>6</td>\n",
       "      <td>6</td>\n",
       "      <td>2</td>\n",
       "      <td>2019-05-03 11:59:12</td>\n",
       "      <td>1602.0</td>\n",
       "    </tr>\n",
       "    <tr>\n",
       "      <th>2</th>\n",
       "      <td>2019-05-03 12:34:57</td>\n",
       "      <td>1599.0</td>\n",
       "      <td>5</td>\n",
       "      <td>5</td>\n",
       "      <td>3</td>\n",
       "      <td>2019-05-03 12:34:57</td>\n",
       "      <td>1599.0</td>\n",
       "    </tr>\n",
       "    <tr>\n",
       "      <th>3</th>\n",
       "      <td>2019-05-03 12:59:25</td>\n",
       "      <td>1625.0</td>\n",
       "      <td>3</td>\n",
       "      <td>3</td>\n",
       "      <td>4</td>\n",
       "      <td>2019-05-03 12:59:25</td>\n",
       "      <td>1625.0</td>\n",
       "    </tr>\n",
       "    <tr>\n",
       "      <th>4</th>\n",
       "      <td>2019-05-03 13:36:01</td>\n",
       "      <td>1602.0</td>\n",
       "      <td>2</td>\n",
       "      <td>2</td>\n",
       "      <td>5</td>\n",
       "      <td>2019-05-03 13:36:01</td>\n",
       "      <td>1602.0</td>\n",
       "    </tr>\n",
       "  </tbody>\n",
       "</table>\n",
       "</div>"
      ],
      "text/plain": [
       "       measure_time_x  temp_x  measure_time_y  temp_y  key  \\\n",
       "0 2019-05-03 11:30:39  1618.0               5       5    1   \n",
       "1 2019-05-03 11:59:12  1608.0               6       6    2   \n",
       "2 2019-05-03 12:34:57  1599.0               5       5    3   \n",
       "3 2019-05-03 12:59:25  1625.0               3       3    4   \n",
       "4 2019-05-03 13:36:01  1602.0               2       2    5   \n",
       "\n",
       "         measure_time    temp  \n",
       "0 2019-05-03 11:30:39  1613.0  \n",
       "1 2019-05-03 11:59:12  1602.0  \n",
       "2 2019-05-03 12:34:57  1599.0  \n",
       "3 2019-05-03 12:59:25  1625.0  \n",
       "4 2019-05-03 13:36:01  1602.0  "
      ]
     },
     "execution_count": 37,
     "metadata": {},
     "output_type": "execute_result"
    }
   ],
   "source": [
    "target.head(5)\n"
   ]
  },
  {
   "cell_type": "markdown",
   "id": "7d4847d8",
   "metadata": {},
   "source": [
    "Получили таблицу с последнем замером и количеством замеров ['temp_y']. Дальше уберём данные, где нет промежуточных замеров. Также уберём лишние столбцы."
   ]
  },
  {
   "cell_type": "code",
   "execution_count": 38,
   "id": "f8632260",
   "metadata": {},
   "outputs": [
    {
     "data": {
      "text/html": [
       "<div>\n",
       "<style scoped>\n",
       "    .dataframe tbody tr th:only-of-type {\n",
       "        vertical-align: middle;\n",
       "    }\n",
       "\n",
       "    .dataframe tbody tr th {\n",
       "        vertical-align: top;\n",
       "    }\n",
       "\n",
       "    .dataframe thead th {\n",
       "        text-align: right;\n",
       "    }\n",
       "</style>\n",
       "<table border=\"1\" class=\"dataframe\">\n",
       "  <thead>\n",
       "    <tr style=\"text-align: right;\">\n",
       "      <th></th>\n",
       "      <th>key</th>\n",
       "      <th>measure_time</th>\n",
       "      <th>temp</th>\n",
       "    </tr>\n",
       "  </thead>\n",
       "  <tbody>\n",
       "    <tr>\n",
       "      <th>0</th>\n",
       "      <td>1</td>\n",
       "      <td>2019-05-03 11:30:39</td>\n",
       "      <td>1613.0</td>\n",
       "    </tr>\n",
       "    <tr>\n",
       "      <th>1</th>\n",
       "      <td>2</td>\n",
       "      <td>2019-05-03 11:59:12</td>\n",
       "      <td>1602.0</td>\n",
       "    </tr>\n",
       "    <tr>\n",
       "      <th>2</th>\n",
       "      <td>3</td>\n",
       "      <td>2019-05-03 12:34:57</td>\n",
       "      <td>1599.0</td>\n",
       "    </tr>\n",
       "    <tr>\n",
       "      <th>3</th>\n",
       "      <td>4</td>\n",
       "      <td>2019-05-03 12:59:25</td>\n",
       "      <td>1625.0</td>\n",
       "    </tr>\n",
       "    <tr>\n",
       "      <th>4</th>\n",
       "      <td>5</td>\n",
       "      <td>2019-05-03 13:36:01</td>\n",
       "      <td>1602.0</td>\n",
       "    </tr>\n",
       "  </tbody>\n",
       "</table>\n",
       "</div>"
      ],
      "text/plain": [
       "   key        measure_time    temp\n",
       "0    1 2019-05-03 11:30:39  1613.0\n",
       "1    2 2019-05-03 11:59:12  1602.0\n",
       "2    3 2019-05-03 12:34:57  1599.0\n",
       "3    4 2019-05-03 12:59:25  1625.0\n",
       "4    5 2019-05-03 13:36:01  1602.0"
      ]
     },
     "execution_count": 38,
     "metadata": {},
     "output_type": "execute_result"
    }
   ],
   "source": [
    "target = target[target['temp_y']>1].drop(['measure_time_x', 'temp_x', 'measure_time_y', 'temp_y'], axis=1)\n",
    "target.head(5)"
   ]
  },
  {
   "cell_type": "code",
   "execution_count": 39,
   "id": "5f53783a",
   "metadata": {},
   "outputs": [
    {
     "name": "stdout",
     "output_type": "stream",
     "text": [
      "<class 'pandas.core.frame.DataFrame'>\n",
      "Int64Index: 2475 entries, 0 to 2476\n",
      "Data columns (total 3 columns):\n",
      " #   Column        Non-Null Count  Dtype         \n",
      "---  ------        --------------  -----         \n",
      " 0   key           2475 non-null   int64         \n",
      " 1   measure_time  2475 non-null   datetime64[ns]\n",
      " 2   temp          2475 non-null   float64       \n",
      "dtypes: datetime64[ns](1), float64(1), int64(1)\n",
      "memory usage: 77.3 KB\n"
     ]
    }
   ],
   "source": [
    "target.info()"
   ]
  },
  {
   "cell_type": "code",
   "execution_count": 40,
   "id": "17858b10",
   "metadata": {},
   "outputs": [
    {
     "data": {
      "text/plain": [
       "count    2475.000000\n",
       "mean     1595.336162\n",
       "std        16.023153\n",
       "min      1541.000000\n",
       "25%      1587.000000\n",
       "50%      1593.000000\n",
       "75%      1599.000000\n",
       "max      1700.000000\n",
       "Name: temp, dtype: float64"
      ]
     },
     "metadata": {},
     "output_type": "display_data"
    }
   ],
   "source": [
    "display(target['temp'].describe())"
   ]
  },
  {
   "cell_type": "code",
   "execution_count": 41,
   "id": "9ed0baac",
   "metadata": {},
   "outputs": [
    {
     "data": {
      "image/png": "[encoded data removed]",
      "text/plain": [
       "<Figure size 1152x432 with 1 Axes>"
      ]
     },
     "metadata": {
      "needs_background": "light"
     },
     "output_type": "display_data"
    }
   ],
   "source": [
    "target['temp'].hist(bins=200, figsize=(16,6), alpha=0.5, label='Температура')\n",
    "plt.legend()\n",
    "plt.show()"
   ]
  },
  {
   "cell_type": "markdown",
   "id": "da6ef14c",
   "metadata": {},
   "source": [
    "##### Вывод \n",
    "Подготовлен целевой признак для дальнейшего использования в обучении модели."
   ]
  },
  {
   "cell_type": "markdown",
   "id": "14d690bc",
   "metadata": {},
   "source": [
    "### 1.6 Данные о проволочных материалах (объём)\n",
    "#### Открытие и изучение"
   ]
  },
  {
   "cell_type": "code",
   "execution_count": 42,
   "id": "1ef0b603",
   "metadata": {},
   "outputs": [
    {
     "data": {
      "text/html": [
       "<div>\n",
       "<style scoped>\n",
       "    .dataframe tbody tr th:only-of-type {\n",
       "        vertical-align: middle;\n",
       "    }\n",
       "\n",
       "    .dataframe tbody tr th {\n",
       "        vertical-align: top;\n",
       "    }\n",
       "\n",
       "    .dataframe thead th {\n",
       "        text-align: right;\n",
       "    }\n",
       "</style>\n",
       "<table border=\"1\" class=\"dataframe\">\n",
       "  <thead>\n",
       "    <tr style=\"text-align: right;\">\n",
       "      <th></th>\n",
       "      <th>key</th>\n",
       "      <th>Wire 1</th>\n",
       "      <th>Wire 2</th>\n",
       "      <th>Wire 3</th>\n",
       "      <th>Wire 4</th>\n",
       "      <th>Wire 5</th>\n",
       "      <th>Wire 6</th>\n",
       "      <th>Wire 7</th>\n",
       "      <th>Wire 8</th>\n",
       "      <th>Wire 9</th>\n",
       "    </tr>\n",
       "  </thead>\n",
       "  <tbody>\n",
       "    <tr>\n",
       "      <th>0</th>\n",
       "      <td>1</td>\n",
       "      <td>60.059998</td>\n",
       "      <td>NaN</td>\n",
       "      <td>NaN</td>\n",
       "      <td>NaN</td>\n",
       "      <td>NaN</td>\n",
       "      <td>NaN</td>\n",
       "      <td>NaN</td>\n",
       "      <td>NaN</td>\n",
       "      <td>NaN</td>\n",
       "    </tr>\n",
       "    <tr>\n",
       "      <th>1</th>\n",
       "      <td>2</td>\n",
       "      <td>96.052315</td>\n",
       "      <td>NaN</td>\n",
       "      <td>NaN</td>\n",
       "      <td>NaN</td>\n",
       "      <td>NaN</td>\n",
       "      <td>NaN</td>\n",
       "      <td>NaN</td>\n",
       "      <td>NaN</td>\n",
       "      <td>NaN</td>\n",
       "    </tr>\n",
       "    <tr>\n",
       "      <th>2</th>\n",
       "      <td>3</td>\n",
       "      <td>91.160157</td>\n",
       "      <td>NaN</td>\n",
       "      <td>NaN</td>\n",
       "      <td>NaN</td>\n",
       "      <td>NaN</td>\n",
       "      <td>NaN</td>\n",
       "      <td>NaN</td>\n",
       "      <td>NaN</td>\n",
       "      <td>NaN</td>\n",
       "    </tr>\n",
       "    <tr>\n",
       "      <th>3</th>\n",
       "      <td>4</td>\n",
       "      <td>89.063515</td>\n",
       "      <td>NaN</td>\n",
       "      <td>NaN</td>\n",
       "      <td>NaN</td>\n",
       "      <td>NaN</td>\n",
       "      <td>NaN</td>\n",
       "      <td>NaN</td>\n",
       "      <td>NaN</td>\n",
       "      <td>NaN</td>\n",
       "    </tr>\n",
       "    <tr>\n",
       "      <th>4</th>\n",
       "      <td>5</td>\n",
       "      <td>89.238236</td>\n",
       "      <td>9.11456</td>\n",
       "      <td>NaN</td>\n",
       "      <td>NaN</td>\n",
       "      <td>NaN</td>\n",
       "      <td>NaN</td>\n",
       "      <td>NaN</td>\n",
       "      <td>NaN</td>\n",
       "      <td>NaN</td>\n",
       "    </tr>\n",
       "  </tbody>\n",
       "</table>\n",
       "</div>"
      ],
      "text/plain": [
       "   key     Wire 1   Wire 2  Wire 3  Wire 4  Wire 5  Wire 6  Wire 7  Wire 8  \\\n",
       "0    1  60.059998      NaN     NaN     NaN     NaN     NaN     NaN     NaN   \n",
       "1    2  96.052315      NaN     NaN     NaN     NaN     NaN     NaN     NaN   \n",
       "2    3  91.160157      NaN     NaN     NaN     NaN     NaN     NaN     NaN   \n",
       "3    4  89.063515      NaN     NaN     NaN     NaN     NaN     NaN     NaN   \n",
       "4    5  89.238236  9.11456     NaN     NaN     NaN     NaN     NaN     NaN   \n",
       "\n",
       "   Wire 9  \n",
       "0     NaN  \n",
       "1     NaN  \n",
       "2     NaN  \n",
       "3     NaN  \n",
       "4     NaN  "
      ]
     },
     "execution_count": 42,
     "metadata": {},
     "output_type": "execute_result"
    }
   ],
   "source": [
    "data_wire.head(5)"
   ]
  },
  {
   "cell_type": "code",
   "execution_count": 43,
   "id": "878f4fee",
   "metadata": {},
   "outputs": [
    {
     "name": "stdout",
     "output_type": "stream",
     "text": [
      "<class 'pandas.core.frame.DataFrame'>\n",
      "RangeIndex: 3081 entries, 0 to 3080\n",
      "Data columns (total 10 columns):\n",
      " #   Column  Non-Null Count  Dtype  \n",
      "---  ------  --------------  -----  \n",
      " 0   key     3081 non-null   int64  \n",
      " 1   Wire 1  3055 non-null   float64\n",
      " 2   Wire 2  1079 non-null   float64\n",
      " 3   Wire 3  63 non-null     float64\n",
      " 4   Wire 4  14 non-null     float64\n",
      " 5   Wire 5  1 non-null      float64\n",
      " 6   Wire 6  73 non-null     float64\n",
      " 7   Wire 7  11 non-null     float64\n",
      " 8   Wire 8  19 non-null     float64\n",
      " 9   Wire 9  29 non-null     float64\n",
      "dtypes: float64(9), int64(1)\n",
      "memory usage: 240.8 KB\n"
     ]
    }
   ],
   "source": [
    "data_wire.info()"
   ]
  },
  {
   "cell_type": "markdown",
   "id": "2523a6f4",
   "metadata": {},
   "source": [
    "##### Вывод\n",
    "В данных очень много пропусков, вероятно, это связано с отсутвием подачи материалов. Поэтому заполним все пропуски нулём.\n",
    "Также необходимо привести названия столбцов к стандарту: избавиться от заглавной буквы и от пробела."
   ]
  },
  {
   "cell_type": "markdown",
   "id": "1ebc8bdc",
   "metadata": {},
   "source": [
    "#### Предобработка данных"
   ]
  },
  {
   "cell_type": "code",
   "execution_count": 44,
   "id": "432dd3fa",
   "metadata": {},
   "outputs": [],
   "source": [
    "# Замена пропущенных значений\n",
    "data_wire = data_wire.fillna(0)"
   ]
  },
  {
   "cell_type": "code",
   "execution_count": 45,
   "id": "ed8b4e03",
   "metadata": {},
   "outputs": [
    {
     "data": {
      "text/html": [
       "<div>\n",
       "<style scoped>\n",
       "    .dataframe tbody tr th:only-of-type {\n",
       "        vertical-align: middle;\n",
       "    }\n",
       "\n",
       "    .dataframe tbody tr th {\n",
       "        vertical-align: top;\n",
       "    }\n",
       "\n",
       "    .dataframe thead th {\n",
       "        text-align: right;\n",
       "    }\n",
       "</style>\n",
       "<table border=\"1\" class=\"dataframe\">\n",
       "  <thead>\n",
       "    <tr style=\"text-align: right;\">\n",
       "      <th></th>\n",
       "      <th>key</th>\n",
       "      <th>wire_1</th>\n",
       "      <th>wire_2</th>\n",
       "      <th>wire_3</th>\n",
       "      <th>wire_4</th>\n",
       "      <th>wire_5</th>\n",
       "      <th>wire_6</th>\n",
       "      <th>wire_7</th>\n",
       "      <th>wire_8</th>\n",
       "      <th>wire_9</th>\n",
       "    </tr>\n",
       "  </thead>\n",
       "  <tbody>\n",
       "    <tr>\n",
       "      <th>0</th>\n",
       "      <td>1</td>\n",
       "      <td>60.059998</td>\n",
       "      <td>0.00000</td>\n",
       "      <td>0.0</td>\n",
       "      <td>0.0</td>\n",
       "      <td>0.0</td>\n",
       "      <td>0.0</td>\n",
       "      <td>0.0</td>\n",
       "      <td>0.0</td>\n",
       "      <td>0.0</td>\n",
       "    </tr>\n",
       "    <tr>\n",
       "      <th>1</th>\n",
       "      <td>2</td>\n",
       "      <td>96.052315</td>\n",
       "      <td>0.00000</td>\n",
       "      <td>0.0</td>\n",
       "      <td>0.0</td>\n",
       "      <td>0.0</td>\n",
       "      <td>0.0</td>\n",
       "      <td>0.0</td>\n",
       "      <td>0.0</td>\n",
       "      <td>0.0</td>\n",
       "    </tr>\n",
       "    <tr>\n",
       "      <th>2</th>\n",
       "      <td>3</td>\n",
       "      <td>91.160157</td>\n",
       "      <td>0.00000</td>\n",
       "      <td>0.0</td>\n",
       "      <td>0.0</td>\n",
       "      <td>0.0</td>\n",
       "      <td>0.0</td>\n",
       "      <td>0.0</td>\n",
       "      <td>0.0</td>\n",
       "      <td>0.0</td>\n",
       "    </tr>\n",
       "    <tr>\n",
       "      <th>3</th>\n",
       "      <td>4</td>\n",
       "      <td>89.063515</td>\n",
       "      <td>0.00000</td>\n",
       "      <td>0.0</td>\n",
       "      <td>0.0</td>\n",
       "      <td>0.0</td>\n",
       "      <td>0.0</td>\n",
       "      <td>0.0</td>\n",
       "      <td>0.0</td>\n",
       "      <td>0.0</td>\n",
       "    </tr>\n",
       "    <tr>\n",
       "      <th>4</th>\n",
       "      <td>5</td>\n",
       "      <td>89.238236</td>\n",
       "      <td>9.11456</td>\n",
       "      <td>0.0</td>\n",
       "      <td>0.0</td>\n",
       "      <td>0.0</td>\n",
       "      <td>0.0</td>\n",
       "      <td>0.0</td>\n",
       "      <td>0.0</td>\n",
       "      <td>0.0</td>\n",
       "    </tr>\n",
       "  </tbody>\n",
       "</table>\n",
       "</div>"
      ],
      "text/plain": [
       "   key     wire_1   wire_2  wire_3  wire_4  wire_5  wire_6  wire_7  wire_8  \\\n",
       "0    1  60.059998  0.00000     0.0     0.0     0.0     0.0     0.0     0.0   \n",
       "1    2  96.052315  0.00000     0.0     0.0     0.0     0.0     0.0     0.0   \n",
       "2    3  91.160157  0.00000     0.0     0.0     0.0     0.0     0.0     0.0   \n",
       "3    4  89.063515  0.00000     0.0     0.0     0.0     0.0     0.0     0.0   \n",
       "4    5  89.238236  9.11456     0.0     0.0     0.0     0.0     0.0     0.0   \n",
       "\n",
       "   wire_9  \n",
       "0     0.0  \n",
       "1     0.0  \n",
       "2     0.0  \n",
       "3     0.0  \n",
       "4     0.0  "
      ]
     },
     "execution_count": 45,
     "metadata": {},
     "output_type": "execute_result"
    }
   ],
   "source": [
    "# Замена названий столбцов\n",
    "\n",
    "data_wire = data_wire.rename({'Wire 1':'wire_1', 'Wire 2':'wire_2', 'Wire 3':'wire_3', 'Wire 4':'wire_4',\n",
    "                              'Wire 5':'wire_5', 'Wire 6':'wire_6', 'Wire 7':'wire_7', 'Wire 8':'wire_8',\n",
    "                              'Wire 9':'wire_9'}, axis=1)\n",
    "data_wire.head(5)"
   ]
  },
  {
   "cell_type": "markdown",
   "id": "ce788a23",
   "metadata": {},
   "source": [
    "#### Данные о проволочных материалах (время)"
   ]
  },
  {
   "cell_type": "code",
   "execution_count": 46,
   "id": "9151ac78",
   "metadata": {},
   "outputs": [
    {
     "data": {
      "text/html": [
       "<div>\n",
       "<style scoped>\n",
       "    .dataframe tbody tr th:only-of-type {\n",
       "        vertical-align: middle;\n",
       "    }\n",
       "\n",
       "    .dataframe tbody tr th {\n",
       "        vertical-align: top;\n",
       "    }\n",
       "\n",
       "    .dataframe thead th {\n",
       "        text-align: right;\n",
       "    }\n",
       "</style>\n",
       "<table border=\"1\" class=\"dataframe\">\n",
       "  <thead>\n",
       "    <tr style=\"text-align: right;\">\n",
       "      <th></th>\n",
       "      <th>key</th>\n",
       "      <th>Wire 1</th>\n",
       "      <th>Wire 2</th>\n",
       "      <th>Wire 3</th>\n",
       "      <th>Wire 4</th>\n",
       "      <th>Wire 5</th>\n",
       "      <th>Wire 6</th>\n",
       "      <th>Wire 7</th>\n",
       "      <th>Wire 8</th>\n",
       "      <th>Wire 9</th>\n",
       "    </tr>\n",
       "  </thead>\n",
       "  <tbody>\n",
       "    <tr>\n",
       "      <th>0</th>\n",
       "      <td>1</td>\n",
       "      <td>2019-05-03 11:11:41</td>\n",
       "      <td>NaN</td>\n",
       "      <td>NaN</td>\n",
       "      <td>NaN</td>\n",
       "      <td>NaN</td>\n",
       "      <td>NaN</td>\n",
       "      <td>NaN</td>\n",
       "      <td>NaN</td>\n",
       "      <td>NaN</td>\n",
       "    </tr>\n",
       "    <tr>\n",
       "      <th>1</th>\n",
       "      <td>2</td>\n",
       "      <td>2019-05-03 11:46:10</td>\n",
       "      <td>NaN</td>\n",
       "      <td>NaN</td>\n",
       "      <td>NaN</td>\n",
       "      <td>NaN</td>\n",
       "      <td>NaN</td>\n",
       "      <td>NaN</td>\n",
       "      <td>NaN</td>\n",
       "      <td>NaN</td>\n",
       "    </tr>\n",
       "    <tr>\n",
       "      <th>2</th>\n",
       "      <td>3</td>\n",
       "      <td>2019-05-03 12:13:47</td>\n",
       "      <td>NaN</td>\n",
       "      <td>NaN</td>\n",
       "      <td>NaN</td>\n",
       "      <td>NaN</td>\n",
       "      <td>NaN</td>\n",
       "      <td>NaN</td>\n",
       "      <td>NaN</td>\n",
       "      <td>NaN</td>\n",
       "    </tr>\n",
       "    <tr>\n",
       "      <th>3</th>\n",
       "      <td>4</td>\n",
       "      <td>2019-05-03 12:48:05</td>\n",
       "      <td>NaN</td>\n",
       "      <td>NaN</td>\n",
       "      <td>NaN</td>\n",
       "      <td>NaN</td>\n",
       "      <td>NaN</td>\n",
       "      <td>NaN</td>\n",
       "      <td>NaN</td>\n",
       "      <td>NaN</td>\n",
       "    </tr>\n",
       "    <tr>\n",
       "      <th>4</th>\n",
       "      <td>5</td>\n",
       "      <td>2019-05-03 13:18:15</td>\n",
       "      <td>2019-05-03 13:32:06</td>\n",
       "      <td>NaN</td>\n",
       "      <td>NaN</td>\n",
       "      <td>NaN</td>\n",
       "      <td>NaN</td>\n",
       "      <td>NaN</td>\n",
       "      <td>NaN</td>\n",
       "      <td>NaN</td>\n",
       "    </tr>\n",
       "  </tbody>\n",
       "</table>\n",
       "</div>"
      ],
      "text/plain": [
       "   key               Wire 1               Wire 2 Wire 3 Wire 4 Wire 5 Wire 6  \\\n",
       "0    1  2019-05-03 11:11:41                  NaN    NaN    NaN    NaN    NaN   \n",
       "1    2  2019-05-03 11:46:10                  NaN    NaN    NaN    NaN    NaN   \n",
       "2    3  2019-05-03 12:13:47                  NaN    NaN    NaN    NaN    NaN   \n",
       "3    4  2019-05-03 12:48:05                  NaN    NaN    NaN    NaN    NaN   \n",
       "4    5  2019-05-03 13:18:15  2019-05-03 13:32:06    NaN    NaN    NaN    NaN   \n",
       "\n",
       "  Wire 7 Wire 8 Wire 9  \n",
       "0    NaN    NaN    NaN  \n",
       "1    NaN    NaN    NaN  \n",
       "2    NaN    NaN    NaN  \n",
       "3    NaN    NaN    NaN  \n",
       "4    NaN    NaN    NaN  "
      ]
     },
     "execution_count": 46,
     "metadata": {},
     "output_type": "execute_result"
    }
   ],
   "source": [
    "data_wire_time.head(5)"
   ]
  },
  {
   "cell_type": "code",
   "execution_count": 47,
   "id": "64946fc3",
   "metadata": {
    "scrolled": true
   },
   "outputs": [
    {
     "name": "stdout",
     "output_type": "stream",
     "text": [
      "<class 'pandas.core.frame.DataFrame'>\n",
      "RangeIndex: 3081 entries, 0 to 3080\n",
      "Data columns (total 10 columns):\n",
      " #   Column  Non-Null Count  Dtype \n",
      "---  ------  --------------  ----- \n",
      " 0   key     3081 non-null   int64 \n",
      " 1   Wire 1  3055 non-null   object\n",
      " 2   Wire 2  1079 non-null   object\n",
      " 3   Wire 3  63 non-null     object\n",
      " 4   Wire 4  14 non-null     object\n",
      " 5   Wire 5  1 non-null      object\n",
      " 6   Wire 6  73 non-null     object\n",
      " 7   Wire 7  11 non-null     object\n",
      " 8   Wire 8  19 non-null     object\n",
      " 9   Wire 9  29 non-null     object\n",
      "dtypes: int64(1), object(9)\n",
      "memory usage: 240.8+ KB\n"
     ]
    }
   ],
   "source": [
    "data_wire_time.info()"
   ]
  },
  {
   "cell_type": "markdown",
   "id": "0c9e92a1",
   "metadata": {},
   "source": [
    "Данные дублируют информацию об объёме. В дальнейшем анализе данные о времени подачи проволочных материалов использованы не будут."
   ]
  },
  {
   "cell_type": "markdown",
   "id": "ac90b852",
   "metadata": {},
   "source": [
    "### 1.3 Подготовка признаков"
   ]
  },
  {
   "cell_type": "markdown",
   "id": "2a5fa2fe",
   "metadata": {},
   "source": [
    "Предобработанные данные подготовим к обучению:"
   ]
  },
  {
   "cell_type": "code",
   "execution_count": 48,
   "id": "65c0e2ad",
   "metadata": {},
   "outputs": [],
   "source": [
    "feature = data_arc.merge(target, left_index=True, right_on='key', how='right')"
   ]
  },
  {
   "cell_type": "code",
   "execution_count": 49,
   "id": "e38a5a83",
   "metadata": {},
   "outputs": [
    {
     "name": "stdout",
     "output_type": "stream",
     "text": [
      "<class 'pandas.core.frame.DataFrame'>\n",
      "Int64Index: 2475 entries, 0 to 2476\n",
      "Data columns (total 5 columns):\n",
      " #   Column        Non-Null Count  Dtype         \n",
      "---  ------        --------------  -----         \n",
      " 0   time          2475 non-null   float64       \n",
      " 1   f_power       2475 non-null   float64       \n",
      " 2   key           2475 non-null   int64         \n",
      " 3   measure_time  2475 non-null   datetime64[ns]\n",
      " 4   temp          2475 non-null   float64       \n",
      "dtypes: datetime64[ns](1), float64(3), int64(1)\n",
      "memory usage: 116.0 KB\n"
     ]
    }
   ],
   "source": [
    "feature.info()"
   ]
  },
  {
   "cell_type": "code",
   "execution_count": 50,
   "id": "c9ab71e9",
   "metadata": {},
   "outputs": [
    {
     "data": {
      "text/html": [
       "<div>\n",
       "<style scoped>\n",
       "    .dataframe tbody tr th:only-of-type {\n",
       "        vertical-align: middle;\n",
       "    }\n",
       "\n",
       "    .dataframe tbody tr th {\n",
       "        vertical-align: top;\n",
       "    }\n",
       "\n",
       "    .dataframe thead th {\n",
       "        text-align: right;\n",
       "    }\n",
       "</style>\n",
       "<table border=\"1\" class=\"dataframe\">\n",
       "  <thead>\n",
       "    <tr style=\"text-align: right;\">\n",
       "      <th></th>\n",
       "      <th>time</th>\n",
       "      <th>f_power</th>\n",
       "      <th>key</th>\n",
       "      <th>measure_time</th>\n",
       "      <th>temp</th>\n",
       "    </tr>\n",
       "  </thead>\n",
       "  <tbody>\n",
       "    <tr>\n",
       "      <th>0</th>\n",
       "      <td>1098.0</td>\n",
       "      <td>5.824889</td>\n",
       "      <td>1</td>\n",
       "      <td>2019-05-03 11:30:39</td>\n",
       "      <td>1613.0</td>\n",
       "    </tr>\n",
       "    <tr>\n",
       "      <th>1</th>\n",
       "      <td>811.0</td>\n",
       "      <td>3.648398</td>\n",
       "      <td>2</td>\n",
       "      <td>2019-05-03 11:59:12</td>\n",
       "      <td>1602.0</td>\n",
       "    </tr>\n",
       "    <tr>\n",
       "      <th>2</th>\n",
       "      <td>655.0</td>\n",
       "      <td>2.989502</td>\n",
       "      <td>3</td>\n",
       "      <td>2019-05-03 12:34:57</td>\n",
       "      <td>1599.0</td>\n",
       "    </tr>\n",
       "    <tr>\n",
       "      <th>3</th>\n",
       "      <td>741.0</td>\n",
       "      <td>3.813674</td>\n",
       "      <td>4</td>\n",
       "      <td>2019-05-03 12:59:25</td>\n",
       "      <td>1625.0</td>\n",
       "    </tr>\n",
       "    <tr>\n",
       "      <th>4</th>\n",
       "      <td>869.0</td>\n",
       "      <td>4.034596</td>\n",
       "      <td>5</td>\n",
       "      <td>2019-05-03 13:36:01</td>\n",
       "      <td>1602.0</td>\n",
       "    </tr>\n",
       "  </tbody>\n",
       "</table>\n",
       "</div>"
      ],
      "text/plain": [
       "     time   f_power  key        measure_time    temp\n",
       "0  1098.0  5.824889    1 2019-05-03 11:30:39  1613.0\n",
       "1   811.0  3.648398    2 2019-05-03 11:59:12  1602.0\n",
       "2   655.0  2.989502    3 2019-05-03 12:34:57  1599.0\n",
       "3   741.0  3.813674    4 2019-05-03 12:59:25  1625.0\n",
       "4   869.0  4.034596    5 2019-05-03 13:36:01  1602.0"
      ]
     },
     "execution_count": 50,
     "metadata": {},
     "output_type": "execute_result"
    }
   ],
   "source": [
    "feature.head(5)"
   ]
  },
  {
   "cell_type": "code",
   "execution_count": 51,
   "id": "17f44d5b",
   "metadata": {},
   "outputs": [],
   "source": [
    "feature = feature.merge(data_bulk, left_on='key', right_on='key', how='left')\n",
    "feature = feature.merge(data_gas, left_on='key', right_on='key', how='left')\n",
    "feature = feature.merge(data_wire, left_on='key', right_on='key', how='left')\n"
   ]
  },
  {
   "cell_type": "code",
   "execution_count": 52,
   "id": "dc51b68d",
   "metadata": {},
   "outputs": [
    {
     "data": {
      "text/html": [
       "<div>\n",
       "<style scoped>\n",
       "    .dataframe tbody tr th:only-of-type {\n",
       "        vertical-align: middle;\n",
       "    }\n",
       "\n",
       "    .dataframe tbody tr th {\n",
       "        vertical-align: top;\n",
       "    }\n",
       "\n",
       "    .dataframe thead th {\n",
       "        text-align: right;\n",
       "    }\n",
       "</style>\n",
       "<table border=\"1\" class=\"dataframe\">\n",
       "  <thead>\n",
       "    <tr style=\"text-align: right;\">\n",
       "      <th></th>\n",
       "      <th>time</th>\n",
       "      <th>f_power</th>\n",
       "      <th>key</th>\n",
       "      <th>measure_time</th>\n",
       "      <th>temp</th>\n",
       "      <th>bulk_1</th>\n",
       "      <th>bulk_2</th>\n",
       "      <th>bulk_3</th>\n",
       "      <th>bulk_4</th>\n",
       "      <th>bulk_5</th>\n",
       "      <th>...</th>\n",
       "      <th>gas_1</th>\n",
       "      <th>wire_1</th>\n",
       "      <th>wire_2</th>\n",
       "      <th>wire_3</th>\n",
       "      <th>wire_4</th>\n",
       "      <th>wire_5</th>\n",
       "      <th>wire_6</th>\n",
       "      <th>wire_7</th>\n",
       "      <th>wire_8</th>\n",
       "      <th>wire_9</th>\n",
       "    </tr>\n",
       "  </thead>\n",
       "  <tbody>\n",
       "    <tr>\n",
       "      <th>0</th>\n",
       "      <td>1098.0</td>\n",
       "      <td>5.824889</td>\n",
       "      <td>1</td>\n",
       "      <td>2019-05-03 11:30:39</td>\n",
       "      <td>1613.0</td>\n",
       "      <td>0.0</td>\n",
       "      <td>0.0</td>\n",
       "      <td>0.0</td>\n",
       "      <td>43.0</td>\n",
       "      <td>0.0</td>\n",
       "      <td>...</td>\n",
       "      <td>29.749986</td>\n",
       "      <td>60.059998</td>\n",
       "      <td>0.00000</td>\n",
       "      <td>0.0</td>\n",
       "      <td>0.0</td>\n",
       "      <td>0.0</td>\n",
       "      <td>0.0</td>\n",
       "      <td>0.0</td>\n",
       "      <td>0.0</td>\n",
       "      <td>0.0</td>\n",
       "    </tr>\n",
       "    <tr>\n",
       "      <th>1</th>\n",
       "      <td>811.0</td>\n",
       "      <td>3.648398</td>\n",
       "      <td>2</td>\n",
       "      <td>2019-05-03 11:59:12</td>\n",
       "      <td>1602.0</td>\n",
       "      <td>0.0</td>\n",
       "      <td>0.0</td>\n",
       "      <td>0.0</td>\n",
       "      <td>73.0</td>\n",
       "      <td>0.0</td>\n",
       "      <td>...</td>\n",
       "      <td>12.555561</td>\n",
       "      <td>96.052315</td>\n",
       "      <td>0.00000</td>\n",
       "      <td>0.0</td>\n",
       "      <td>0.0</td>\n",
       "      <td>0.0</td>\n",
       "      <td>0.0</td>\n",
       "      <td>0.0</td>\n",
       "      <td>0.0</td>\n",
       "      <td>0.0</td>\n",
       "    </tr>\n",
       "    <tr>\n",
       "      <th>2</th>\n",
       "      <td>655.0</td>\n",
       "      <td>2.989502</td>\n",
       "      <td>3</td>\n",
       "      <td>2019-05-03 12:34:57</td>\n",
       "      <td>1599.0</td>\n",
       "      <td>0.0</td>\n",
       "      <td>0.0</td>\n",
       "      <td>0.0</td>\n",
       "      <td>34.0</td>\n",
       "      <td>0.0</td>\n",
       "      <td>...</td>\n",
       "      <td>28.554793</td>\n",
       "      <td>91.160157</td>\n",
       "      <td>0.00000</td>\n",
       "      <td>0.0</td>\n",
       "      <td>0.0</td>\n",
       "      <td>0.0</td>\n",
       "      <td>0.0</td>\n",
       "      <td>0.0</td>\n",
       "      <td>0.0</td>\n",
       "      <td>0.0</td>\n",
       "    </tr>\n",
       "    <tr>\n",
       "      <th>3</th>\n",
       "      <td>741.0</td>\n",
       "      <td>3.813674</td>\n",
       "      <td>4</td>\n",
       "      <td>2019-05-03 12:59:25</td>\n",
       "      <td>1625.0</td>\n",
       "      <td>0.0</td>\n",
       "      <td>0.0</td>\n",
       "      <td>0.0</td>\n",
       "      <td>81.0</td>\n",
       "      <td>0.0</td>\n",
       "      <td>...</td>\n",
       "      <td>18.841219</td>\n",
       "      <td>89.063515</td>\n",
       "      <td>0.00000</td>\n",
       "      <td>0.0</td>\n",
       "      <td>0.0</td>\n",
       "      <td>0.0</td>\n",
       "      <td>0.0</td>\n",
       "      <td>0.0</td>\n",
       "      <td>0.0</td>\n",
       "      <td>0.0</td>\n",
       "    </tr>\n",
       "    <tr>\n",
       "      <th>4</th>\n",
       "      <td>869.0</td>\n",
       "      <td>4.034596</td>\n",
       "      <td>5</td>\n",
       "      <td>2019-05-03 13:36:01</td>\n",
       "      <td>1602.0</td>\n",
       "      <td>0.0</td>\n",
       "      <td>0.0</td>\n",
       "      <td>0.0</td>\n",
       "      <td>78.0</td>\n",
       "      <td>0.0</td>\n",
       "      <td>...</td>\n",
       "      <td>5.413692</td>\n",
       "      <td>89.238236</td>\n",
       "      <td>9.11456</td>\n",
       "      <td>0.0</td>\n",
       "      <td>0.0</td>\n",
       "      <td>0.0</td>\n",
       "      <td>0.0</td>\n",
       "      <td>0.0</td>\n",
       "      <td>0.0</td>\n",
       "      <td>0.0</td>\n",
       "    </tr>\n",
       "  </tbody>\n",
       "</table>\n",
       "<p>5 rows × 30 columns</p>\n",
       "</div>"
      ],
      "text/plain": [
       "     time   f_power  key        measure_time    temp  bulk_1  bulk_2  bulk_3  \\\n",
       "0  1098.0  5.824889    1 2019-05-03 11:30:39  1613.0     0.0     0.0     0.0   \n",
       "1   811.0  3.648398    2 2019-05-03 11:59:12  1602.0     0.0     0.0     0.0   \n",
       "2   655.0  2.989502    3 2019-05-03 12:34:57  1599.0     0.0     0.0     0.0   \n",
       "3   741.0  3.813674    4 2019-05-03 12:59:25  1625.0     0.0     0.0     0.0   \n",
       "4   869.0  4.034596    5 2019-05-03 13:36:01  1602.0     0.0     0.0     0.0   \n",
       "\n",
       "   bulk_4  bulk_5  ...      gas_1     wire_1   wire_2  wire_3  wire_4  wire_5  \\\n",
       "0    43.0     0.0  ...  29.749986  60.059998  0.00000     0.0     0.0     0.0   \n",
       "1    73.0     0.0  ...  12.555561  96.052315  0.00000     0.0     0.0     0.0   \n",
       "2    34.0     0.0  ...  28.554793  91.160157  0.00000     0.0     0.0     0.0   \n",
       "3    81.0     0.0  ...  18.841219  89.063515  0.00000     0.0     0.0     0.0   \n",
       "4    78.0     0.0  ...   5.413692  89.238236  9.11456     0.0     0.0     0.0   \n",
       "\n",
       "   wire_6  wire_7  wire_8  wire_9  \n",
       "0     0.0     0.0     0.0     0.0  \n",
       "1     0.0     0.0     0.0     0.0  \n",
       "2     0.0     0.0     0.0     0.0  \n",
       "3     0.0     0.0     0.0     0.0  \n",
       "4     0.0     0.0     0.0     0.0  \n",
       "\n",
       "[5 rows x 30 columns]"
      ]
     },
     "execution_count": 52,
     "metadata": {},
     "output_type": "execute_result"
    }
   ],
   "source": [
    "feature.head(5)"
   ]
  },
  {
   "cell_type": "code",
   "execution_count": 53,
   "id": "2f655883",
   "metadata": {},
   "outputs": [
    {
     "name": "stdout",
     "output_type": "stream",
     "text": [
      "<class 'pandas.core.frame.DataFrame'>\n",
      "Int64Index: 2475 entries, 0 to 2474\n",
      "Data columns (total 30 columns):\n",
      " #   Column        Non-Null Count  Dtype         \n",
      "---  ------        --------------  -----         \n",
      " 0   time          2475 non-null   float64       \n",
      " 1   f_power       2475 non-null   float64       \n",
      " 2   key           2475 non-null   int64         \n",
      " 3   measure_time  2475 non-null   datetime64[ns]\n",
      " 4   temp          2475 non-null   float64       \n",
      " 5   bulk_1        2407 non-null   float64       \n",
      " 6   bulk_2        2407 non-null   float64       \n",
      " 7   bulk_3        2407 non-null   float64       \n",
      " 8   bulk_4        2407 non-null   float64       \n",
      " 9   bulk_5        2407 non-null   float64       \n",
      " 10  bulk_6        2407 non-null   float64       \n",
      " 11  bulk_7        2407 non-null   float64       \n",
      " 12  bulk_8        2407 non-null   float64       \n",
      " 13  bulk_9        2407 non-null   float64       \n",
      " 14  bulk_10       2407 non-null   float64       \n",
      " 15  bulk_11       2407 non-null   float64       \n",
      " 16  bulk_12       2407 non-null   float64       \n",
      " 17  bulk_13       2407 non-null   float64       \n",
      " 18  bulk_14       2407 non-null   float64       \n",
      " 19  bulk_15       2407 non-null   float64       \n",
      " 20  gas_1         2473 non-null   float64       \n",
      " 21  wire_1        2372 non-null   float64       \n",
      " 22  wire_2        2372 non-null   float64       \n",
      " 23  wire_3        2372 non-null   float64       \n",
      " 24  wire_4        2372 non-null   float64       \n",
      " 25  wire_5        2372 non-null   float64       \n",
      " 26  wire_6        2372 non-null   float64       \n",
      " 27  wire_7        2372 non-null   float64       \n",
      " 28  wire_8        2372 non-null   float64       \n",
      " 29  wire_9        2372 non-null   float64       \n",
      "dtypes: datetime64[ns](1), float64(28), int64(1)\n",
      "memory usage: 599.4 KB\n"
     ]
    }
   ],
   "source": [
    "feature.info()"
   ]
  },
  {
   "cell_type": "code",
   "execution_count": 54,
   "id": "8bc50c53",
   "metadata": {},
   "outputs": [
    {
     "data": {
      "text/plain": [
       "time            0.000000\n",
       "f_power         0.000000\n",
       "key             0.000000\n",
       "measure_time    0.000000\n",
       "temp            0.000000\n",
       "bulk_1          2.747475\n",
       "bulk_2          2.747475\n",
       "bulk_3          2.747475\n",
       "bulk_4          2.747475\n",
       "bulk_5          2.747475\n",
       "bulk_6          2.747475\n",
       "bulk_7          2.747475\n",
       "bulk_8          2.747475\n",
       "bulk_9          2.747475\n",
       "bulk_10         2.747475\n",
       "bulk_11         2.747475\n",
       "bulk_12         2.747475\n",
       "bulk_13         2.747475\n",
       "bulk_14         2.747475\n",
       "bulk_15         2.747475\n",
       "gas_1           0.080808\n",
       "wire_1          4.161616\n",
       "wire_2          4.161616\n",
       "wire_3          4.161616\n",
       "wire_4          4.161616\n",
       "wire_5          4.161616\n",
       "wire_6          4.161616\n",
       "wire_7          4.161616\n",
       "wire_8          4.161616\n",
       "wire_9          4.161616\n",
       "dtype: float64"
      ]
     },
     "execution_count": 54,
     "metadata": {},
     "output_type": "execute_result"
    }
   ],
   "source": [
    "feature.isnull().sum()/2475*100"
   ]
  },
  {
   "cell_type": "code",
   "execution_count": 55,
   "id": "858a0561",
   "metadata": {},
   "outputs": [],
   "source": [
    "feature = feature.dropna()"
   ]
  },
  {
   "cell_type": "code",
   "execution_count": 56,
   "id": "7c7d89a9",
   "metadata": {},
   "outputs": [
    {
     "name": "stdout",
     "output_type": "stream",
     "text": [
      "<class 'pandas.core.frame.DataFrame'>\n",
      "Int64Index: 2329 entries, 0 to 2474\n",
      "Data columns (total 30 columns):\n",
      " #   Column        Non-Null Count  Dtype         \n",
      "---  ------        --------------  -----         \n",
      " 0   time          2329 non-null   float64       \n",
      " 1   f_power       2329 non-null   float64       \n",
      " 2   key           2329 non-null   int64         \n",
      " 3   measure_time  2329 non-null   datetime64[ns]\n",
      " 4   temp          2329 non-null   float64       \n",
      " 5   bulk_1        2329 non-null   float64       \n",
      " 6   bulk_2        2329 non-null   float64       \n",
      " 7   bulk_3        2329 non-null   float64       \n",
      " 8   bulk_4        2329 non-null   float64       \n",
      " 9   bulk_5        2329 non-null   float64       \n",
      " 10  bulk_6        2329 non-null   float64       \n",
      " 11  bulk_7        2329 non-null   float64       \n",
      " 12  bulk_8        2329 non-null   float64       \n",
      " 13  bulk_9        2329 non-null   float64       \n",
      " 14  bulk_10       2329 non-null   float64       \n",
      " 15  bulk_11       2329 non-null   float64       \n",
      " 16  bulk_12       2329 non-null   float64       \n",
      " 17  bulk_13       2329 non-null   float64       \n",
      " 18  bulk_14       2329 non-null   float64       \n",
      " 19  bulk_15       2329 non-null   float64       \n",
      " 20  gas_1         2329 non-null   float64       \n",
      " 21  wire_1        2329 non-null   float64       \n",
      " 22  wire_2        2329 non-null   float64       \n",
      " 23  wire_3        2329 non-null   float64       \n",
      " 24  wire_4        2329 non-null   float64       \n",
      " 25  wire_5        2329 non-null   float64       \n",
      " 26  wire_6        2329 non-null   float64       \n",
      " 27  wire_7        2329 non-null   float64       \n",
      " 28  wire_8        2329 non-null   float64       \n",
      " 29  wire_9        2329 non-null   float64       \n",
      "dtypes: datetime64[ns](1), float64(28), int64(1)\n",
      "memory usage: 564.1 KB\n"
     ]
    }
   ],
   "source": [
    "feature.info()"
   ]
  },
  {
   "cell_type": "code",
   "execution_count": 57,
   "id": "a6266ec9",
   "metadata": {},
   "outputs": [
    {
     "data": {
      "image/png": "[encoded data removed]",
      "text/plain": [
       "<Figure size 1080x504 with 2 Axes>"
      ]
     },
     "metadata": {
      "needs_background": "light"
     },
     "output_type": "display_data"
    }
   ],
   "source": [
    "cm = feature.corr()\n",
    "plt.figure(figsize=(15,7))\n",
    "plt.title('Correlation matrix')\n",
    "sns.heatmap(cm, annot=True, fmt='.1f', linewidths=1, linecolor='gray')\n",
    "plt.show()"
   ]
  },
  {
   "cell_type": "code",
   "execution_count": 58,
   "id": "80f91017",
   "metadata": {},
   "outputs": [],
   "source": [
    "X, X_test, y, y_test = train_test_split(\n",
    "    feature.drop(['temp', 'key', 'measure_time', 'wire_5'], axis=1),\n",
    "    feature.temp, test_size=0.4, random_state=12345)\n",
    "X_valid, X_test, y_valid, y_test = train_test_split(\n",
    "    X_test, y_test, test_size=0.5, random_state=12345)"
   ]
  },
  {
   "cell_type": "code",
   "execution_count": 59,
   "id": "846a1f70",
   "metadata": {},
   "outputs": [
    {
     "name": "stdout",
     "output_type": "stream",
     "text": [
      "(1397, 26) (466, 26) (466, 26)\n"
     ]
    }
   ],
   "source": [
    "print(X.shape, X_test.shape, X_valid.shape)"
   ]
  },
  {
   "cell_type": "code",
   "execution_count": 60,
   "id": "24ff7504",
   "metadata": {},
   "outputs": [
    {
     "data": {
      "text/html": [
       "<div>\n",
       "<style scoped>\n",
       "    .dataframe tbody tr th:only-of-type {\n",
       "        vertical-align: middle;\n",
       "    }\n",
       "\n",
       "    .dataframe tbody tr th {\n",
       "        vertical-align: top;\n",
       "    }\n",
       "\n",
       "    .dataframe thead th {\n",
       "        text-align: right;\n",
       "    }\n",
       "</style>\n",
       "<table border=\"1\" class=\"dataframe\">\n",
       "  <thead>\n",
       "    <tr style=\"text-align: right;\">\n",
       "      <th></th>\n",
       "      <th>0</th>\n",
       "      <th>1</th>\n",
       "      <th>2</th>\n",
       "      <th>3</th>\n",
       "      <th>4</th>\n",
       "      <th>5</th>\n",
       "      <th>6</th>\n",
       "      <th>7</th>\n",
       "      <th>8</th>\n",
       "      <th>9</th>\n",
       "      <th>...</th>\n",
       "      <th>16</th>\n",
       "      <th>17</th>\n",
       "      <th>18</th>\n",
       "      <th>19</th>\n",
       "      <th>20</th>\n",
       "      <th>21</th>\n",
       "      <th>22</th>\n",
       "      <th>23</th>\n",
       "      <th>24</th>\n",
       "      <th>25</th>\n",
       "    </tr>\n",
       "  </thead>\n",
       "  <tbody>\n",
       "    <tr>\n",
       "      <th>0</th>\n",
       "      <td>0.272364</td>\n",
       "      <td>0.407780</td>\n",
       "      <td>-0.264096</td>\n",
       "      <td>-0.059757</td>\n",
       "      <td>-0.612332</td>\n",
       "      <td>-0.626620</td>\n",
       "      <td>-0.131533</td>\n",
       "      <td>-0.404537</td>\n",
       "      <td>-0.065283</td>\n",
       "      <td>0.0</td>\n",
       "      <td>...</td>\n",
       "      <td>1.228051</td>\n",
       "      <td>-0.081236</td>\n",
       "      <td>-0.475266</td>\n",
       "      <td>-0.535888</td>\n",
       "      <td>-0.113971</td>\n",
       "      <td>-0.063768</td>\n",
       "      <td>-0.104688</td>\n",
       "      <td>-0.027493</td>\n",
       "      <td>-0.070961</td>\n",
       "      <td>-0.08256</td>\n",
       "    </tr>\n",
       "    <tr>\n",
       "      <th>1</th>\n",
       "      <td>0.460085</td>\n",
       "      <td>0.613646</td>\n",
       "      <td>-0.264096</td>\n",
       "      <td>-0.059757</td>\n",
       "      <td>1.699017</td>\n",
       "      <td>-0.626620</td>\n",
       "      <td>-0.131533</td>\n",
       "      <td>-0.404537</td>\n",
       "      <td>-0.065283</td>\n",
       "      <td>0.0</td>\n",
       "      <td>...</td>\n",
       "      <td>-0.197159</td>\n",
       "      <td>3.353008</td>\n",
       "      <td>-0.560416</td>\n",
       "      <td>-0.535888</td>\n",
       "      <td>-0.113971</td>\n",
       "      <td>-0.063768</td>\n",
       "      <td>-0.104688</td>\n",
       "      <td>-0.027493</td>\n",
       "      <td>-0.070961</td>\n",
       "      <td>-0.08256</td>\n",
       "    </tr>\n",
       "    <tr>\n",
       "      <th>2</th>\n",
       "      <td>0.067044</td>\n",
       "      <td>-0.179777</td>\n",
       "      <td>-0.264096</td>\n",
       "      <td>-0.059757</td>\n",
       "      <td>-0.612332</td>\n",
       "      <td>-0.626620</td>\n",
       "      <td>-0.131533</td>\n",
       "      <td>0.392261</td>\n",
       "      <td>-0.065283</td>\n",
       "      <td>0.0</td>\n",
       "      <td>...</td>\n",
       "      <td>-0.208937</td>\n",
       "      <td>0.581314</td>\n",
       "      <td>-0.976289</td>\n",
       "      <td>2.230725</td>\n",
       "      <td>-0.113971</td>\n",
       "      <td>-0.063768</td>\n",
       "      <td>-0.104688</td>\n",
       "      <td>-0.027493</td>\n",
       "      <td>-0.070961</td>\n",
       "      <td>-0.08256</td>\n",
       "    </tr>\n",
       "    <tr>\n",
       "      <th>3</th>\n",
       "      <td>1.228567</td>\n",
       "      <td>1.300205</td>\n",
       "      <td>-0.264096</td>\n",
       "      <td>-0.059757</td>\n",
       "      <td>-0.612332</td>\n",
       "      <td>-0.626620</td>\n",
       "      <td>-0.131533</td>\n",
       "      <td>-0.404537</td>\n",
       "      <td>-0.065283</td>\n",
       "      <td>0.0</td>\n",
       "      <td>...</td>\n",
       "      <td>-1.410353</td>\n",
       "      <td>0.492164</td>\n",
       "      <td>-1.697982</td>\n",
       "      <td>1.928981</td>\n",
       "      <td>-0.113971</td>\n",
       "      <td>-0.063768</td>\n",
       "      <td>-0.104688</td>\n",
       "      <td>-0.027493</td>\n",
       "      <td>-0.070961</td>\n",
       "      <td>-0.08256</td>\n",
       "    </tr>\n",
       "    <tr>\n",
       "      <th>4</th>\n",
       "      <td>1.562945</td>\n",
       "      <td>1.608068</td>\n",
       "      <td>3.651762</td>\n",
       "      <td>-0.059757</td>\n",
       "      <td>-0.612332</td>\n",
       "      <td>2.919159</td>\n",
       "      <td>-0.131533</td>\n",
       "      <td>-0.404537</td>\n",
       "      <td>-0.065283</td>\n",
       "      <td>0.0</td>\n",
       "      <td>...</td>\n",
       "      <td>0.992479</td>\n",
       "      <td>2.257619</td>\n",
       "      <td>0.245933</td>\n",
       "      <td>-0.535888</td>\n",
       "      <td>-0.113971</td>\n",
       "      <td>-0.063768</td>\n",
       "      <td>-0.104688</td>\n",
       "      <td>-0.027493</td>\n",
       "      <td>-0.070961</td>\n",
       "      <td>-0.08256</td>\n",
       "    </tr>\n",
       "  </tbody>\n",
       "</table>\n",
       "<p>5 rows × 26 columns</p>\n",
       "</div>"
      ],
      "text/plain": [
       "         0         1         2         3         4         5         6   \\\n",
       "0  0.272364  0.407780 -0.264096 -0.059757 -0.612332 -0.626620 -0.131533   \n",
       "1  0.460085  0.613646 -0.264096 -0.059757  1.699017 -0.626620 -0.131533   \n",
       "2  0.067044 -0.179777 -0.264096 -0.059757 -0.612332 -0.626620 -0.131533   \n",
       "3  1.228567  1.300205 -0.264096 -0.059757 -0.612332 -0.626620 -0.131533   \n",
       "4  1.562945  1.608068  3.651762 -0.059757 -0.612332  2.919159 -0.131533   \n",
       "\n",
       "         7         8    9   ...        16        17        18        19  \\\n",
       "0 -0.404537 -0.065283  0.0  ...  1.228051 -0.081236 -0.475266 -0.535888   \n",
       "1 -0.404537 -0.065283  0.0  ... -0.197159  3.353008 -0.560416 -0.535888   \n",
       "2  0.392261 -0.065283  0.0  ... -0.208937  0.581314 -0.976289  2.230725   \n",
       "3 -0.404537 -0.065283  0.0  ... -1.410353  0.492164 -1.697982  1.928981   \n",
       "4 -0.404537 -0.065283  0.0  ...  0.992479  2.257619  0.245933 -0.535888   \n",
       "\n",
       "         20        21        22        23        24       25  \n",
       "0 -0.113971 -0.063768 -0.104688 -0.027493 -0.070961 -0.08256  \n",
       "1 -0.113971 -0.063768 -0.104688 -0.027493 -0.070961 -0.08256  \n",
       "2 -0.113971 -0.063768 -0.104688 -0.027493 -0.070961 -0.08256  \n",
       "3 -0.113971 -0.063768 -0.104688 -0.027493 -0.070961 -0.08256  \n",
       "4 -0.113971 -0.063768 -0.104688 -0.027493 -0.070961 -0.08256  \n",
       "\n",
       "[5 rows x 26 columns]"
      ]
     },
     "execution_count": 60,
     "metadata": {},
     "output_type": "execute_result"
    }
   ],
   "source": [
    "scaler = StandardScaler()\n",
    "scaler.fit(X)\n",
    "X = scaler.transform(X)\n",
    "X_test = scaler.transform(X_test)\n",
    "X_valid = scaler.transform(X_valid)\n",
    "X = pd.DataFrame(X)\n",
    "X.head()"
   ]
  },
  {
   "cell_type": "markdown",
   "id": "ed1bae44",
   "metadata": {},
   "source": [
    "## Обучение"
   ]
  },
  {
   "cell_type": "markdown",
   "id": "cd0957bf",
   "metadata": {},
   "source": [
    "#### LGBMRegressor"
   ]
  },
  {
   "cell_type": "code",
   "execution_count": 74,
   "id": "c33b827a",
   "metadata": {},
   "outputs": [
    {
     "name": "stdout",
     "output_type": "stream",
     "text": [
      "MAE для LightGBM: 7.115337253871713 \n",
      "Глубина: 3\n",
      "Количество деревьев: 25 \n",
      "\n",
      "Wall time: 45.5 s\n"
     ]
    }
   ],
   "source": [
    "# кросс_валидация\n",
    "%%time\n",
    "#best_model = None\n",
    "best_mae = 4000\n",
    "#best_count_eterations = 0\n",
    "best_est = 0\n",
    "best_depth = 0\n",
    "for est in range(1, 30, 3):\n",
    "    for depth in range(1, 12, 1):\n",
    "        \n",
    "        model = LGBMRegressor(random_state=12345, depth=depth, n_estimators=est)\n",
    "        mae = cross_val_score(model, X, y, scoring=make_scorer(mean_absolute_error), cv=5, n_jobs=-1).mean()\n",
    "        if mae < best_mae:\n",
    "            #best_model = model\n",
    "            best_mae = mae\n",
    "            best_depth = depth\n",
    "            best_est = est\n",
    "            \n",
    "        \n",
    "print('MAE для LightGBM:', best_mae,'\\nГлубина: 3\\nКоличество деревьев:', best_est, '\\n')"
   ]
  },
  {
   "cell_type": "code",
   "execution_count": 77,
   "id": "cfe70cff",
   "metadata": {},
   "outputs": [
    {
     "name": "stdout",
     "output_type": "stream",
     "text": [
      "[LightGBM] [Warning] Unknown parameter: depth\n",
      "MAE для LightGBM: 6.880670469951761 \n",
      "Глубина: 3\n",
      "Количество деревьев: 25 \n",
      "\n",
      "Wall time: 34.9 ms\n"
     ]
    }
   ],
   "source": [
    "# без крос_валидации\n",
    "%%time \n",
    "\n",
    "model = LGBMRegressor(random_state=12345, depth=3, n_estimators=25)\n",
    "model.fit(X,y)\n",
    "predictions = model.predict(X_valid)\n",
    "mae = mean_absolute_error(y_valid, predictions).mean()\n",
    "\n",
    "print('MAE для LightGBM:', mae,'\\nГлубина: 3\\nКоличество деревьев:', best_est, '\\n')"
   ]
  },
  {
   "cell_type": "code",
   "execution_count": 78,
   "id": "d2bfadb3",
   "metadata": {},
   "outputs": [
    {
     "name": "stdout",
     "output_type": "stream",
     "text": [
      "MAE для LightGBM: 7.248762854862485 \n",
      "Глубина: 3\n",
      "Количество деревьев: 25 \n",
      "\n"
     ]
    }
   ],
   "source": [
    "# тест\n",
    "predictions = model.predict(X_test)\n",
    "mae = mean_absolute_error(y_test, predictions).mean()\n",
    "\n",
    "print('MAE для LightGBM:', mae,'\\nГлубина: 3\\nКоличество деревьев:', best_est, '\\n')"
   ]
  },
  {
   "cell_type": "markdown",
   "id": "937c9b44",
   "metadata": {},
   "source": [
    "#### Линейная регрессия"
   ]
  },
  {
   "cell_type": "code",
   "execution_count": 62,
   "id": "e9eb1df7",
   "metadata": {},
   "outputs": [
    {
     "name": "stdout",
     "output_type": "stream",
     "text": [
      "MAE для линейной регрессии: 7.19015758946652\n",
      "Wall time: 4.99 ms\n"
     ]
    }
   ],
   "source": [
    "%%time\n",
    "    \n",
    "model = LinearRegression()\n",
    "model.fit(X,y)\n",
    "pred = model.predict(X_valid)\n",
    "mae = mean_absolute_error(y_valid, pred)\n",
    "\n",
    "\n",
    "print('MAE для линейной регрессии:', mae)\n"
   ]
  },
  {
   "cell_type": "code",
   "execution_count": 63,
   "id": "78bc92f8",
   "metadata": {},
   "outputs": [
    {
     "name": "stdout",
     "output_type": "stream",
     "text": [
      "MAE для линейной регрессии: 7.282927929034507\n"
     ]
    }
   ],
   "source": [
    "pred = model.predict(X_test)\n",
    "mae = mean_absolute_error(y_test, pred)\n",
    "\n",
    "\n",
    "print('MAE для линейной регрессии:', mae)\n"
   ]
  },
  {
   "cell_type": "markdown",
   "id": "a0e7b8a7",
   "metadata": {},
   "source": [
    "#### Дерево решений"
   ]
  },
  {
   "cell_type": "code",
   "execution_count": 80,
   "id": "7a5272eb",
   "metadata": {},
   "outputs": [
    {
     "name": "stdout",
     "output_type": "stream",
     "text": [
      "RMSE для DecisionTreeRegressor: 7.583515384554604 \n",
      "Глубина: 4 \n",
      "\n",
      "Wall time: 782 ms\n"
     ]
    }
   ],
   "source": [
    "%%time\n",
    "best_model = None\n",
    "best_mae = 4000\n",
    "\n",
    "for depth in range(1, 50, 3):\n",
    "    model = DecisionTreeRegressor(max_depth=depth, random_state=12345)\n",
    "    mae = cross_val_score(model, X, y, cv=5, scoring=make_scorer(mean_absolute_error))\n",
    "    mae_dec = mae.mean()\n",
    "    if mae_dec < best_mae:\n",
    "        best_mae = mae_dec\n",
    "        best_depth = depth\n",
    "        best_model = model\n",
    "\n",
    "print('RMSE для DecisionTreeRegressor:', best_mae,'\\nГлубина:',best_depth,'\\n')"
   ]
  },
  {
   "cell_type": "markdown",
   "id": "8b470472",
   "metadata": {},
   "source": [
    "#### Случайный лес"
   ]
  },
  {
   "cell_type": "code",
   "execution_count": 91,
   "id": "4347f28b",
   "metadata": {},
   "outputs": [
    {
     "name": "stdout",
     "output_type": "stream",
     "text": [
      "RMSE для RandomForestRegressor: 7.016591396047838 \n",
      "Глубина: 10 \n",
      "Количество деревьев: 21 \n",
      "\n",
      "Wall time: 28.5 s\n"
     ]
    }
   ],
   "source": [
    "%%time\n",
    "best_model = None\n",
    "best_mae = 4000\n",
    "best_est = 0\n",
    "best_depth = 0\n",
    "for est in range( 9, 50, 3):\n",
    "    for depth in range(1, 15, 3):\n",
    "        model = RandomForestRegressor(random_state=12345, max_depth=depth, n_estimators=est)\n",
    "        mae = cross_val_score(model,  X, y, cv=5, scoring=make_scorer(mean_absolute_error))\n",
    "        mae = mae.mean()\n",
    "        if mae < best_mae:\n",
    "            best_model = model\n",
    "            best_mae = mae\n",
    "            best_depth = depth\n",
    "            best_est = est\n",
    "            \n",
    "print('RMSE для RandomForestRegressor:', best_mae,'\\nГлубина:',best_depth,'\\nКоличество деревьев:', best_est, '\\n')"
   ]
  },
  {
   "cell_type": "code",
   "execution_count": 87,
   "id": "04512b63",
   "metadata": {},
   "outputs": [
    {
     "data": {
      "text/plain": [
       "11"
      ]
     },
     "execution_count": 87,
     "metadata": {},
     "output_type": "execute_result"
    }
   ],
   "source": [
    "best_depth"
   ]
  },
  {
   "cell_type": "markdown",
   "id": "35df8e11",
   "metadata": {},
   "source": [
    "#### Проверка важности"
   ]
  },
  {
   "cell_type": "code",
   "execution_count": 64,
   "id": "59fd8edd",
   "metadata": {},
   "outputs": [
    {
     "name": "stdout",
     "output_type": "stream",
     "text": [
      "Feature: 0, Score: 5.10518\n",
      "Feature: 1, Score: -1.51790\n",
      "Feature: 2, Score: -1.37105\n",
      "Feature: 3, Score: 2.42080\n",
      "Feature: 4, Score: -0.53939\n",
      "Feature: 5, Score: 0.30036\n",
      "Feature: 6, Score: -0.27985\n",
      "Feature: 7, Score: -1.04576\n",
      "Feature: 8, Score: 0.90594\n",
      "Feature: 9, Score: -0.00000\n",
      "Feature: 10, Score: -0.65551\n",
      "Feature: 11, Score: 0.27758\n",
      "Feature: 12, Score: -0.73184\n",
      "Feature: 13, Score: 0.89904\n",
      "Feature: 14, Score: -1.22059\n",
      "Feature: 15, Score: -0.36335\n",
      "Feature: 16, Score: 0.93952\n",
      "Feature: 17, Score: -0.61086\n",
      "Feature: 18, Score: 2.39042\n",
      "Feature: 19, Score: -1.39609\n",
      "Feature: 20, Score: -0.25128\n",
      "Feature: 21, Score: -2.31121\n",
      "Feature: 22, Score: -0.40332\n",
      "Feature: 23, Score: -1.28635\n",
      "Feature: 24, Score: 0.85192\n",
      "Feature: 25, Score: 0.10511\n"
     ]
    },
    {
     "data": {
      "image/png": "[encoded data removed]",
      "text/plain": [
       "<Figure size 432x288 with 1 Axes>"
      ]
     },
     "metadata": {
      "needs_background": "light"
     },
     "output_type": "display_data"
    }
   ],
   "source": [
    "importance = model.coef_\n",
    "# summarize feature importance\n",
    "for i,v in enumerate(importance):\n",
    "    print('Feature: %0d, Score: %.5f' % (i,v))\n",
    "# plot feature importance\n",
    "plt.bar([x for x in range(len(importance))], importance)\n",
    "plt.show()"
   ]
  }
 ],
 "metadata": {
  "kernelspec": {
   "display_name": "Python 3",
   "language": "python",
   "name": "python3"
  },
  "language_info": {
   "codemirror_mode": {
    "name": "ipython",
    "version": 3
   },
   "file_extension": ".py",
   "mimetype": "text/x-python",
   "name": "python",
   "nbconvert_exporter": "python",
   "pygments_lexer": "ipython3",
   "version": "3.8.8"
  }
 },
 "nbformat": 4,
 "nbformat_minor": 5
}
